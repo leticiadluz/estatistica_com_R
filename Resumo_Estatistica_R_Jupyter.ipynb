{
 "cells": [
  {
   "cell_type": "markdown",
   "id": "593c6e3c",
   "metadata": {},
   "source": [
    "### Neste documento foi realizado um pequeno resumo dos principais conceitos da estatística"
   ]
  },
  {
   "cell_type": "markdown",
   "id": "970a565c",
   "metadata": {},
   "source": [
    "![estatistica](estatistica1.jpg)"
   ]
  },
  {
   "cell_type": "markdown",
   "id": "50658058",
   "metadata": {},
   "source": [
    "## Estatística Descritiva\n",
    "\n",
    "![estatistica](estatistica2.jpg)"
   ]
  },
  {
   "cell_type": "code",
   "execution_count": 1,
   "id": "ab8ac570",
   "metadata": {},
   "outputs": [],
   "source": [
    "#Vamos gerar uma massa de dados aleatórios para descrever e aplicar os principais conceitos em estatística descritiva \n",
    "# Usamos sample() para criar amostras aleatórias de um conjunto de dados ou intervalo.\n",
    "# 1:50: Isso define o intervalo de onde queremos amostrar.\n",
    "#1000: Esse é o tamanho da amostra que queremos gerar\n",
    "#replace = TRUE: amostragem é com reposição, o que significa que um número pode ser escolhido mais de uma vez na amostra.\n",
    "dados <- sample(1:50, 1000, replace = TRUE)"
   ]
  },
  {
   "cell_type": "code",
   "execution_count": 2,
   "id": "9f042452",
   "metadata": {},
   "outputs": [
    {
     "data": {
      "text/html": [
       "26.002"
      ],
      "text/latex": [
       "26.002"
      ],
      "text/markdown": [
       "26.002"
      ],
      "text/plain": [
       "[1] 26.002"
      ]
     },
     "metadata": {},
     "output_type": "display_data"
    }
   ],
   "source": [
    "#Calculo da média\n",
    "mean(dados)"
   ]
  },
  {
   "cell_type": "code",
   "execution_count": 3,
   "id": "19e7b58c",
   "metadata": {},
   "outputs": [
    {
     "data": {
      "text/plain": [
       "   Min. 1st Qu.  Median    Mean 3rd Qu.    Max. \n",
       "      1      13      26      26      39      50 "
      ]
     },
     "metadata": {},
     "output_type": "display_data"
    }
   ],
   "source": [
    "#Resumo estatístico dos dados\n",
    "summary(dados)"
   ]
  },
  {
   "cell_type": "code",
   "execution_count": 4,
   "id": "2706cf9e",
   "metadata": {},
   "outputs": [
    {
     "data": {
      "text/html": [
       "26"
      ],
      "text/latex": [
       "26"
      ],
      "text/markdown": [
       "26"
      ],
      "text/plain": [
       "[1] 26"
      ]
     },
     "metadata": {},
     "output_type": "display_data"
    }
   ],
   "source": [
    "#Calculo da mediana\n",
    "# Ela representa o valor do meio de um conjunto de dados ordenado\n",
    "#A mediana é uma medida de tendência central que é menos sensível a valores extremos (outliers) do que a média aritmética\n",
    "# Quando calculamos a mediana, 50% dos valores são maiores do que a mediana e 50% dos valores são menores do que a mediana.\n",
    "median(dados)"
   ]
  },
  {
   "cell_type": "markdown",
   "id": "4e189d06",
   "metadata": {},
   "source": [
    "**Uma distribuição de frequência que apresenta apenas uma moda é chamada de unimodal.     \n",
    "Se a distribuição apresenta dois pontos de alta concentração ela é chamada de bimodal.   \n",
    "Distribuições bimodais ou multimodais podem indicar que na realidade a distribuição de frequência se refere a duas populações cujas medidas foram misturadas.**"
   ]
  },
  {
   "cell_type": "code",
   "execution_count": 5,
   "id": "8cbca9ee",
   "metadata": {},
   "outputs": [
    {
     "data": {
      "text/html": [
       "'11'"
      ],
      "text/latex": [
       "'11'"
      ],
      "text/markdown": [
       "'11'"
      ],
      "text/plain": [
       "[1] \"11\""
      ]
     },
     "metadata": {},
     "output_type": "display_data"
    }
   ],
   "source": [
    "# Criar uma tabela de frequência\n",
    "#A função table(dados) conta quantas vezes cada valor único ocorre no vetor dados\n",
    "tabela_frequencia <- table(dados)\n",
    "\n",
    "# A função which.max() é usada para encontrar o índice do valor com a maior frequência na tabela de frequência \n",
    "# A função names() acessará o valor diretamente, sem exibir o índice associado a ele. \n",
    "names(which.max(tabela_frequencia))"
   ]
  },
  {
   "cell_type": "code",
   "execution_count": 6,
   "id": "c3119a9b",
   "metadata": {},
   "outputs": [
    {
     "data": {
      "text/html": [
       "<style>\n",
       ".list-inline {list-style: none; margin:0; padding: 0}\n",
       ".list-inline>li {display: inline-block}\n",
       ".list-inline>li:not(:last-child)::after {content: \"\\00b7\"; padding: 0 .5ex}\n",
       "</style>\n",
       "<ol class=list-inline><li>1</li><li>50</li></ol>\n"
      ],
      "text/latex": [
       "\\begin{enumerate*}\n",
       "\\item 1\n",
       "\\item 50\n",
       "\\end{enumerate*}\n"
      ],
      "text/markdown": [
       "1. 1\n",
       "2. 50\n",
       "\n",
       "\n"
      ],
      "text/plain": [
       "[1]  1 50"
      ]
     },
     "metadata": {},
     "output_type": "display_data"
    }
   ],
   "source": [
    "#Valor máximo e mínimo\n",
    "range(dados)"
   ]
  },
  {
   "cell_type": "code",
   "execution_count": 7,
   "id": "45d3c992",
   "metadata": {},
   "outputs": [
    {
     "data": {
      "text/html": [
       "49"
      ],
      "text/latex": [
       "49"
      ],
      "text/markdown": [
       "49"
      ],
      "text/plain": [
       "[1] 49"
      ]
     },
     "metadata": {},
     "output_type": "display_data"
    }
   ],
   "source": [
    "#Amplitude dos valores\n",
    "diff(range(dados))"
   ]
  },
  {
   "cell_type": "markdown",
   "id": "e09095de",
   "metadata": {},
   "source": [
    "**Os quartis são valores que dividem os dados em quatro partes iguais, representando o primeiro quartil (Q1=245%), o segundo quartil (Q2, que é a mediana, 50%), e o terceiro quartil (Q3=75%).**\n",
    "\n",
    "**Primeiro Quartil (Q1):** Também conhecido como quartil 25% ou percentil 25%, Q1 é o valor que divide o conjunto de dados em 25% inferior e 75% superior. Isso significa que 25% dos dados estão abaixo de Q1 e 75% dos dados estão acima de Q1. No diagrama de caixa é a primeira linha da caixa. \n",
    "\n",
    "**Segundo Quartil (Q2):** O segundo quartil, que é a mediana, divide o conjunto de dados em 50% inferior e 50% superior. Isso significa que metade dos dados estão abaixo de Q2 e metade está acima de Q2. E a linha do meio do diagrama de caixa. \n",
    "\n",
    "**Terceiro Quartil (Q3):** Também conhecido como quartil 75% ou percentil 75%, Q3 é o valor que divide o conjunto de dados em 75% inferior e 25% superior. Isso significa que 75% dos dados estão abaixo de Q3 e 25% dos dados estão acima de Q3. No diagrama de caixa é a terceira linha da caixa. \n",
    "\n",
    "**Valor mínimo NÃO DISCREPANTE é representado 'bigode inferior'.**  \n",
    "**Valor máximo NÃO DISCREPANTE é representado pelo 'bigode superior'.** \n"
   ]
  },
  {
   "cell_type": "code",
   "execution_count": 8,
   "id": "f503caf1",
   "metadata": {},
   "outputs": [
    {
     "data": {
      "text/html": [
       "<table class=\"dataframe\">\n",
       "<caption>A data.frame: 5 × 1</caption>\n",
       "<thead>\n",
       "\t<tr><th></th><th scope=col>quantile.dados.</th></tr>\n",
       "\t<tr><th></th><th scope=col>&lt;dbl&gt;</th></tr>\n",
       "</thead>\n",
       "<tbody>\n",
       "\t<tr><th scope=row>0%</th><td> 1</td></tr>\n",
       "\t<tr><th scope=row>25%</th><td>13</td></tr>\n",
       "\t<tr><th scope=row>50%</th><td>26</td></tr>\n",
       "\t<tr><th scope=row>75%</th><td>39</td></tr>\n",
       "\t<tr><th scope=row>100%</th><td>50</td></tr>\n",
       "</tbody>\n",
       "</table>\n"
      ],
      "text/latex": [
       "A data.frame: 5 × 1\n",
       "\\begin{tabular}{r|l}\n",
       "  & quantile.dados.\\\\\n",
       "  & <dbl>\\\\\n",
       "\\hline\n",
       "\t0\\% &  1\\\\\n",
       "\t25\\% & 13\\\\\n",
       "\t50\\% & 26\\\\\n",
       "\t75\\% & 39\\\\\n",
       "\t100\\% & 50\\\\\n",
       "\\end{tabular}\n"
      ],
      "text/markdown": [
       "\n",
       "A data.frame: 5 × 1\n",
       "\n",
       "| <!--/--> | quantile.dados. &lt;dbl&gt; |\n",
       "|---|---|\n",
       "| 0% |  1 |\n",
       "| 25% | 13 |\n",
       "| 50% | 26 |\n",
       "| 75% | 39 |\n",
       "| 100% | 50 |\n",
       "\n"
      ],
      "text/plain": [
       "     quantile.dados.\n",
       "0%    1             \n",
       "25%  13             \n",
       "50%  26             \n",
       "75%  39             \n",
       "100% 50             "
      ]
     },
     "metadata": {},
     "output_type": "display_data"
    }
   ],
   "source": [
    "quartis <- data.frame(quantile(dados))\n",
    "quartis"
   ]
  },
  {
   "cell_type": "markdown",
   "id": "248026ee",
   "metadata": {},
   "source": [
    "**O IQR(Intervalo Interquartil) é uma medida de dispersão que representa a diferença entre o terceiro quartil (Q3) e o primeiro quartil (Q1).**"
   ]
  },
  {
   "cell_type": "code",
   "execution_count": 9,
   "id": "c37ce9f4",
   "metadata": {},
   "outputs": [
    {
     "data": {
      "text/html": [
       "26"
      ],
      "text/latex": [
       "26"
      ],
      "text/markdown": [
       "26"
      ],
      "text/plain": [
       "[1] 26"
      ]
     },
     "metadata": {},
     "output_type": "display_data"
    }
   ],
   "source": [
    "IQR(dados)"
   ]
  },
  {
   "cell_type": "code",
   "execution_count": 10,
   "id": "533422f6",
   "metadata": {},
   "outputs": [
    {
     "data": {
      "image/png": "[encoded data removed]",
      "text/plain": [
       "plot without title"
      ]
     },
     "metadata": {
      "image/png": {
       "height": 420,
       "width": 420
      }
     },
     "output_type": "display_data"
    }
   ],
   "source": [
    "boxplot(dados, horizontal = TRUE)"
   ]
  },
  {
   "cell_type": "markdown",
   "id": "2f3453e7",
   "metadata": {},
   "source": [
    "**Limite Inferior:** O limite inferior em um boxplot é calculado como Q1 (primeiro quartil) - 1,5 * IQR (Intervalo Interquartil). Ele é representado por uma linha que estabelece o limite inferior além do qual um valor é considerado um valor atípico (outlier). Qualquer valor abaixo do limite inferior é considerado um possível outlier.  \n",
    "\n",
    "**Limite Superior:** O limite superior em um boxplot é calculado como Q3 (terceiro quartil) + 1,5 * IQR (Intervalo Interquartil). Ele estabelece o limite superior além do qual um valor é considerado um valor atípico. Qualquer valor acima do limite superior é considerado um possível outlier e é frequentemente representado como um ponto no gráfico de boxplot.\n",
    "## Os valores dos limites podem ser encontrados abaixo."
   ]
  },
  {
   "cell_type": "code",
   "execution_count": 11,
   "id": "a94ab0dc",
   "metadata": {},
   "outputs": [
    {
     "data": {
      "text/html": [
       "-26"
      ],
      "text/latex": [
       "-26"
      ],
      "text/markdown": [
       "-26"
      ],
      "text/plain": [
       "[1] -26"
      ]
     },
     "metadata": {},
     "output_type": "display_data"
    },
    {
     "data": {
      "text/html": [
       "78"
      ],
      "text/latex": [
       "78"
      ],
      "text/markdown": [
       "78"
      ],
      "text/plain": [
       "[1] 78"
      ]
     },
     "metadata": {},
     "output_type": "display_data"
    }
   ],
   "source": [
    "quartis[2,] - 1.5 * IQR(dados)  # acessando linha 2, há somente uma coluna\n",
    "quartis[4,] + 1.5 * IQR(dados)  # Linha 4, há somente uma coluna"
   ]
  },
  {
   "cell_type": "code",
   "execution_count": 12,
   "id": "071e7cf0",
   "metadata": {},
   "outputs": [
    {
     "name": "stderr",
     "output_type": "stream",
     "text": [
      "Warning message:\n",
      "\"package 'ggplot2' was built under R version 4.2.3\"\n"
     ]
    }
   ],
   "source": [
    "library(ggplot2) #Permite criar um gráfico mais personalizável"
   ]
  },
  {
   "cell_type": "code",
   "execution_count": 13,
   "id": "e733c320",
   "metadata": {},
   "outputs": [
    {
     "data": {
      "image/png": "[encoded data removed]",
      "text/plain": [
       "plot without title"
      ]
     },
     "metadata": {
      "image/png": {
       "height": 420,
       "width": 420
      }
     },
     "output_type": "display_data"
    }
   ],
   "source": [
    "ggplot() + #argumento aes(y = Valores) especifica que os valores dos dados devem ser plotados no eixo y. \n",
    "  geom_boxplot(aes(y = dados), fill = 'lightblue') + \n",
    "  coord_flip() + # Inverte os eixos para criar o boxplot horizontal\n",
    " theme(axis.text.x = element_text(size = 14),  # Ajuste o tamanho dos números no eixo x\n",
    "        axis.text.y = element_text(size = 14))  # Ajuste o tamanho dos números no eixo y"
   ]
  },
  {
   "cell_type": "markdown",
   "id": "e624547c",
   "metadata": {},
   "source": [
    "### Percentis são uma medida estatística que divide um conjunto de dados em 100 partes iguais. Eles são usados para entender a distribuição dos valores dentro de um conjunto de dados e identificar a posição relativa de um valor em relação aos outros valores."
   ]
  },
  {
   "cell_type": "code",
   "execution_count": 14,
   "id": "2bd41882",
   "metadata": {},
   "outputs": [
    {
     "data": {
      "text/html": [
       "<strong>10%:</strong> 6"
      ],
      "text/latex": [
       "\\textbf{10\\textbackslash{}\\%:} 6"
      ],
      "text/markdown": [
       "**10%:** 6"
      ],
      "text/plain": [
       "10% \n",
       "  6 "
      ]
     },
     "metadata": {},
     "output_type": "display_data"
    },
    {
     "data": {
      "text/html": [
       "<strong>90%:</strong> 46"
      ],
      "text/latex": [
       "\\textbf{90\\textbackslash{}\\%:} 46"
      ],
      "text/markdown": [
       "**90%:** 46"
      ],
      "text/plain": [
       "90% \n",
       " 46 "
      ]
     },
     "metadata": {},
     "output_type": "display_data"
    }
   ],
   "source": [
    "quantile(dados, probs = 0.10) # 10º percentil\n",
    "quantile(dados, probs = 0.90) #90º percentil."
   ]
  },
  {
   "cell_type": "markdown",
   "id": "63e4d17d",
   "metadata": {},
   "source": [
    "## Medidas de Dispersão"
   ]
  },
  {
   "cell_type": "markdown",
   "id": "6a071861",
   "metadata": {},
   "source": [
    "### Variância \n",
    "\n",
    "**A variância é uma medida estatística que descreve o grau de dispersão ou variabilidade em um conjunto de dados. Ela nos ajuda a entender quão longe os valores individuais estão da média do conjunto de dados. Quanto maior a variância, mais dispersos estão os dados em relação à média, e quanto menor a variância, mais próximos os dados estão da média.**\n",
    "\n",
    "A fórmula da variância é dada por:\n",
    "\n",
    "**Variância(σ2)=   ∑(Xi−μ)² / N**  \n",
    "\n",
    "Onde:   \n",
    "σ² é a variância;  \n",
    "Xi representa cada valor no conjunto de dados;\n",
    "μ é a média dos valores;    \n",
    "∑ representa a soma dos quadrados dos desvios dos valores Xi em relação à média µ.\n",
    "N é o número de valores no conjunto de dados;  \n",
    "                   \n",
    "**Quando medimos a diferença entre a média de uma amostra e um valor individual (Xi - X), ao final, a soma das dos desvios será igual 0, para corrigir este problema calculamos o quadrado de cada desvio. Desta forma, a razão pela qual os desvios são elevados ao quadrado na fórmula da variância é para evitar que os desvios positivos e negativos se anulem.**"
   ]
  },
  {
   "cell_type": "code",
   "execution_count": 15,
   "id": "b1f92589",
   "metadata": {},
   "outputs": [
    {
     "data": {
      "text/html": [
       "209.905901901902"
      ],
      "text/latex": [
       "209.905901901902"
      ],
      "text/markdown": [
       "209.905901901902"
      ],
      "text/plain": [
       "[1] 209.9059"
      ]
     },
     "metadata": {},
     "output_type": "display_data"
    }
   ],
   "source": [
    "var(dados)"
   ]
  },
  {
   "cell_type": "markdown",
   "id": "42c9068d",
   "metadata": {},
   "source": [
    "## Desvio Padrão\n",
    "\n",
    "**raiz quadrada da variância**\n",
    "\n",
    "\n",
    "**Como mencionado anteriormente, a variância é medida em unidades ao quadrado, o que a torna menos intuitiva. Para obter uma medida mais interpretável, é comum calcular o desvio padrão, que é a raiz quadrada da variância. O desvio padrão tem as mesmas unidades que os dados originais e é uma medida que quantifica a dispersão dos dados de uma maneira mais compreensível.**"
   ]
  },
  {
   "cell_type": "code",
   "execution_count": 16,
   "id": "e5445fd6",
   "metadata": {},
   "outputs": [
    {
     "data": {
      "text/html": [
       "14.4881296895735"
      ],
      "text/latex": [
       "14.4881296895735"
      ],
      "text/markdown": [
       "14.4881296895735"
      ],
      "text/plain": [
       "[1] 14.48813"
      ]
     },
     "metadata": {},
     "output_type": "display_data"
    }
   ],
   "source": [
    "sd(dados)"
   ]
  },
  {
   "cell_type": "markdown",
   "id": "19de128a",
   "metadata": {},
   "source": [
    "## Correção de Bessel\n",
    "\n",
    "**A correção de Bessel é a prática de ajustar a estimativa da variância amostral usando N−1 graus de liberdade em vez de N, onde N é o tamanho da amostra. Ela é usada para estimar a variabilidade da população com base em uma amostra, tornando a estimativa menos enviesada.**\n",
    "\n",
    "**Isto acorre porque a amostras tendem a ser valores no meio da população, especialmente em distribuições normais, assim a variabilidade destas amostras será menor do que a variabilidade da população inteira.**\n",
    "\n",
    "**Desta forma, ao usarmos N-1 nas fórmulas da variância da amostra ou do desvio padrão da amostra, diminuímos o valor do denominador, tornando o resultado da variância ou do desvio padrão maior e mais representativo da população.** "
   ]
  },
  {
   "cell_type": "markdown",
   "id": "330f4965",
   "metadata": {},
   "source": [
    "**Em R, quando você usa a função var() ou sd(), é aplicado por padrão a correção de Bessel, que utiliza N−1 no denominador para calcular a variância e o desvio padrão amostral.** "
   ]
  },
  {
   "cell_type": "code",
   "execution_count": 17,
   "id": "71141ec0",
   "metadata": {},
   "outputs": [
    {
     "data": {
      "text/html": [
       "209.695996"
      ],
      "text/latex": [
       "209.695996"
      ],
      "text/markdown": [
       "209.695996"
      ],
      "text/plain": [
       "[1] 209.696"
      ]
     },
     "metadata": {},
     "output_type": "display_data"
    }
   ],
   "source": [
    "#Para calcular a variância populacional em R, você pode usar a função var() e depois multiplicar o resultado pela razão \n",
    "# (N-1)/N, onde N é o Tamanho da amostra\n",
    "N <- length(dados)  # Tamanho da amostra\n",
    "var(dados) * (N-1)/N"
   ]
  },
  {
   "cell_type": "code",
   "execution_count": 18,
   "id": "5f231434",
   "metadata": {},
   "outputs": [],
   "source": [
    "#É possível criar uma função para calculo da variância populacional \n",
    "\n",
    "var.p <-function(x)\n",
    "    {N <- length(x) \n",
    "var_pop <- var(x) * (N-1)/N\n",
    "      return(var_pop)\n",
    "}"
   ]
  },
  {
   "cell_type": "code",
   "execution_count": 19,
   "id": "a3e5b848",
   "metadata": {},
   "outputs": [
    {
     "data": {
      "text/html": [
       "209.695996"
      ],
      "text/latex": [
       "209.695996"
      ],
      "text/markdown": [
       "209.695996"
      ],
      "text/plain": [
       "[1] 209.696"
      ]
     },
     "metadata": {},
     "output_type": "display_data"
    }
   ],
   "source": [
    "var.p(dados)"
   ]
  },
  {
   "cell_type": "code",
   "execution_count": 20,
   "id": "eca50fe7",
   "metadata": {},
   "outputs": [
    {
     "data": {
      "text/html": [
       "14.4808838128065"
      ],
      "text/latex": [
       "14.4808838128065"
      ],
      "text/markdown": [
       "14.4808838128065"
      ],
      "text/plain": [
       "[1] 14.48088"
      ]
     },
     "metadata": {},
     "output_type": "display_data"
    }
   ],
   "source": [
    "#Desvio padrão populacional\n",
    "sqrt(var(dados) * (N-1)/N)"
   ]
  },
  {
   "cell_type": "code",
   "execution_count": 21,
   "id": "1c1894ce",
   "metadata": {},
   "outputs": [],
   "source": [
    "#Também podemos criar uma função para o calculo do desvio padrão populacional\n",
    "\n",
    "sd.p <- function(x)\n",
    "    {N <- length(x)\n",
    "var_pop <-var(x) * (N-1)/N\n",
    "sd_pop <- sqrt(var_pop)\n",
    "    return(sd_pop)}"
   ]
  },
  {
   "cell_type": "code",
   "execution_count": 22,
   "id": "8b806200",
   "metadata": {},
   "outputs": [
    {
     "data": {
      "text/html": [
       "14.4808838128065"
      ],
      "text/latex": [
       "14.4808838128065"
      ],
      "text/markdown": [
       "14.4808838128065"
      ],
      "text/plain": [
       "[1] 14.48088"
      ]
     },
     "metadata": {},
     "output_type": "display_data"
    }
   ],
   "source": [
    "sd.p(dados)"
   ]
  },
  {
   "cell_type": "markdown",
   "id": "ac6f6c38",
   "metadata": {},
   "source": [
    "### O coeficiente de variação (CV) é uma medida estatística que expressa a variabilidade de um conjunto de dados como uma porcentagem da média. Ele é usado para avaliar a dispersão relativa dos dados e é especialmente útil ao comparar a variabilidade entre conjuntos de dados com médias diferentes. O CV é uma medida de variabilidade relativa, normalizando a variância pelo valor médio.\n",
    "\n",
    "**A fórmula para calcular o coeficiente de variação é a seguinte:**\n",
    "\n",
    "**CV=(σ/μ)×100%**\n",
    "\n",
    "**Onde:  \n",
    "CV é o coeficiente de variação;    \n",
    "σ é o desvio padrão (pode ser o desvio padrão amostral ou populacional);   \n",
    "μ é a média dos dados.**  \n"
   ]
  },
  {
   "cell_type": "code",
   "execution_count": 23,
   "id": "a74bfc22",
   "metadata": {},
   "outputs": [],
   "source": [
    "#Função para calculo do coeficiente de variação amostral:\n",
    "\n",
    "cv <- function(x)\n",
    "    {desvio <-sd(x)\n",
    "media<- mean(x)\n",
    "coefi_var <-(desvio/media)*100\n",
    "     return(coefi_var)}"
   ]
  },
  {
   "cell_type": "code",
   "execution_count": 24,
   "id": "5a7583c7",
   "metadata": {},
   "outputs": [
    {
     "data": {
      "text/html": [
       "55.7192896299266"
      ],
      "text/latex": [
       "55.7192896299266"
      ],
      "text/markdown": [
       "55.7192896299266"
      ],
      "text/plain": [
       "[1] 55.71929"
      ]
     },
     "metadata": {},
     "output_type": "display_data"
    }
   ],
   "source": [
    "cv(dados)"
   ]
  },
  {
   "cell_type": "code",
   "execution_count": 25,
   "id": "fa1c6485",
   "metadata": {},
   "outputs": [],
   "source": [
    "# Função para calculo do coeficiente de variação populacional. \n",
    "cv.p <- function(x)\n",
    "    {N <- length(x)\n",
    "desvio <-sqrt(var(x) * (N-1)/N)\n",
    "media<- mean(x)\n",
    "coefi_var_pop <-(desvio/media)*100\n",
    "     return(coefi_var_pop)}"
   ]
  },
  {
   "cell_type": "code",
   "execution_count": 26,
   "id": "fd819f3f",
   "metadata": {},
   "outputs": [
    {
     "data": {
      "text/html": [
       "55.6914230167158"
      ],
      "text/latex": [
       "55.6914230167158"
      ],
      "text/markdown": [
       "55.6914230167158"
      ],
      "text/plain": [
       "[1] 55.69142"
      ]
     },
     "metadata": {},
     "output_type": "display_data"
    }
   ],
   "source": [
    "cv.p(dados)"
   ]
  },
  {
   "cell_type": "markdown",
   "id": "437bf87c",
   "metadata": {},
   "source": [
    "## Trabalhando com uma variável"
   ]
  },
  {
   "cell_type": "code",
   "execution_count": 27,
   "id": "39edaebd",
   "metadata": {},
   "outputs": [],
   "source": [
    "# Gerando uma massa de dados com uma distribuição normal em R\n",
    "# Função rnorm() gera uma amostra de dados\n",
    "dados1 <- rnorm(1000, mean = 0, sd = 1)"
   ]
  },
  {
   "cell_type": "markdown",
   "id": "126f8e60",
   "metadata": {},
   "source": [
    "### Histogramas são frequentemente usados para representar a frequência de valores em um conjunto de dados.\n",
    "\n",
    "### Eles são uteis para verificar a distribuição dos dados.\n",
    "\n",
    "### Histogramas são uma ferramenta gráfica que exibe a distribuição de dados ao longo de intervalos contínuos ou classes (chamados de \"bins\" ou \"intervalos\") em um eixo horizontal, com a contagem (ou densidade) de observações em cada classe representada no eixo vertical."
   ]
  },
  {
   "cell_type": "code",
   "execution_count": 28,
   "id": "d0602205",
   "metadata": {},
   "outputs": [
    {
     "data": {
      "image/png": "[encoded data removed]",
      "text/plain": [
       "Plot with title \"Histogram of dados1\""
      ]
     },
     "metadata": {
      "image/png": {
       "height": 420,
       "width": 420
      }
     },
     "output_type": "display_data"
    }
   ],
   "source": [
    "hist(dados1)"
   ]
  },
  {
   "cell_type": "code",
   "execution_count": 29,
   "id": "618ae97c",
   "metadata": {},
   "outputs": [],
   "source": [
    "# Fornece funções para calcular momentos estatísticos, como média, variância, assimetria e curtose, de uma amostra de dados.\n",
    "library(moments)"
   ]
  },
  {
   "cell_type": "markdown",
   "id": "3b0e7b5f",
   "metadata": {},
   "source": [
    "### O coeficiente de assimetria é o que permite dizer se uma determinada distribuição é assimétrica ou não.\n",
    "\n",
    "**O coeficiente de assimetria, também conhecido como medida de assimetria, é uma estatística descritiva que quantifica o grau de assimetria na distribuição de dados. Ele é usado para avaliar se uma distribuição de dados é simétrica, assimétrica positiva (à direita) ou assimétrica negativa (à esquerda). A assimetria em uma distribuição refere-se a como os valores se distribuem em relação à média.**\n",
    "\n",
    "S= 3(μ−M)/σ  \n",
    "\n",
    "Onde:  \n",
    "S é a medida de assimetria.  \n",
    "μ é a média da amostra.  \n",
    "M é a mediana da amostra.  \n",
    "σ é o desvio padrão da amostra.\n",
    "\n",
    "\n",
    "S>0, a distribuição é assimétrica positiva (inclinada para a direita);  \n",
    "S<0, a distribuição é assimétrica negativa (inclinada para a esquerda);  \n",
    "S=0, a distribuição é simétrica;  "
   ]
  },
  {
   "cell_type": "code",
   "execution_count": 30,
   "id": "4573c701",
   "metadata": {},
   "outputs": [
    {
     "data": {
      "text/html": [
       "-0.0581289010897565"
      ],
      "text/latex": [
       "-0.0581289010897565"
      ],
      "text/markdown": [
       "-0.0581289010897565"
      ],
      "text/plain": [
       "[1] -0.0581289"
      ]
     },
     "metadata": {},
     "output_type": "display_data"
    }
   ],
   "source": [
    "skewness(dados1)"
   ]
  },
  {
   "cell_type": "markdown",
   "id": "a10cd0f0",
   "metadata": {},
   "source": [
    "**Se o coeficiente de assimetria for igual a 0, a distribuição é simétrica. Isso significa que os valores estão igualmente distribuídos em ambos os lados da média, e a curva da distribuição terá uma forma aproximadamente em sino.**"
   ]
  },
  {
   "cell_type": "code",
   "execution_count": 31,
   "id": "f526b915",
   "metadata": {},
   "outputs": [
    {
     "data": {
      "image/png": "[encoded data removed]",
      "text/plain": [
       "Plot with title \"Histogram of dados1\""
      ]
     },
     "metadata": {
      "image/png": {
       "height": 420,
       "width": 420
      }
     },
     "output_type": "display_data"
    }
   ],
   "source": [
    "#Distribuição simétrica\n",
    "hist(dados1)"
   ]
  },
  {
   "cell_type": "markdown",
   "id": "e489d891",
   "metadata": {},
   "source": [
    "**Se o coeficiente de assimetria for maior que 0, a distribuição é assimétrica positiva (à direita). Isso indica que a cauda direita da distribuição é mais longa, e a maioria dos valores está concentrada à esquerda da média.** \n",
    "\n",
    "![assimetricapositiva](assime.posi.jpg)"
   ]
  },
  {
   "cell_type": "markdown",
   "id": "ca5e1228",
   "metadata": {},
   "source": [
    "**Se o coeficiente de assimetria for menor que 0, a distribuição é assimétrica negativa (à esquerda). Isso indica que a cauda esquerda da distribuição é mais longa, e a maioria dos valores está concentrada à direita da média.**\n",
    "\n",
    "![assimetrica.negativa](assime.nega.jpg)"
   ]
  },
  {
   "cell_type": "markdown",
   "id": "69c65a80",
   "metadata": {},
   "source": [
    "### O coeficiente de curtose, também conhecido como medida de curtose, é uma estatística que descreve a forma da distribuição de probabilidade de um conjunto de dados. Ele mede o grau de achatamento ou agudeza da curva da distribuição. Em outras palavras, a curtose indica quão \"pesadas\" ou \"leves\" são as caudas da distribuição em relação à sua parte central.\n",
    "\n",
    "### Desta forma, o coeficiente de curtose é uma medida que caracteriza o achatamento da curva da função de distribuição.\n",
    "\n",
    "![curtose](08-curtose.jpeg)"
   ]
  },
  {
   "cell_type": "code",
   "execution_count": 32,
   "id": "0679f7d0",
   "metadata": {},
   "outputs": [
    {
     "data": {
      "text/html": [
       "2.91493751423962"
      ],
      "text/latex": [
       "2.91493751423962"
      ],
      "text/markdown": [
       "2.91493751423962"
      ],
      "text/plain": [
       "[1] 2.914938"
      ]
     },
     "metadata": {},
     "output_type": "display_data"
    }
   ],
   "source": [
    "kurtosis(dados1)"
   ]
  },
  {
   "cell_type": "markdown",
   "id": "36854d3a",
   "metadata": {},
   "source": [
    "**CK ≈ 0: Distribuição normal. Chamada de Curtose Mesocúrtica.**    \n",
    "**CK < 0: Cauda mais leve que a normal. Para um coeficiente de Curtose negativo, tem-se uma Curtose Platicúrtica.    \n",
    "CK > 0: Cauda mais pesada que a normal. Para um coeficiente de Curtose positivo, tem-se uma Curtose Leptocúrtica.**  \n",
    "\n",
    "**O coeficiente de curtose é igual a 2.37652. Logo, como o valor de CK é maior que 0, a curva é Leptocúrtica. Isso significa que a curva tem caudas mais pesadas e um pico mais pronunciado do que a curva normal.**"
   ]
  },
  {
   "cell_type": "markdown",
   "id": "9faea5e7",
   "metadata": {},
   "source": [
    "## Construção de um histograma com ggplot para visualizar a distribuição dos dados\n",
    "\n",
    "1 - É necessário criar um data frame a partir de um vetor de dados para que possamos usar esses dados em conjunto com a biblioteca ggplot2, **que espera que os dados estejam em um formato de data frame ou tibble.**  \n",
    "2-  A função ggplot() recebe dois argumentos principais: o primeiro é o conjunto de dados (neste caso, \"datasim\") e o segundo é a estética (aes), que define como as variáveis são mapeadas nos elementos do gráfico. Neste código, estamos mapeando a variável \"dados1\" no eixo x.\n",
    "3 - binwidth = 2 significa que os intervalos do histograma terão uma largura de 2 unidades.  \n",
    "4 - A função geom_histogram cria as barras do histograma. O argumento aes(y = ..density..) mapeia o eixo y para a densidade em vez da contagem. Além disso, define a cor de preenchimento das barras como vermelho com uma transparência de 0,5.  \n",
    "5 - geom_density(colour = 'blue'): estamos adicionando uma camada de gráfico de densidade ao gráfico. O gráfico de densidade mostra a estimativa da densidade de probabilidade dos dados. A cor das linhas de densidade é definida como azul.  \n",
    "6 - xlab(expression(bold('Dados'))) + ylab(expression(bold('Densidade'))): Esamos configurando os rótulos dos eixos x e y do gráfico. Estamos usando a função expression para definir rótulos em negrito. O eixo x é rotulado como \"Dados\" e o eixo y como \"Densidade\"."
   ]
  },
  {
   "cell_type": "code",
   "execution_count": 33,
   "id": "608bb2f3",
   "metadata": {},
   "outputs": [
    {
     "name": "stderr",
     "output_type": "stream",
     "text": [
      "Warning message:\n",
      "\"\u001b[1m\u001b[22mThe dot-dot notation (`..density..`) was deprecated in ggplot2 3.4.0.\n",
      "\u001b[36mℹ\u001b[39m Please use `after_stat(density)` instead.\"\n",
      "\u001b[1m\u001b[22m`stat_bin()` using `bins = 30`. Pick better value with `binwidth`.\n"
     ]
    },
    {
     "data": {
      "image/png": "[encoded data removed]",
      "text/plain": [
       "plot without title"
      ]
     },
     "metadata": {
      "image/png": {
       "height": 420,
       "width": 420
      }
     },
     "output_type": "display_data"
    }
   ],
   "source": [
    "# Histograma com ggplot2\n",
    "datasim <- data.frame(dados1) #Criando um data frame. \n",
    "ggplot(datasim, aes(x = dados1), binwidth = 2) + #Informando os argumentos necessários, bins com largura de 2 unidades.\n",
    "  geom_histogram(aes(y = ..density..), fill = 'red', alpha = 0.5) + #Eixo y= densid.; preenchimen.= vermelho; transpar.= 0,5\n",
    "  geom_density(colour = 'blue') +  #densidade de probabilidade dos dados e azul\n",
    "xlab(expression(bold('Dados'))) + # Rótulo eixo x\n",
    "  ylab(expression(bold('Densidade')))# Rótulo eixo y"
   ]
  },
  {
   "cell_type": "markdown",
   "id": "d101bdc6",
   "metadata": {},
   "source": [
    "## Trabalhando com duas variáveis\n",
    "## Covariância \n",
    "\n",
    "A covariância entre duas variáveis (X, Y) é uma medida de variabilidade conjunta dessas duas variáveis aleatórias. Quando a covariâncias entre essas variáveis é positiva os dados apresentam tendência positiva na dispersão. Quando o valor da covariância é negativo, o comportamento é análogo, no entanto, os dados apresentam tendências negativas.Covariância é uma medida de como as alterações em uma variável estão associadas a mudanças em uma segunda variável. **Especificamente, a covariância mede o grau em que duas variáveis estão linearmente associadas. Ela mede como as duas variáveis tendem a variar juntas.** No entanto, também é frequentemente usado informalmente como uma medida geral de como duas variáveis são monotonicamente relacionadas. "
   ]
  },
  {
   "cell_type": "markdown",
   "id": "8364e373",
   "metadata": {},
   "source": [
    "## Coeficiente de Correlação \n",
    "\n",
    "**A correlação é uma medida padronizada da relação linear entre duas variáveis.** Ela é uma versão em escala de covariância que assume valores em [−1,1] com uma correlação de ± 1 indicando associação linear perfeita e 0 indicando nenhuma relação linear. Esse escalonamento torna a correlação invariante às mudanças na escala das variáveis originais. A constante de escala é o produto dos desvios padrão das duas variáveis. **Portanto, o Coeficiente de Correlação p mede o grau de correlação entre duas variáveis.** \n",
    "\n",
    "Para p = 1, tem-se uma correlação perfeita entre as duas variáveis.   \n",
    "Se p = - 1, há uma correlação perfeita entre as variáveis, no entanto, essa correlação é negativa.   \n",
    "Caso p = 0, as duas variáveis não dependem linearmente uma da outra.  \n",
    "\n",
    "Para p = -1 indica uma forte correlação negativa: isso significa que toda vez que x aumenta, y diminui;     \n",
    "Para p = 0 significa que não há associação entre as duas variáveis (x e y);     \n",
    "Para p = 1 indica uma forte correlação positiva: isso significa que y aumenta com x.     "
   ]
  },
  {
   "cell_type": "markdown",
   "id": "0b81a9bc",
   "metadata": {},
   "source": [
    "## Interpretação:\n",
    "\n",
    "**Covariância:** A covariância indica se **duas variáveis tendem a se mover juntas (covariância positiva) ou se movem em direções opostas (covariância negativa)**. No entanto, a magnitude da covariância não fornece informações claras sobre a força da relação. \n",
    "\n",
    "**Correlação:** O coeficiente de correlação fornece uma interpretação mais clara e padronizada da relação linear. Um coeficiente de correlação próximo de -1 ou 1 indica uma forte correlação linear, enquanto um coeficiente próximo de 0 indica que não há correlação linear. Desta forma, a correlação é uma medida padronizada que descreve a força e a direção da relação linear entre variáveis. "
   ]
  },
  {
   "cell_type": "markdown",
   "id": "3728e6c8",
   "metadata": {},
   "source": [
    "**Iremos agora analisar a covariância e correlação entre as variáveis milhas/galão e peso do veículo no dataset mtcars.**"
   ]
  },
  {
   "cell_type": "code",
   "execution_count": 34,
   "id": "24d40aa0",
   "metadata": {},
   "outputs": [
    {
     "data": {
      "text/html": [
       "<table class=\"dataframe\">\n",
       "<caption>A data.frame: 32 × 11</caption>\n",
       "<thead>\n",
       "\t<tr><th></th><th scope=col>mpg</th><th scope=col>cyl</th><th scope=col>disp</th><th scope=col>hp</th><th scope=col>drat</th><th scope=col>wt</th><th scope=col>qsec</th><th scope=col>vs</th><th scope=col>am</th><th scope=col>gear</th><th scope=col>carb</th></tr>\n",
       "\t<tr><th></th><th scope=col>&lt;dbl&gt;</th><th scope=col>&lt;dbl&gt;</th><th scope=col>&lt;dbl&gt;</th><th scope=col>&lt;dbl&gt;</th><th scope=col>&lt;dbl&gt;</th><th scope=col>&lt;dbl&gt;</th><th scope=col>&lt;dbl&gt;</th><th scope=col>&lt;dbl&gt;</th><th scope=col>&lt;dbl&gt;</th><th scope=col>&lt;dbl&gt;</th><th scope=col>&lt;dbl&gt;</th></tr>\n",
       "</thead>\n",
       "<tbody>\n",
       "\t<tr><th scope=row>Mazda RX4</th><td>21.0</td><td>6</td><td>160.0</td><td>110</td><td>3.90</td><td>2.620</td><td>16.46</td><td>0</td><td>1</td><td>4</td><td>4</td></tr>\n",
       "\t<tr><th scope=row>Mazda RX4 Wag</th><td>21.0</td><td>6</td><td>160.0</td><td>110</td><td>3.90</td><td>2.875</td><td>17.02</td><td>0</td><td>1</td><td>4</td><td>4</td></tr>\n",
       "\t<tr><th scope=row>Datsun 710</th><td>22.8</td><td>4</td><td>108.0</td><td> 93</td><td>3.85</td><td>2.320</td><td>18.61</td><td>1</td><td>1</td><td>4</td><td>1</td></tr>\n",
       "\t<tr><th scope=row>Hornet 4 Drive</th><td>21.4</td><td>6</td><td>258.0</td><td>110</td><td>3.08</td><td>3.215</td><td>19.44</td><td>1</td><td>0</td><td>3</td><td>1</td></tr>\n",
       "\t<tr><th scope=row>Hornet Sportabout</th><td>18.7</td><td>8</td><td>360.0</td><td>175</td><td>3.15</td><td>3.440</td><td>17.02</td><td>0</td><td>0</td><td>3</td><td>2</td></tr>\n",
       "\t<tr><th scope=row>Valiant</th><td>18.1</td><td>6</td><td>225.0</td><td>105</td><td>2.76</td><td>3.460</td><td>20.22</td><td>1</td><td>0</td><td>3</td><td>1</td></tr>\n",
       "\t<tr><th scope=row>Duster 360</th><td>14.3</td><td>8</td><td>360.0</td><td>245</td><td>3.21</td><td>3.570</td><td>15.84</td><td>0</td><td>0</td><td>3</td><td>4</td></tr>\n",
       "\t<tr><th scope=row>Merc 240D</th><td>24.4</td><td>4</td><td>146.7</td><td> 62</td><td>3.69</td><td>3.190</td><td>20.00</td><td>1</td><td>0</td><td>4</td><td>2</td></tr>\n",
       "\t<tr><th scope=row>Merc 230</th><td>22.8</td><td>4</td><td>140.8</td><td> 95</td><td>3.92</td><td>3.150</td><td>22.90</td><td>1</td><td>0</td><td>4</td><td>2</td></tr>\n",
       "\t<tr><th scope=row>Merc 280</th><td>19.2</td><td>6</td><td>167.6</td><td>123</td><td>3.92</td><td>3.440</td><td>18.30</td><td>1</td><td>0</td><td>4</td><td>4</td></tr>\n",
       "\t<tr><th scope=row>Merc 280C</th><td>17.8</td><td>6</td><td>167.6</td><td>123</td><td>3.92</td><td>3.440</td><td>18.90</td><td>1</td><td>0</td><td>4</td><td>4</td></tr>\n",
       "\t<tr><th scope=row>Merc 450SE</th><td>16.4</td><td>8</td><td>275.8</td><td>180</td><td>3.07</td><td>4.070</td><td>17.40</td><td>0</td><td>0</td><td>3</td><td>3</td></tr>\n",
       "\t<tr><th scope=row>Merc 450SL</th><td>17.3</td><td>8</td><td>275.8</td><td>180</td><td>3.07</td><td>3.730</td><td>17.60</td><td>0</td><td>0</td><td>3</td><td>3</td></tr>\n",
       "\t<tr><th scope=row>Merc 450SLC</th><td>15.2</td><td>8</td><td>275.8</td><td>180</td><td>3.07</td><td>3.780</td><td>18.00</td><td>0</td><td>0</td><td>3</td><td>3</td></tr>\n",
       "\t<tr><th scope=row>Cadillac Fleetwood</th><td>10.4</td><td>8</td><td>472.0</td><td>205</td><td>2.93</td><td>5.250</td><td>17.98</td><td>0</td><td>0</td><td>3</td><td>4</td></tr>\n",
       "\t<tr><th scope=row>Lincoln Continental</th><td>10.4</td><td>8</td><td>460.0</td><td>215</td><td>3.00</td><td>5.424</td><td>17.82</td><td>0</td><td>0</td><td>3</td><td>4</td></tr>\n",
       "\t<tr><th scope=row>Chrysler Imperial</th><td>14.7</td><td>8</td><td>440.0</td><td>230</td><td>3.23</td><td>5.345</td><td>17.42</td><td>0</td><td>0</td><td>3</td><td>4</td></tr>\n",
       "\t<tr><th scope=row>Fiat 128</th><td>32.4</td><td>4</td><td> 78.7</td><td> 66</td><td>4.08</td><td>2.200</td><td>19.47</td><td>1</td><td>1</td><td>4</td><td>1</td></tr>\n",
       "\t<tr><th scope=row>Honda Civic</th><td>30.4</td><td>4</td><td> 75.7</td><td> 52</td><td>4.93</td><td>1.615</td><td>18.52</td><td>1</td><td>1</td><td>4</td><td>2</td></tr>\n",
       "\t<tr><th scope=row>Toyota Corolla</th><td>33.9</td><td>4</td><td> 71.1</td><td> 65</td><td>4.22</td><td>1.835</td><td>19.90</td><td>1</td><td>1</td><td>4</td><td>1</td></tr>\n",
       "\t<tr><th scope=row>Toyota Corona</th><td>21.5</td><td>4</td><td>120.1</td><td> 97</td><td>3.70</td><td>2.465</td><td>20.01</td><td>1</td><td>0</td><td>3</td><td>1</td></tr>\n",
       "\t<tr><th scope=row>Dodge Challenger</th><td>15.5</td><td>8</td><td>318.0</td><td>150</td><td>2.76</td><td>3.520</td><td>16.87</td><td>0</td><td>0</td><td>3</td><td>2</td></tr>\n",
       "\t<tr><th scope=row>AMC Javelin</th><td>15.2</td><td>8</td><td>304.0</td><td>150</td><td>3.15</td><td>3.435</td><td>17.30</td><td>0</td><td>0</td><td>3</td><td>2</td></tr>\n",
       "\t<tr><th scope=row>Camaro Z28</th><td>13.3</td><td>8</td><td>350.0</td><td>245</td><td>3.73</td><td>3.840</td><td>15.41</td><td>0</td><td>0</td><td>3</td><td>4</td></tr>\n",
       "\t<tr><th scope=row>Pontiac Firebird</th><td>19.2</td><td>8</td><td>400.0</td><td>175</td><td>3.08</td><td>3.845</td><td>17.05</td><td>0</td><td>0</td><td>3</td><td>2</td></tr>\n",
       "\t<tr><th scope=row>Fiat X1-9</th><td>27.3</td><td>4</td><td> 79.0</td><td> 66</td><td>4.08</td><td>1.935</td><td>18.90</td><td>1</td><td>1</td><td>4</td><td>1</td></tr>\n",
       "\t<tr><th scope=row>Porsche 914-2</th><td>26.0</td><td>4</td><td>120.3</td><td> 91</td><td>4.43</td><td>2.140</td><td>16.70</td><td>0</td><td>1</td><td>5</td><td>2</td></tr>\n",
       "\t<tr><th scope=row>Lotus Europa</th><td>30.4</td><td>4</td><td> 95.1</td><td>113</td><td>3.77</td><td>1.513</td><td>16.90</td><td>1</td><td>1</td><td>5</td><td>2</td></tr>\n",
       "\t<tr><th scope=row>Ford Pantera L</th><td>15.8</td><td>8</td><td>351.0</td><td>264</td><td>4.22</td><td>3.170</td><td>14.50</td><td>0</td><td>1</td><td>5</td><td>4</td></tr>\n",
       "\t<tr><th scope=row>Ferrari Dino</th><td>19.7</td><td>6</td><td>145.0</td><td>175</td><td>3.62</td><td>2.770</td><td>15.50</td><td>0</td><td>1</td><td>5</td><td>6</td></tr>\n",
       "\t<tr><th scope=row>Maserati Bora</th><td>15.0</td><td>8</td><td>301.0</td><td>335</td><td>3.54</td><td>3.570</td><td>14.60</td><td>0</td><td>1</td><td>5</td><td>8</td></tr>\n",
       "\t<tr><th scope=row>Volvo 142E</th><td>21.4</td><td>4</td><td>121.0</td><td>109</td><td>4.11</td><td>2.780</td><td>18.60</td><td>1</td><td>1</td><td>4</td><td>2</td></tr>\n",
       "</tbody>\n",
       "</table>\n"
      ],
      "text/latex": [
       "A data.frame: 32 × 11\n",
       "\\begin{tabular}{r|lllllllllll}\n",
       "  & mpg & cyl & disp & hp & drat & wt & qsec & vs & am & gear & carb\\\\\n",
       "  & <dbl> & <dbl> & <dbl> & <dbl> & <dbl> & <dbl> & <dbl> & <dbl> & <dbl> & <dbl> & <dbl>\\\\\n",
       "\\hline\n",
       "\tMazda RX4 & 21.0 & 6 & 160.0 & 110 & 3.90 & 2.620 & 16.46 & 0 & 1 & 4 & 4\\\\\n",
       "\tMazda RX4 Wag & 21.0 & 6 & 160.0 & 110 & 3.90 & 2.875 & 17.02 & 0 & 1 & 4 & 4\\\\\n",
       "\tDatsun 710 & 22.8 & 4 & 108.0 &  93 & 3.85 & 2.320 & 18.61 & 1 & 1 & 4 & 1\\\\\n",
       "\tHornet 4 Drive & 21.4 & 6 & 258.0 & 110 & 3.08 & 3.215 & 19.44 & 1 & 0 & 3 & 1\\\\\n",
       "\tHornet Sportabout & 18.7 & 8 & 360.0 & 175 & 3.15 & 3.440 & 17.02 & 0 & 0 & 3 & 2\\\\\n",
       "\tValiant & 18.1 & 6 & 225.0 & 105 & 2.76 & 3.460 & 20.22 & 1 & 0 & 3 & 1\\\\\n",
       "\tDuster 360 & 14.3 & 8 & 360.0 & 245 & 3.21 & 3.570 & 15.84 & 0 & 0 & 3 & 4\\\\\n",
       "\tMerc 240D & 24.4 & 4 & 146.7 &  62 & 3.69 & 3.190 & 20.00 & 1 & 0 & 4 & 2\\\\\n",
       "\tMerc 230 & 22.8 & 4 & 140.8 &  95 & 3.92 & 3.150 & 22.90 & 1 & 0 & 4 & 2\\\\\n",
       "\tMerc 280 & 19.2 & 6 & 167.6 & 123 & 3.92 & 3.440 & 18.30 & 1 & 0 & 4 & 4\\\\\n",
       "\tMerc 280C & 17.8 & 6 & 167.6 & 123 & 3.92 & 3.440 & 18.90 & 1 & 0 & 4 & 4\\\\\n",
       "\tMerc 450SE & 16.4 & 8 & 275.8 & 180 & 3.07 & 4.070 & 17.40 & 0 & 0 & 3 & 3\\\\\n",
       "\tMerc 450SL & 17.3 & 8 & 275.8 & 180 & 3.07 & 3.730 & 17.60 & 0 & 0 & 3 & 3\\\\\n",
       "\tMerc 450SLC & 15.2 & 8 & 275.8 & 180 & 3.07 & 3.780 & 18.00 & 0 & 0 & 3 & 3\\\\\n",
       "\tCadillac Fleetwood & 10.4 & 8 & 472.0 & 205 & 2.93 & 5.250 & 17.98 & 0 & 0 & 3 & 4\\\\\n",
       "\tLincoln Continental & 10.4 & 8 & 460.0 & 215 & 3.00 & 5.424 & 17.82 & 0 & 0 & 3 & 4\\\\\n",
       "\tChrysler Imperial & 14.7 & 8 & 440.0 & 230 & 3.23 & 5.345 & 17.42 & 0 & 0 & 3 & 4\\\\\n",
       "\tFiat 128 & 32.4 & 4 &  78.7 &  66 & 4.08 & 2.200 & 19.47 & 1 & 1 & 4 & 1\\\\\n",
       "\tHonda Civic & 30.4 & 4 &  75.7 &  52 & 4.93 & 1.615 & 18.52 & 1 & 1 & 4 & 2\\\\\n",
       "\tToyota Corolla & 33.9 & 4 &  71.1 &  65 & 4.22 & 1.835 & 19.90 & 1 & 1 & 4 & 1\\\\\n",
       "\tToyota Corona & 21.5 & 4 & 120.1 &  97 & 3.70 & 2.465 & 20.01 & 1 & 0 & 3 & 1\\\\\n",
       "\tDodge Challenger & 15.5 & 8 & 318.0 & 150 & 2.76 & 3.520 & 16.87 & 0 & 0 & 3 & 2\\\\\n",
       "\tAMC Javelin & 15.2 & 8 & 304.0 & 150 & 3.15 & 3.435 & 17.30 & 0 & 0 & 3 & 2\\\\\n",
       "\tCamaro Z28 & 13.3 & 8 & 350.0 & 245 & 3.73 & 3.840 & 15.41 & 0 & 0 & 3 & 4\\\\\n",
       "\tPontiac Firebird & 19.2 & 8 & 400.0 & 175 & 3.08 & 3.845 & 17.05 & 0 & 0 & 3 & 2\\\\\n",
       "\tFiat X1-9 & 27.3 & 4 &  79.0 &  66 & 4.08 & 1.935 & 18.90 & 1 & 1 & 4 & 1\\\\\n",
       "\tPorsche 914-2 & 26.0 & 4 & 120.3 &  91 & 4.43 & 2.140 & 16.70 & 0 & 1 & 5 & 2\\\\\n",
       "\tLotus Europa & 30.4 & 4 &  95.1 & 113 & 3.77 & 1.513 & 16.90 & 1 & 1 & 5 & 2\\\\\n",
       "\tFord Pantera L & 15.8 & 8 & 351.0 & 264 & 4.22 & 3.170 & 14.50 & 0 & 1 & 5 & 4\\\\\n",
       "\tFerrari Dino & 19.7 & 6 & 145.0 & 175 & 3.62 & 2.770 & 15.50 & 0 & 1 & 5 & 6\\\\\n",
       "\tMaserati Bora & 15.0 & 8 & 301.0 & 335 & 3.54 & 3.570 & 14.60 & 0 & 1 & 5 & 8\\\\\n",
       "\tVolvo 142E & 21.4 & 4 & 121.0 & 109 & 4.11 & 2.780 & 18.60 & 1 & 1 & 4 & 2\\\\\n",
       "\\end{tabular}\n"
      ],
      "text/markdown": [
       "\n",
       "A data.frame: 32 × 11\n",
       "\n",
       "| <!--/--> | mpg &lt;dbl&gt; | cyl &lt;dbl&gt; | disp &lt;dbl&gt; | hp &lt;dbl&gt; | drat &lt;dbl&gt; | wt &lt;dbl&gt; | qsec &lt;dbl&gt; | vs &lt;dbl&gt; | am &lt;dbl&gt; | gear &lt;dbl&gt; | carb &lt;dbl&gt; |\n",
       "|---|---|---|---|---|---|---|---|---|---|---|---|\n",
       "| Mazda RX4 | 21.0 | 6 | 160.0 | 110 | 3.90 | 2.620 | 16.46 | 0 | 1 | 4 | 4 |\n",
       "| Mazda RX4 Wag | 21.0 | 6 | 160.0 | 110 | 3.90 | 2.875 | 17.02 | 0 | 1 | 4 | 4 |\n",
       "| Datsun 710 | 22.8 | 4 | 108.0 |  93 | 3.85 | 2.320 | 18.61 | 1 | 1 | 4 | 1 |\n",
       "| Hornet 4 Drive | 21.4 | 6 | 258.0 | 110 | 3.08 | 3.215 | 19.44 | 1 | 0 | 3 | 1 |\n",
       "| Hornet Sportabout | 18.7 | 8 | 360.0 | 175 | 3.15 | 3.440 | 17.02 | 0 | 0 | 3 | 2 |\n",
       "| Valiant | 18.1 | 6 | 225.0 | 105 | 2.76 | 3.460 | 20.22 | 1 | 0 | 3 | 1 |\n",
       "| Duster 360 | 14.3 | 8 | 360.0 | 245 | 3.21 | 3.570 | 15.84 | 0 | 0 | 3 | 4 |\n",
       "| Merc 240D | 24.4 | 4 | 146.7 |  62 | 3.69 | 3.190 | 20.00 | 1 | 0 | 4 | 2 |\n",
       "| Merc 230 | 22.8 | 4 | 140.8 |  95 | 3.92 | 3.150 | 22.90 | 1 | 0 | 4 | 2 |\n",
       "| Merc 280 | 19.2 | 6 | 167.6 | 123 | 3.92 | 3.440 | 18.30 | 1 | 0 | 4 | 4 |\n",
       "| Merc 280C | 17.8 | 6 | 167.6 | 123 | 3.92 | 3.440 | 18.90 | 1 | 0 | 4 | 4 |\n",
       "| Merc 450SE | 16.4 | 8 | 275.8 | 180 | 3.07 | 4.070 | 17.40 | 0 | 0 | 3 | 3 |\n",
       "| Merc 450SL | 17.3 | 8 | 275.8 | 180 | 3.07 | 3.730 | 17.60 | 0 | 0 | 3 | 3 |\n",
       "| Merc 450SLC | 15.2 | 8 | 275.8 | 180 | 3.07 | 3.780 | 18.00 | 0 | 0 | 3 | 3 |\n",
       "| Cadillac Fleetwood | 10.4 | 8 | 472.0 | 205 | 2.93 | 5.250 | 17.98 | 0 | 0 | 3 | 4 |\n",
       "| Lincoln Continental | 10.4 | 8 | 460.0 | 215 | 3.00 | 5.424 | 17.82 | 0 | 0 | 3 | 4 |\n",
       "| Chrysler Imperial | 14.7 | 8 | 440.0 | 230 | 3.23 | 5.345 | 17.42 | 0 | 0 | 3 | 4 |\n",
       "| Fiat 128 | 32.4 | 4 |  78.7 |  66 | 4.08 | 2.200 | 19.47 | 1 | 1 | 4 | 1 |\n",
       "| Honda Civic | 30.4 | 4 |  75.7 |  52 | 4.93 | 1.615 | 18.52 | 1 | 1 | 4 | 2 |\n",
       "| Toyota Corolla | 33.9 | 4 |  71.1 |  65 | 4.22 | 1.835 | 19.90 | 1 | 1 | 4 | 1 |\n",
       "| Toyota Corona | 21.5 | 4 | 120.1 |  97 | 3.70 | 2.465 | 20.01 | 1 | 0 | 3 | 1 |\n",
       "| Dodge Challenger | 15.5 | 8 | 318.0 | 150 | 2.76 | 3.520 | 16.87 | 0 | 0 | 3 | 2 |\n",
       "| AMC Javelin | 15.2 | 8 | 304.0 | 150 | 3.15 | 3.435 | 17.30 | 0 | 0 | 3 | 2 |\n",
       "| Camaro Z28 | 13.3 | 8 | 350.0 | 245 | 3.73 | 3.840 | 15.41 | 0 | 0 | 3 | 4 |\n",
       "| Pontiac Firebird | 19.2 | 8 | 400.0 | 175 | 3.08 | 3.845 | 17.05 | 0 | 0 | 3 | 2 |\n",
       "| Fiat X1-9 | 27.3 | 4 |  79.0 |  66 | 4.08 | 1.935 | 18.90 | 1 | 1 | 4 | 1 |\n",
       "| Porsche 914-2 | 26.0 | 4 | 120.3 |  91 | 4.43 | 2.140 | 16.70 | 0 | 1 | 5 | 2 |\n",
       "| Lotus Europa | 30.4 | 4 |  95.1 | 113 | 3.77 | 1.513 | 16.90 | 1 | 1 | 5 | 2 |\n",
       "| Ford Pantera L | 15.8 | 8 | 351.0 | 264 | 4.22 | 3.170 | 14.50 | 0 | 1 | 5 | 4 |\n",
       "| Ferrari Dino | 19.7 | 6 | 145.0 | 175 | 3.62 | 2.770 | 15.50 | 0 | 1 | 5 | 6 |\n",
       "| Maserati Bora | 15.0 | 8 | 301.0 | 335 | 3.54 | 3.570 | 14.60 | 0 | 1 | 5 | 8 |\n",
       "| Volvo 142E | 21.4 | 4 | 121.0 | 109 | 4.11 | 2.780 | 18.60 | 1 | 1 | 4 | 2 |\n",
       "\n"
      ],
      "text/plain": [
       "                    mpg  cyl disp  hp  drat wt    qsec  vs am gear carb\n",
       "Mazda RX4           21.0 6   160.0 110 3.90 2.620 16.46 0  1  4    4   \n",
       "Mazda RX4 Wag       21.0 6   160.0 110 3.90 2.875 17.02 0  1  4    4   \n",
       "Datsun 710          22.8 4   108.0  93 3.85 2.320 18.61 1  1  4    1   \n",
       "Hornet 4 Drive      21.4 6   258.0 110 3.08 3.215 19.44 1  0  3    1   \n",
       "Hornet Sportabout   18.7 8   360.0 175 3.15 3.440 17.02 0  0  3    2   \n",
       "Valiant             18.1 6   225.0 105 2.76 3.460 20.22 1  0  3    1   \n",
       "Duster 360          14.3 8   360.0 245 3.21 3.570 15.84 0  0  3    4   \n",
       "Merc 240D           24.4 4   146.7  62 3.69 3.190 20.00 1  0  4    2   \n",
       "Merc 230            22.8 4   140.8  95 3.92 3.150 22.90 1  0  4    2   \n",
       "Merc 280            19.2 6   167.6 123 3.92 3.440 18.30 1  0  4    4   \n",
       "Merc 280C           17.8 6   167.6 123 3.92 3.440 18.90 1  0  4    4   \n",
       "Merc 450SE          16.4 8   275.8 180 3.07 4.070 17.40 0  0  3    3   \n",
       "Merc 450SL          17.3 8   275.8 180 3.07 3.730 17.60 0  0  3    3   \n",
       "Merc 450SLC         15.2 8   275.8 180 3.07 3.780 18.00 0  0  3    3   \n",
       "Cadillac Fleetwood  10.4 8   472.0 205 2.93 5.250 17.98 0  0  3    4   \n",
       "Lincoln Continental 10.4 8   460.0 215 3.00 5.424 17.82 0  0  3    4   \n",
       "Chrysler Imperial   14.7 8   440.0 230 3.23 5.345 17.42 0  0  3    4   \n",
       "Fiat 128            32.4 4    78.7  66 4.08 2.200 19.47 1  1  4    1   \n",
       "Honda Civic         30.4 4    75.7  52 4.93 1.615 18.52 1  1  4    2   \n",
       "Toyota Corolla      33.9 4    71.1  65 4.22 1.835 19.90 1  1  4    1   \n",
       "Toyota Corona       21.5 4   120.1  97 3.70 2.465 20.01 1  0  3    1   \n",
       "Dodge Challenger    15.5 8   318.0 150 2.76 3.520 16.87 0  0  3    2   \n",
       "AMC Javelin         15.2 8   304.0 150 3.15 3.435 17.30 0  0  3    2   \n",
       "Camaro Z28          13.3 8   350.0 245 3.73 3.840 15.41 0  0  3    4   \n",
       "Pontiac Firebird    19.2 8   400.0 175 3.08 3.845 17.05 0  0  3    2   \n",
       "Fiat X1-9           27.3 4    79.0  66 4.08 1.935 18.90 1  1  4    1   \n",
       "Porsche 914-2       26.0 4   120.3  91 4.43 2.140 16.70 0  1  5    2   \n",
       "Lotus Europa        30.4 4    95.1 113 3.77 1.513 16.90 1  1  5    2   \n",
       "Ford Pantera L      15.8 8   351.0 264 4.22 3.170 14.50 0  1  5    4   \n",
       "Ferrari Dino        19.7 6   145.0 175 3.62 2.770 15.50 0  1  5    6   \n",
       "Maserati Bora       15.0 8   301.0 335 3.54 3.570 14.60 0  1  5    8   \n",
       "Volvo 142E          21.4 4   121.0 109 4.11 2.780 18.60 1  1  4    2   "
      ]
     },
     "metadata": {},
     "output_type": "display_data"
    }
   ],
   "source": [
    "#O conjunto de dados \"mtcars\" faz parte da instalação padrão do R.\n",
    "my_data <- mtcars\n",
    "my_data\n",
    "\n",
    "# mpg= milhas por galão;\n",
    "# Wt = peso dos carros em tonelados;"
   ]
  },
  {
   "cell_type": "code",
   "execution_count": 35,
   "id": "8858a8e4",
   "metadata": {},
   "outputs": [
    {
     "name": "stderr",
     "output_type": "stream",
     "text": [
      "Warning message:\n",
      "\"package 'ggpubr' was built under R version 4.2.3\"\n"
     ]
    }
   ],
   "source": [
    "# Cria gráficos estatísticos.\n",
    "# Apresenta função ggscatter () para criar um gráfico de dispersão com o ggplot. \n",
    "library(\"ggpubr\")"
   ]
  },
  {
   "cell_type": "code",
   "execution_count": 36,
   "id": "509108e6",
   "metadata": {},
   "outputs": [
    {
     "data": {
      "image/png": "[encoded data removed]",
      "text/plain": [
       "plot without title"
      ]
     },
     "metadata": {
      "image/png": {
       "height": 420,
       "width": 420
      }
     },
     "output_type": "display_data"
    }
   ],
   "source": [
    "ggscatter(my_data, x = \"mpg\", y = \"wt\", #Conjunto de dados, eixo x e y;\n",
    "          add = \"reg.line\", conf.int = TRUE, #adiciona linha de regressão; conf.int=TRUE: incluirá intervalos de confiança;\n",
    "          cor.coef = TRUE, # cor.coef = TRUE:adiciona o coeficiente de correlação ao gráfico.\n",
    "          cor.method = \"pearson\", # Especifica o método de cálculo do coeficiente de correlação. \n",
    "          xlab = \"Autonomia\", ylab = \"Peso do Veículo\") #Define rótulos para os eixos x e y"
   ]
  },
  {
   "cell_type": "markdown",
   "id": "5c53e42c",
   "metadata": {},
   "source": [
    "Por meio do gráfico de dispersão podemos verificar que conforme aumenta o peso do veículo, menor é sua autonomia, ou seja,  carros mais pesados consomem mais combustível por quilômetro percorrido. O gráfico demonstra uma correlação negativa entre as duas variáveis."
   ]
  },
  {
   "cell_type": "code",
   "execution_count": 37,
   "id": "175a9903",
   "metadata": {},
   "outputs": [],
   "source": [
    "# Definindo x e y\n",
    "x = my_data$mpg\n",
    "y = my_data$wt"
   ]
  },
  {
   "cell_type": "code",
   "execution_count": 38,
   "id": "1023b463",
   "metadata": {},
   "outputs": [
    {
     "data": {
      "text/html": [
       "-0.867659376517228"
      ],
      "text/latex": [
       "-0.867659376517228"
      ],
      "text/markdown": [
       "-0.867659376517228"
      ],
      "text/plain": [
       "[1] -0.8676594"
      ]
     },
     "metadata": {},
     "output_type": "display_data"
    }
   ],
   "source": [
    "#Correlação\n",
    "cor(x, y)"
   ]
  },
  {
   "cell_type": "markdown",
   "id": "4db3c09c",
   "metadata": {},
   "source": [
    "## Distribuições de probabilidades\n",
    "\n",
    "O R inclui funcionalidades para operações com distribuições de probabilidades. Para cada distribuição há 4 operações básicas indicadas pelas letras:  \n",
    "\n",
    "- d: calcula a densidade de probabilidade f(x) no ponto\n",
    "- p: calcula a função de probabilidade acumulada F(x) no ponto\n",
    "- q: calcula o quantil correspondente a uma dada probabilidade\n",
    "- r: retira uma amostra da distribuição\n",
    "\n",
    "Para utlizar as funções combina-se uma das letras acima com uma abreviatura do nome da distribuição. **Por exemplo, para calcular probabilidades usamos: pnorm para normal, pexp para exponencial, pbinom para binomial, ppois para Poisson e assim por diante.**\n",
    "\n",
    "\n",
    "### d: Função de Densidade de Probabilidade (PDF)\n",
    "\n",
    "dnorm, dexp, dbinom, dpois, etc...\n",
    "\n",
    "**A função d- é usada para calcular a densidade de probabilidade (PDF) de uma variável aleatória em um ponto específico. Ela fornece a probabilidade de que a variável aleatória assuma um valor exato.**\n",
    "\n",
    "- Ex.: dnorm(x, mean = 0, sd = 1)  \n",
    "- <- dnorm(2, mean = 3, sd = 0.5)\n",
    "\n",
    "**Neste exemplo, estamos vericando a probabilidade de que uma variável aleatória normal com média 3 e desvio padrão 0,5 assuma o valor exato de 2.**\n",
    "\n",
    "### p: Função de Probabilidade Acumulada (CDF) \n",
    "\n",
    "pnorm, pexp, pbinom, ppois, etc..\n",
    "\n",
    "**A função p- é usada para calcular a função de probabilidade acumulada (CDF) de uma variável aleatória. Ela fornece a probabilidade de que a variável aleatória seja menor(lower.tail = TRUE), maior(lower.tail = FALSE) ou igual a um valor específico.**\n",
    "\n",
    "- Ex.:pnorm(q, mean = 0, sd = 1, lower.tail = TRUE)\n",
    "- pnorm(2, mean = 3, sd = 0.5)  \n",
    "\n",
    "**Neste exemplo,estamos verificando a probabilidade de que uma variável aleatória normal com média 3 e desvio padrão 0,5 seja menor ou igual a 2.**\n",
    "\n",
    "### q:Quantil\n",
    "\n",
    "qnorm, qexp, qbinom, qpois, etc..\n",
    "\n",
    "**A função q- é usada para calcular o quantil (percentil) de uma distribuição. Em outras palavras, ela permite encontrar o valor no qual uma variável aleatória tem uma probabilidade acumulada específica. A função q- é frequentemente usada em estatísticas para calcular valores críticos em distribuições e encontrar percentis específicos. É útil para responder perguntas como \"qual é o valor que representa o limite superior de 95% dos dados nesta distribuição?\" ou \"qual é o valor a partir do qual apenas 10% dos dados são maiores**\n",
    "\n",
    "- Ex.:qnorm(p, mean = 0, sd = 1, lower.tail = TRUE)\n",
    "- qnorm(0.95, mean = 3, sd = 0.5)\n",
    "\n",
    "**Neste exemplo, estamos verificando o valor que separa os 95% inferiores da distribuição normal com média 3 e desvio padrão 0.5 dos 5% superiores. Em outras palavras, é o valor no qual 95% dos dados estão abaixo e 5% estão acima na distribuição normal especificada.**\n",
    "\n",
    "### r: Geração de Amostras Aleatórias\n",
    "\n",
    "rnorm, rexp,rbinom, rpois, etc..\n",
    "\n",
    "**A função r-é usada para gerar amostras aleatórias de uma distribuição com os parâmetros especificados. Ela gera uma amostra de valores aleatórios seguindo a distribuição desejada.**\n",
    "\n",
    "- Ex.: rnorm(n, mean, sd)\n",
    "- Onde n é o tamanho da amostra e mean e sd são parâmetros opcionais relacionados à média e desvio padrão, respectivamente."
   ]
  },
  {
   "cell_type": "markdown",
   "id": "334c226c",
   "metadata": {},
   "source": [
    "## Distribuições de Probabilidade Discreta"
   ]
  },
  {
   "cell_type": "markdown",
   "id": "b1016b15",
   "metadata": {},
   "source": [
    "### Distribuição Binomial\n",
    "\n",
    "**Uma variável aleatória tem Distribuição Binomial quando o experimento ao qual está relacionada apresenta apenas 2 resultados: sucesso e fracasso.**\n",
    "\n",
    "Vamos imaginar que nosso experimento seja contar quantos clientes que entram em uma loja de celulares, adquirem um plano pós-pago.Para este experimento, temos 2 possibilidades para cada observação: adquirir ou não adquirir o plano.Como podemos ter apenas 2 resultados possíveis, este é chamado um Experimento Binomial.  \n",
    "\n",
    "Vamos imaginar agora, que historicamente, 10% dos clientes que entram na loja, adquirem um plano pós-pago. Portanto, a probabilidade de sucesso (que vamos chamar de p) para cada observação é 0.10. E a probabilidade de falha (que vamos chamar de q) para cada observação é 0.90. Ou seja: p = 1 – q \n",
    "\n",
    "- p = probabilidade de sucesso\n",
    "- q = probabilidade de fracasso \n",
    "\n",
    "Outra característica da distribuição binomial, é que cada observação é independente das outras. Dessa forma, um Experimento Binomial consiste de um número fixo de observações, indicado por n e contamos o número de sucessos, indicado por x.  \n",
    "\n",
    "- A Média de uma Distribuição Binomial, representa a média de longo prazo de sucessos esperados, baseado no número de observações.\n",
    "- A Variância de uma Distribuição Binomial, representa a variação que existe no número de sucessos (p) sobre um número (n) de observações.\n"
   ]
  },
  {
   "cell_type": "markdown",
   "id": "f15ee5a9",
   "metadata": {},
   "source": [
    "**Exemplo:** A probabilidade de um paciente com um ataque cardíaco morrer do ataque é de 0.04, (ou seja, 4 de 100 morrem do ataque).   \n",
    "Suponha que tenhamos 5 pacientes que sofrem um ataque cardíaco, qual é a probabilidade de que todos sobrevivam? \n",
    "\n",
    "Para este exemplo, vamos chamar um sucesso um ataque fatal (p = 0.04). Temos n = 5 pacientes e queremos saber a probabilidade de que todos sobrevivam ou, em outras palavras, que nenhum seja fatal (0 sucessos).  \n",
    "\n",
    " - X = Número de sobreviventes ao ataque\n",
    " - p = 0.04\n",
    " - n = 5\n",
    " - dbinom(X, n, p)  \n",
    " \n",
    " \n",
    "A **função \"dbinom\"** em R é uma função específica da linguagem de programação R usada para calcular a probabilidade de uma variável aleatória discreta seguir uma distribuição binomial. **Ela permite calcular a probabilidade de obter um número específico de sucessos em um determinado número de tentativas.\n",
    " - dbinom(x, size, prob): \n",
    " - x: O número de sucessos desejado.\n",
    " - size: O número total de tentativas.\n",
    " - prob: A probabilidade de sucesso em uma única tentativa.\n"
   ]
  },
  {
   "cell_type": "code",
   "execution_count": 39,
   "id": "a4c75e47",
   "metadata": {},
   "outputs": [
    {
     "data": {
      "text/html": [
       "0.8153726976"
      ],
      "text/latex": [
       "0.8153726976"
      ],
      "text/markdown": [
       "0.8153726976"
      ],
      "text/plain": [
       "[1] 0.8153727"
      ]
     },
     "metadata": {},
     "output_type": "display_data"
    }
   ],
   "source": [
    "# 0 sucesso, ou seja, nenhum, fatal;\n",
    "# Número de pacientes;\n",
    "# Prababilidade de um paciente com pcr vir á óbito.\n",
    "dbinom(0, 5, 0.04)"
   ]
  },
  {
   "cell_type": "markdown",
   "id": "c2731b14",
   "metadata": {},
   "source": [
    "Aproximadamente 82% de chances que os pacientes em pcr sobrevivam. "
   ]
  },
  {
   "cell_type": "code",
   "execution_count": 40,
   "id": "8626566e",
   "metadata": {},
   "outputs": [
    {
     "data": {
      "image/png": "[encoded data removed]",
      "text/plain": [
       "Plot with title \"Distribuição Binomial (n,p) ,5,0.04\""
      ]
     },
     "metadata": {
      "image/png": {
       "height": 420,
       "width": 420
      }
     },
     "output_type": "display_data"
    }
   ],
   "source": [
    "# Desenhando a distribuição de probabilidades\n",
    "# Criando uma função que aceita dois argumentos, n(número de tentativas) e p (probabilidade). \n",
    "graph <- function(n,p){\n",
    "  x <- dbinom(0:n, size = n, prob = p) #dbinom calcula as probabilidades p/ todos os valores possíveis de sucesso de 0 a n.\n",
    "  barplot(x,ylim=c(0,1),names.arg=0:n, #cria um gráfico de barras das probabilidades calculados;\n",
    "          \n",
    "          #x: O vetor de probabilidades calculadas;\n",
    "          #ylim: O limite do eixo y, definido como indo de 0 a 1;\n",
    "          #names.arg: Os rótulos no eixo x, que são os valores de sucesso de 0 a n.\n",
    "          \n",
    "          main=sprintf(paste('Distribuição Binomial (n,p) ',n,p,sep=',')))\n",
    "}#O título do gráfico, que inclui os valores de  n e  p.\n",
    "\n",
    "graph(5,0.04) #Chamando a função graph para criar o gráfico"
   ]
  },
  {
   "cell_type": "markdown",
   "id": "b08cfa9e",
   "metadata": {},
   "source": [
    "### Aplicação da pbinon\n",
    "\n",
    "**Suponha que haja 12 questões de múltipla escolha em um questionário de inglês. Cada questão tem cinco respostas possíveis e apenas uma delas está correta. Encontre a probabilidade de ter quatro ou menos respostas corretas se um aluno tentar responder a cada pergunta aleatoriamente.**\n"
   ]
  },
  {
   "cell_type": "code",
   "execution_count": 41,
   "id": "1a206fdc",
   "metadata": {},
   "outputs": [
    {
     "data": {
      "text/html": [
       "0.92744450048"
      ],
      "text/latex": [
       "0.92744450048"
      ],
      "text/markdown": [
       "0.92744450048"
      ],
      "text/plain": [
       "[1] 0.9274445"
      ]
     },
     "metadata": {},
     "output_type": "display_data"
    }
   ],
   "source": [
    "# Como apenas uma das cinco respostas possíveis está correta, a probabilidade de responder corretamente \n",
    "# a uma pergunta aleatória é 1/5 = 0,2.\n",
    "#0,2= Sucesso\n",
    "# Podemos agora então usar utilizar a função de probabilidade acumlada.\n",
    "pbinom(4, size=12, prob=0.2)"
   ]
  },
  {
   "cell_type": "markdown",
   "id": "47187b7d",
   "metadata": {},
   "source": [
    "### Distribuição Poisson\n",
    "\n",
    "**A Distribuição Poisson é muito útil para calcular a probabilidade de um certo número de eventos que ocorrerá em um específico intervalo de 'tempo ou espaço'.** \n",
    "\n",
    "Nós poderíamos usar este tipo de distribuição para determinar a probabilidade de 10 clientes entrarem em uma loja nos próximos 30 minutos ou a probabilidade de 2 acidentes de carro ocorrerem em um determinado cruzamento no próximo mês.   \n",
    "\n",
    "A Distribuição Poisson é um modelo para o número de eventos observados numa unidade de tempo ou de espaço, dado que a taxa de eventos por unidade é constante e os eventos ocorrem de modo independente. \n",
    "\n",
    "**Desta forma, ela é frequentemente usada para descrever a probabilidade de eventos que ocorrem de forma independente e a uma taxa média constante ao longo de um intervalo específico.**\n",
    "\n",
    "O único parâmetro da Poisson é λ (lambda), que representa a taxa de eventos por unidade de medida (tempo, espaço, etc.)  \n",
    "**Ou seja, λ é o número médio de eventos que se espera ocorrer em um determinado intervalo ou unidade.**\n",
    "\n",
    "- Distribuição Binomial, o número de sucessos observados é limitado ao número de possibilidades.\n",
    "- Distribuição Poisson, o número de resultados pode ser qualquer um.\n",
    "- A Distribuição Poisson não conta o número de sucessos, como na distribuição binomial.\n",
    "- A Distribuição Poisson conta o número de ocorrências de um evento particular sobre um intervalo específico de tempo ou espaço.   \n",
    "\n",
    "A **função dpois** em R é uma função que calcula a função de probabilidade de massa da Distribuição de Poisson para um conjunto de valores específicos.\n",
    "A sintaxe básica da função dpois é a seguinte:  \n",
    "- dpois(x, lambda);\n",
    "- x: O valor para o qual você deseja calcular a probabilidade;\n",
    "- lambda: O parâmetro λ (lambda), que representa a taxa de eventos por unidade;\n",
    "\n",
    "A função dpois retornará a probabilidade de obter o valor x na Distribuição de Poisson com parâmetro λ."
   ]
  },
  {
   "cell_type": "markdown",
   "id": "a22873a2",
   "metadata": {},
   "source": [
    "**Exemplo: Considere um processo que têm uma taxa de 0,5 defeitos por unidade. Qual a probabilidade de um processo apresentar duas unidades defeituosas? E apresentar nenhum defeito?**"
   ]
  },
  {
   "cell_type": "code",
   "execution_count": 42,
   "id": "446bc639",
   "metadata": {},
   "outputs": [
    {
     "data": {
      "text/html": [
       "0.0758163324640792"
      ],
      "text/latex": [
       "0.0758163324640792"
      ],
      "text/markdown": [
       "0.0758163324640792"
      ],
      "text/plain": [
       "[1] 0.07581633"
      ]
     },
     "metadata": {},
     "output_type": "display_data"
    }
   ],
   "source": [
    "# Probabilidade de um processo apresentar defeitos em duas unidades, sendo que a taxa é 0,5 defeitos por unidade em um processo.\n",
    "dpois(2, 0.5)"
   ]
  },
  {
   "cell_type": "code",
   "execution_count": 43,
   "id": "0aa2ba66",
   "metadata": {},
   "outputs": [
    {
     "data": {
      "text/html": [
       "0.606530659712633"
      ],
      "text/latex": [
       "0.606530659712633"
      ],
      "text/markdown": [
       "0.606530659712633"
      ],
      "text/plain": [
       "[1] 0.6065307"
      ]
     },
     "metadata": {},
     "output_type": "display_data"
    }
   ],
   "source": [
    "# Probabilidade de um processo apresentar nenhum defeito, sendo que a taxa é 0,5 defeitos por unidade em um processo.\n",
    "dpois(0, 0.5)"
   ]
  },
  {
   "cell_type": "markdown",
   "id": "26f6556b",
   "metadata": {},
   "source": [
    "### Aplicação da ppois\n",
    "\n",
    "**Se houver 12 carros atravessando uma ponte por minuto, em média, encontre a probabilidade de ter 15 ou mais carros cruzando a ponte em um determinado minuto. Ea probabilidade de ter 14 ou menos carros atravessando a ponte em um determinado minuto**\n",
    "ppois(q, lambda, lower.tail = TRUE)"
   ]
  },
  {
   "cell_type": "code",
   "execution_count": 44,
   "id": "3cc30a9a",
   "metadata": {},
   "outputs": [
    {
     "data": {
      "text/html": [
       "0.155584347549817"
      ],
      "text/latex": [
       "0.155584347549817"
      ],
      "text/markdown": [
       "0.155584347549817"
      ],
      "text/plain": [
       "[1] 0.1555843"
      ]
     },
     "metadata": {},
     "output_type": "display_data"
    }
   ],
   "source": [
    "#Quinze carros ou mais\n",
    "ppois(15, lambda=12, lower.tail = FALSE)  # upper tail "
   ]
  },
  {
   "cell_type": "code",
   "execution_count": 45,
   "id": "2ca3987c",
   "metadata": {},
   "outputs": [
    {
     "data": {
      "text/html": [
       "0.772024532303544"
      ],
      "text/latex": [
       "0.772024532303544"
      ],
      "text/markdown": [
       "0.772024532303544"
      ],
      "text/plain": [
       "[1] 0.7720245"
      ]
     },
     "metadata": {},
     "output_type": "display_data"
    }
   ],
   "source": [
    "#14 ou menos carros\n",
    "ppois(14, lambda=12)   # lower tail "
   ]
  },
  {
   "cell_type": "markdown",
   "id": "dcbcf8e4",
   "metadata": {},
   "source": [
    "## Distribuições de Probabilidade Contínua"
   ]
  },
  {
   "cell_type": "markdown",
   "id": "fa5bfcd0",
   "metadata": {},
   "source": [
    "### Distribuição  Normal\n",
    "\n",
    "**A Distribuição Normal, ou Gaussiana, é a mais importante distribuição contínua.Ela é caracterizada por sua forma de sino e é amplamente utilizada para modelar uma variedade de fenômenos na natureza, ciência e estatística**\n",
    "\n",
    "A Distribuição Normal é definida pelos seguintes parâmetros:\n",
    " - Média (μ): Representa o centro da distribuição, onde a curva atinge seu ponto mais alto. Define o valor médio da variável aleatória.\n",
    " - Desvio Padrão (σ): Controla a dispersão dos valores em relação à média. Quanto maior o desvio padrão, mais espalhados estão os valores.\n",
    "\n",
    "As principais características da Distribuição Normal são:\n",
    "\n",
    "- Simetria: A distribuição é simétrica em relação à média, o que significa que metade dos valores está à esquerda da média e metade à direita.\n",
    "- Sino: A curva tem a forma de um sino, com seu ponto máximo na média.\n",
    "- Infinidade de Valores Possíveis: A distribuição abrange todos os valores reais de menos infinito a mais infinito.\n",
    "- **Teorema do Limite Central: A média de amostras de variáveis aleatórias independentes e idênticas, quando suficientemente grandes, segue uma Distribuição Normal, independentemente da distribuição original das variáveis.**\n"
   ]
  },
  {
   "cell_type": "code",
   "execution_count": 46,
   "id": "ecc073c9",
   "metadata": {},
   "outputs": [
    {
     "data": {
      "image/png": "[encoded data removed]",
      "text/plain": [
       "Plot with title \"Histogram of x\""
      ]
     },
     "metadata": {
      "image/png": {
       "height": 420,
       "width": 420
      }
     },
     "output_type": "display_data"
    }
   ],
   "source": [
    "# Distribuição Normal, 'r 'norm'\n",
    "x <- rnorm(100)\n",
    "hist(x)"
   ]
  },
  {
   "cell_type": "code",
   "execution_count": 47,
   "id": "5f2f4aed",
   "metadata": {},
   "outputs": [
    {
     "data": {
      "image/png": "[encoded data removed]",
      "text/plain": [
       "plot without title"
      ]
     },
     "metadata": {
      "image/png": {
       "height": 420,
       "width": 420
      }
     },
     "output_type": "display_data"
    }
   ],
   "source": [
    "# Densidade\n",
    "# # Observe que o gráfico gerado assemelha-se a uma Gaussiana e não apresenta assimentria. \n",
    "# Quando o gráfico da distribuição possui tal forma, há grandes chances de se tratar de uma distribuição normal.\n",
    "x <- seq(-6, 6, by=0.01) #Sequencia de valores de -6 à 6, saltando de 0,01.\n",
    "y <- dnorm(x) #função de densidade\n",
    "plot(x, y, type=\"l\")"
   ]
  },
  {
   "cell_type": "code",
   "execution_count": 48,
   "id": "19de4942",
   "metadata": {},
   "outputs": [],
   "source": [
    "#Criando dados aleatórios: 1000 números, média 3, desvio 0,25\n",
    "x <- rnorm(1000,3,0.25)"
   ]
  },
  {
   "cell_type": "code",
   "execution_count": 49,
   "id": "d785bca8",
   "metadata": {},
   "outputs": [
    {
     "data": {
      "image/png": "[encoded data removed]",
      "text/plain": [
       "Plot with title \"Histograma com Curva Normal\""
      ]
     },
     "metadata": {
      "image/png": {
       "height": 420,
       "width": 420
      }
     },
     "output_type": "display_data"
    }
   ],
   "source": [
    "#Criando histograma dos dados gerados no item anterior e adicionando uma camada com a curva da normal.\n",
    "\n",
    "# Criando o histograma\n",
    "hist(x, prob = TRUE, col = \"lightblue\", main = \"Histograma com Curva Normal\")\n",
    "#prob = TRUE: significa que o histograma será convertido em uma função de densidade de probabilidade\n",
    "\n",
    "# Adicionando a curva da distribuição normal\n",
    "curve(dnorm(x, 3, 0.25), col = \"red\", lwd = 2, add = TRUE)\n",
    "#curve(...): Esta função é usada para adicionar uma curva a uma plotagem em R.\n",
    "\n",
    "#dnorm(x, 3, 0.25): É usada para calcular os valores da função de densidade de probabilidade da distribuição normal.\n",
    "#Ela é calculada para o vetor x com uma média de 3 e um desvio padrão de 0.25. \n",
    "#Isso cria uma curva que representa a distribuição normal teórica com esses parâmetros.\n",
    "\n",
    "#lwd = 2, largura da linha\n",
    "\n",
    "#add = TRUE: O argumento add é definido como TRUE, indicando que a curva deve ser adicionada à plotagem existente -histograma"
   ]
  },
  {
   "cell_type": "markdown",
   "id": "4c23a2c4",
   "metadata": {},
   "source": [
    "### Aplicação da pnorm\n",
    "\n",
    "**Suponha que os resultados dos testes de um vestibular se ajustem a uma distribuição normale a pontuação média do teste é de 72 e o desvio padrão é de 15,2. Qual é a porcentagem de alunos que pontuaram 84 ou mais no exame?**\n",
    "\n",
    "**pnorm(q, mean = 0, sd = 1, lower.tail = TRUE)**\n",
    "\n",
    "Aqui estão os principais argumentos da função pnorm:\n",
    "- **q:** O valor para o qual você deseja calcular a probabilidade acumulativa;\n",
    "- **mean:** A média da distribuição normal. O padrão é 0;\n",
    "- **sd:** O desvio padrão da distribuição normal. O padrão é 1;\n",
    "- **lower.tail:** Um valor lógico que determina se você deseja calcular a probabilidade acumulativa para a cauda esquerda (se TRUE) ou a cauda direita (se FALSE) da distribuição. **O padrão é TRUE, o que significa que a probabilidade acumulativa para valores menores que q será calculada.**"
   ]
  },
  {
   "cell_type": "code",
   "execution_count": 50,
   "id": "982d1735",
   "metadata": {},
   "outputs": [
    {
     "data": {
      "text/html": [
       "0.214917602311272"
      ],
      "text/latex": [
       "0.214917602311272"
      ],
      "text/markdown": [
       "0.214917602311272"
      ],
      "text/plain": [
       "[1] 0.2149176"
      ]
     },
     "metadata": {},
     "output_type": "display_data"
    }
   ],
   "source": [
    "pnorm(84, mean=72, sd=15.2, lower.tail=FALSE) "
   ]
  },
  {
   "cell_type": "markdown",
   "id": "128b2d18",
   "metadata": {},
   "source": [
    "21% de chance dos alunos pontuarem 84 ou mais neste exame. "
   ]
  },
  {
   "cell_type": "markdown",
   "id": "e44a2794",
   "metadata": {},
   "source": [
    "## Testes Estatísticos: Teste de Shapiro-Wilk, Teste F e Teste t"
   ]
  },
  {
   "cell_type": "markdown",
   "id": "cc8d7a60",
   "metadata": {},
   "source": [
    "Para explicar os fundamentos básicos dos três testes descritos acima, iremos utilizar o Dataset **'Sleep'**, disponível  no  pacote datasets no R. Esse  dataset  é  resultado  de  um  trabalho  de  pesquisa  com  pacientes que  possuem dificuldades para dormir. Os pacientes foram separados em 2 grupos sendo que a cada grupo foi administrado um medicamento distinto com o objetivo de tratar distúrbios do sono e promover o aumento do tempo de sono.\n",
    "\n",
    "**O dataset possui 3 variáveis:**\n",
    "- extra–Variável numérica que indica quantas horas a mais ou a menos o paciente dormiu após receber o medicamento. Esta será a nossa variável dependente. \n",
    "- group–Variável do tipo fator (categórica) que indica o medicamento usado pelo paciente (1 ou 2).Esta será a nossa variável independente.\n",
    "- ID–Identificação do paciente\n",
    "\n",
    "**Nosso objetivo é responder a seguinte pergunta: 'Existe diferença significativa na média de sono dos 2 grupos de pacientes, ou seja, há diferença significativa entre os dois tipos de medicamento?'**\n",
    "\n",
    "## Teste t\n",
    "\n",
    "O teste t, também conhecido como o Teste t de Student, **é uma ferramenta estatística amplamente utilizada para comparar as médias de duas amostras (para mais de duas médias usamos a ANOVA) e determinar se as diferenças entre elas são estatisticamente significativas**\n",
    "\n",
    "Como temos duas amostras (dois grupos), podemos aplicar o **Teste t** para responder à pergunta. \n",
    "\n",
    "Definimos assim as hipóteses para nosso teste:\n",
    "- H0 (Hipótese Nula) =Não há diferença significativa entre as médias dos 2 grupos\n",
    "- HA (Hipótese Alternativa) =Há diferença significativa entre as médias dos 2 grupos.\n",
    "\t\n",
    "A interpretação do resultado do Teste t ajudará a definir se devemos ou não rejeitar a H0 e responder a pergunta de negócio deste estudo de caso. \n",
    "\n",
    "**Mas para aplicar o Teste t, primeiro precisamos validar suas suposições e para isso precisamos do Teste de Shapiro-Wilke do Teste F.**\n",
    "\n",
    "\n",
    "## Shapiro-Wilk\n",
    "\n",
    "**O Teste de Shapiro-Wilk tem como objetivo avaliar se uma distribuição é semelhante a uma distribuição normal**.Precisamos do Teste de Shapiro-Wilk para este estudo de caso pois uma das suposições do Teste t é que os resíduos seguem uma distribuição normal(simplificando: os dados seguem uma distribuição normal). Logo, validamos a suposição com o Teste de Shapiro-Wilk antes de aplicar o Teste t.\n",
    "\n",
    "**Assim  como  a  maioria  dos  testes  estatísticos,  o  Teste  de  Shapiro-Wilk  formula  duas hipóteses:**\n",
    "- H0(Hipótese Nula)= Os dados seguem uma distribuição normal.\n",
    "- HA (Hipótese Alternativa)= Os dados não seguem uma distribuição normal.\n",
    "\n",
    "## Teste F\n",
    "\n",
    "**O teste F é projetado para comparar a variabilidade (ou dispersão) entre dois ou mais grupos. Ele é frequentemente usado para determinar se as variâncias desses grupos são estatisticamente diferentes.** Desta forma, o teste F é projetado para comparar a variabilidade (ou dispersão) entre dois ou mais grupos. Ele é frequentemente usado para determinar se as variâncias desses grupos são estatisticamente diferentes. \n",
    "\n",
    "**E por que precisamos do Teste F para este estudo de caso?**\n",
    "\n",
    "Porque  uma  das  suposições  do  Teste  t  é  que  as  médias  das  amostras  têm  a  mesma variância (ou que não há diferença significativa na variância das médias). Vamos aplicar um Teste F  para  comparar  as  variâncias das  amostras  (extraídas  de  uma  população  normalmente distribuída). \n",
    "\n",
    "**Hipóteses do Teste F:**\n",
    "- H0(Hipótese Nula)= As médias de dados extraídos de uma população normalmente distribuída têm a mesma variância.\n",
    "- HA (Hipótese Alternativa)= As  médias  de  dados  extraídos  de  uma  população normalmente distribuída não têm a mesma variância."
   ]
  },
  {
   "cell_type": "markdown",
   "id": "2d29d2c8",
   "metadata": {},
   "source": [
    "**Antes de aplicar o Teste t primeiro precisamos validar as 5 suposições do Teste.**\n",
    "- 1: Os dados são aleatórios e representativos da população.\n",
    "- 2: A variável dependente é contínua.\n",
    "- 3: Ambos os grupos são independentes (ou seja, grupos exaustivos e excludentes).\n",
    "- 4: Os resíduos do modelo são normalmente distribuídos.\n",
    "- : A variância residual é homogênea (princípio da homocedasticidade).\n",
    "\n",
    "Para o nosso exemplo neste estudo de caso, iremos considerar como verdadeiras as suposições de 1 a 3 e validaremos as suposições 4 e 5. Para a suposição 4 usaremos o Teste de Shapiro-Wilk e para a suposição 5 usaremos o Teste F.\n",
    "\n",
    "Conforme já explicado anteriormente o **Teste de Shapiro-Wilk** é usado antes do Teste t em alguns casos para verificar se os dados seguem uma distribuição normal. A razão para isso é que o Teste t assume que os dados seguem uma distribuição normal. Quando os dados não seguem uma distribuição normal, a aplicação do Teste t pode ser inadequada e fornecer resultados imprecisos.\n",
    "\n",
    "Além disto, uma das suposições do Teste t é que as médias das amostras têm a mesma variância (ou que não há diferença significativa na variância entre as médias). Isso é conhecido como a suposição de igualdade de variâncias. A ideia por trás dessa suposição é que, se as variâncias entre as amostras forem muito diferentes, pode afetar a validade do Teste t. \n",
    "\n",
    "O princípio que estamos discutindo é conhecido como o princípio da homocedasticidade. A homocedasticidade se refere à suposição de que as variâncias das diferentes amostras (ou grupos) são iguais, ou seja, as variações em torno das médias são consistentes em todos os grupos. Isso é uma parte importante das suposições para a aplicação adequada do Teste t. Portanto, **o Teste F** é frequentemente usado para verificar a homocedasticidade, testando se as variâncias entre as amostras são estatisticamente iguais antes de aplicar o Teste t.\n"
   ]
  },
  {
   "cell_type": "code",
   "execution_count": 51,
   "id": "ee4ccd46",
   "metadata": {},
   "outputs": [
    {
     "name": "stderr",
     "output_type": "stream",
     "text": [
      "Warning message:\n",
      "\"package 'tidyverse' was built under R version 4.2.3\"\n",
      "Warning message:\n",
      "\"package 'tibble' was built under R version 4.2.3\"\n",
      "Warning message:\n",
      "\"package 'tidyr' was built under R version 4.2.3\"\n",
      "Warning message:\n",
      "\"package 'readr' was built under R version 4.2.3\"\n",
      "Warning message:\n",
      "\"package 'purrr' was built under R version 4.2.3\"\n",
      "Warning message:\n",
      "\"package 'dplyr' was built under R version 4.2.3\"\n",
      "Warning message:\n",
      "\"package 'stringr' was built under R version 4.2.3\"\n",
      "Warning message:\n",
      "\"package 'forcats' was built under R version 4.2.3\"\n",
      "Warning message:\n",
      "\"package 'lubridate' was built under R version 4.2.3\"\n",
      "── \u001b[1mAttaching core tidyverse packages\u001b[22m ──────────────────────────────────────────────────────────────── tidyverse 2.0.0 ──\n",
      "\u001b[32m✔\u001b[39m \u001b[34mdplyr    \u001b[39m 1.1.3     \u001b[32m✔\u001b[39m \u001b[34mreadr    \u001b[39m 2.1.4\n",
      "\u001b[32m✔\u001b[39m \u001b[34mforcats  \u001b[39m 1.0.0     \u001b[32m✔\u001b[39m \u001b[34mstringr  \u001b[39m 1.5.0\n",
      "\u001b[32m✔\u001b[39m \u001b[34mlubridate\u001b[39m 1.9.2     \u001b[32m✔\u001b[39m \u001b[34mtibble   \u001b[39m 3.2.1\n",
      "\u001b[32m✔\u001b[39m \u001b[34mpurrr    \u001b[39m 1.0.2     \u001b[32m✔\u001b[39m \u001b[34mtidyr    \u001b[39m 1.3.0\n",
      "── \u001b[1mConflicts\u001b[22m ────────────────────────────────────────────────────────────────────────────────── tidyverse_conflicts() ──\n",
      "\u001b[31m✖\u001b[39m \u001b[34mdplyr\u001b[39m::\u001b[32mfilter()\u001b[39m masks \u001b[34mstats\u001b[39m::filter()\n",
      "\u001b[31m✖\u001b[39m \u001b[34mdplyr\u001b[39m::\u001b[32mlag()\u001b[39m    masks \u001b[34mstats\u001b[39m::lag()\n",
      "\u001b[36mℹ\u001b[39m Use the conflicted package (\u001b[3m\u001b[34m<http://conflicted.r-lib.org/>\u001b[39m\u001b[23m) to force all conflicts to become errors\n",
      "Warning message:\n",
      "\"package 'car' was built under R version 4.2.3\"\n",
      "Carregando pacotes exigidos: carData\n",
      "\n",
      "Warning message:\n",
      "\"package 'carData' was built under R version 4.2.3\"\n",
      "\n",
      "Attaching package: 'car'\n",
      "\n",
      "\n",
      "The following object is masked from 'package:dplyr':\n",
      "\n",
      "    recode\n",
      "\n",
      "\n",
      "The following object is masked from 'package:purrr':\n",
      "\n",
      "    some\n",
      "\n",
      "\n"
     ]
    }
   ],
   "source": [
    "#Carregando pacotes\n",
    "#O pacote \"car\" se refere a \"Companion to Applied Regression.\" \n",
    "#Este pacote que oferece diversas funções e recursos para análise de regressão e estatística.\n",
    "library(tidyverse)\n",
    "library(car)"
   ]
  },
  {
   "cell_type": "code",
   "execution_count": 52,
   "id": "0b57a6a1",
   "metadata": {},
   "outputs": [
    {
     "data": {
      "text/html": [
       "<table class=\"dataframe\">\n",
       "<caption>A data.frame: 20 × 3</caption>\n",
       "<thead>\n",
       "\t<tr><th scope=col>extra</th><th scope=col>group</th><th scope=col>ID</th></tr>\n",
       "\t<tr><th scope=col>&lt;dbl&gt;</th><th scope=col>&lt;fct&gt;</th><th scope=col>&lt;fct&gt;</th></tr>\n",
       "</thead>\n",
       "<tbody>\n",
       "\t<tr><td> 0.7</td><td>1</td><td>1 </td></tr>\n",
       "\t<tr><td>-1.6</td><td>1</td><td>2 </td></tr>\n",
       "\t<tr><td>-0.2</td><td>1</td><td>3 </td></tr>\n",
       "\t<tr><td>-1.2</td><td>1</td><td>4 </td></tr>\n",
       "\t<tr><td>-0.1</td><td>1</td><td>5 </td></tr>\n",
       "\t<tr><td> 3.4</td><td>1</td><td>6 </td></tr>\n",
       "\t<tr><td> 3.7</td><td>1</td><td>7 </td></tr>\n",
       "\t<tr><td> 0.8</td><td>1</td><td>8 </td></tr>\n",
       "\t<tr><td> 0.0</td><td>1</td><td>9 </td></tr>\n",
       "\t<tr><td> 2.0</td><td>1</td><td>10</td></tr>\n",
       "\t<tr><td> 1.9</td><td>2</td><td>1 </td></tr>\n",
       "\t<tr><td> 0.8</td><td>2</td><td>2 </td></tr>\n",
       "\t<tr><td> 1.1</td><td>2</td><td>3 </td></tr>\n",
       "\t<tr><td> 0.1</td><td>2</td><td>4 </td></tr>\n",
       "\t<tr><td>-0.1</td><td>2</td><td>5 </td></tr>\n",
       "\t<tr><td> 4.4</td><td>2</td><td>6 </td></tr>\n",
       "\t<tr><td> 5.5</td><td>2</td><td>7 </td></tr>\n",
       "\t<tr><td> 1.6</td><td>2</td><td>8 </td></tr>\n",
       "\t<tr><td> 4.6</td><td>2</td><td>9 </td></tr>\n",
       "\t<tr><td> 3.4</td><td>2</td><td>10</td></tr>\n",
       "</tbody>\n",
       "</table>\n"
      ],
      "text/latex": [
       "A data.frame: 20 × 3\n",
       "\\begin{tabular}{lll}\n",
       " extra & group & ID\\\\\n",
       " <dbl> & <fct> & <fct>\\\\\n",
       "\\hline\n",
       "\t  0.7 & 1 & 1 \\\\\n",
       "\t -1.6 & 1 & 2 \\\\\n",
       "\t -0.2 & 1 & 3 \\\\\n",
       "\t -1.2 & 1 & 4 \\\\\n",
       "\t -0.1 & 1 & 5 \\\\\n",
       "\t  3.4 & 1 & 6 \\\\\n",
       "\t  3.7 & 1 & 7 \\\\\n",
       "\t  0.8 & 1 & 8 \\\\\n",
       "\t  0.0 & 1 & 9 \\\\\n",
       "\t  2.0 & 1 & 10\\\\\n",
       "\t  1.9 & 2 & 1 \\\\\n",
       "\t  0.8 & 2 & 2 \\\\\n",
       "\t  1.1 & 2 & 3 \\\\\n",
       "\t  0.1 & 2 & 4 \\\\\n",
       "\t -0.1 & 2 & 5 \\\\\n",
       "\t  4.4 & 2 & 6 \\\\\n",
       "\t  5.5 & 2 & 7 \\\\\n",
       "\t  1.6 & 2 & 8 \\\\\n",
       "\t  4.6 & 2 & 9 \\\\\n",
       "\t  3.4 & 2 & 10\\\\\n",
       "\\end{tabular}\n"
      ],
      "text/markdown": [
       "\n",
       "A data.frame: 20 × 3\n",
       "\n",
       "| extra &lt;dbl&gt; | group &lt;fct&gt; | ID &lt;fct&gt; |\n",
       "|---|---|---|\n",
       "|  0.7 | 1 | 1  |\n",
       "| -1.6 | 1 | 2  |\n",
       "| -0.2 | 1 | 3  |\n",
       "| -1.2 | 1 | 4  |\n",
       "| -0.1 | 1 | 5  |\n",
       "|  3.4 | 1 | 6  |\n",
       "|  3.7 | 1 | 7  |\n",
       "|  0.8 | 1 | 8  |\n",
       "|  0.0 | 1 | 9  |\n",
       "|  2.0 | 1 | 10 |\n",
       "|  1.9 | 2 | 1  |\n",
       "|  0.8 | 2 | 2  |\n",
       "|  1.1 | 2 | 3  |\n",
       "|  0.1 | 2 | 4  |\n",
       "| -0.1 | 2 | 5  |\n",
       "|  4.4 | 2 | 6  |\n",
       "|  5.5 | 2 | 7  |\n",
       "|  1.6 | 2 | 8  |\n",
       "|  4.6 | 2 | 9  |\n",
       "|  3.4 | 2 | 10 |\n",
       "\n"
      ],
      "text/plain": [
       "   extra group ID\n",
       "1   0.7  1     1 \n",
       "2  -1.6  1     2 \n",
       "3  -0.2  1     3 \n",
       "4  -1.2  1     4 \n",
       "5  -0.1  1     5 \n",
       "6   3.4  1     6 \n",
       "7   3.7  1     7 \n",
       "8   0.8  1     8 \n",
       "9   0.0  1     9 \n",
       "10  2.0  1     10\n",
       "11  1.9  2     1 \n",
       "12  0.8  2     2 \n",
       "13  1.1  2     3 \n",
       "14  0.1  2     4 \n",
       "15 -0.1  2     5 \n",
       "16  4.4  2     6 \n",
       "17  5.5  2     7 \n",
       "18  1.6  2     8 \n",
       "19  4.6  2     9 \n",
       "20  3.4  2     10"
      ]
     },
     "metadata": {},
     "output_type": "display_data"
    }
   ],
   "source": [
    "# Dataset sleep\n",
    "sleep"
   ]
  },
  {
   "cell_type": "markdown",
   "id": "51690ba4",
   "metadata": {},
   "source": [
    "### Validando a Suposição 4 com teste de normalidade shapiro.test()\n",
    "\n",
    "Para dizer que uma distribuição é normal, o valor-p precisa ser maior do que 0,05. Neste caso, precisamos falhar em rejeitar a a hipótese nula, em que: \n",
    "- H0 = Os dados seguem uma distribuição normal."
   ]
  },
  {
   "cell_type": "code",
   "execution_count": 53,
   "id": "ec153e5c",
   "metadata": {},
   "outputs": [],
   "source": [
    "#Divindo a coluna extra na variável 2 e 1.\n",
    "grupo_dois <- sleep$group == 2"
   ]
  },
  {
   "cell_type": "code",
   "execution_count": 54,
   "id": "2e8c003f",
   "metadata": {},
   "outputs": [
    {
     "data": {
      "text/html": [
       "<style>\n",
       ".list-inline {list-style: none; margin:0; padding: 0}\n",
       ".list-inline>li {display: inline-block}\n",
       ".list-inline>li:not(:last-child)::after {content: \"\\00b7\"; padding: 0 .5ex}\n",
       "</style>\n",
       "<ol class=list-inline><li>7</li><li>5</li></ol>\n"
      ],
      "text/latex": [
       "\\begin{enumerate*}\n",
       "\\item 7\n",
       "\\item 5\n",
       "\\end{enumerate*}\n"
      ],
      "text/markdown": [
       "1. 7\n",
       "2. 5\n",
       "\n",
       "\n"
      ],
      "text/plain": [
       "[1] 7 5"
      ]
     },
     "metadata": {},
     "output_type": "display_data"
    },
    {
     "data": {
      "image/png": "[encoded data removed]",
      "text/plain": [
       "plot without title"
      ]
     },
     "metadata": {
      "image/png": {
       "height": 420,
       "width": 420
      }
     },
     "output_type": "display_data"
    }
   ],
   "source": [
    "#Uma maneira rápida de verificar se os dados seguem uma distribuição normal é por meio do qqPlot\n",
    "qqPlot(sleep$extra[grupo_dois])"
   ]
  },
  {
   "cell_type": "code",
   "execution_count": 55,
   "id": "6d7fbe94",
   "metadata": {},
   "outputs": [
    {
     "data": {
      "text/html": [
       "<style>\n",
       ".list-inline {list-style: none; margin:0; padding: 0}\n",
       ".list-inline>li {display: inline-block}\n",
       ".list-inline>li:not(:last-child)::after {content: \"\\00b7\"; padding: 0 .5ex}\n",
       "</style>\n",
       "<ol class=list-inline><li>7</li><li>6</li></ol>\n"
      ],
      "text/latex": [
       "\\begin{enumerate*}\n",
       "\\item 7\n",
       "\\item 6\n",
       "\\end{enumerate*}\n"
      ],
      "text/markdown": [
       "1. 7\n",
       "2. 6\n",
       "\n",
       "\n"
      ],
      "text/plain": [
       "[1] 7 6"
      ]
     },
     "metadata": {},
     "output_type": "display_data"
    },
    {
     "data": {
      "image/png": "[encoded data removed]",
      "text/plain": [
       "plot without title"
      ]
     },
     "metadata": {
      "image/png": {
       "height": 420,
       "width": 420
      }
     },
     "output_type": "display_data"
    }
   ],
   "source": [
    "qqPlot(sleep$extra[!grupo_dois])"
   ]
  },
  {
   "cell_type": "markdown",
   "id": "101b9ad1",
   "metadata": {},
   "source": [
    "O QQ-plot, ou gráfico quantil-quantil, é uma ferramenta usada para visualizar a semelhança entre a distribuição de uma amostra de dados e uma distribuição teórica, geralmente a distribuição normal.\n",
    "\n",
    "**Análise:** Os pontos de dados da variável 'extra' estão dentro da área de confiança, indicando que os dados seguem uma distribuição normal."
   ]
  },
  {
   "cell_type": "code",
   "execution_count": 56,
   "id": "4ac84ed0",
   "metadata": {},
   "outputs": [
    {
     "data": {
      "text/plain": [
       "\n",
       "\tShapiro-Wilk normality test\n",
       "\n",
       "data:  sleep$extra[grupo_dois]\n",
       "W = 0.9193, p-value = 0.3511\n"
      ]
     },
     "metadata": {},
     "output_type": "display_data"
    }
   ],
   "source": [
    "# Teste de Shapiro para o grupo 2\n",
    "shapiro.test(sleep$extra[grupo_dois]) "
   ]
  },
  {
   "cell_type": "code",
   "execution_count": 57,
   "id": "ee3f6ae3",
   "metadata": {},
   "outputs": [
    {
     "data": {
      "text/plain": [
       "\n",
       "\tShapiro-Wilk normality test\n",
       "\n",
       "data:  sleep$extra[!grupo_dois]\n",
       "W = 0.92581, p-value = 0.4079\n"
      ]
     },
     "metadata": {},
     "output_type": "display_data"
    }
   ],
   "source": [
    "# Teste de Shapiro para o grupo 1\n",
    "shapiro.test(sleep$extra[!grupo_dois])"
   ]
  },
  {
   "cell_type": "markdown",
   "id": "758ba4d8",
   "metadata": {},
   "source": [
    "O valor-p do teste de cada grupo é maior que 0.05 e então falhamos em rejeitar a H0. **Podemos assumir que os dados seguem uma distribuição normal.**"
   ]
  },
  {
   "cell_type": "markdown",
   "id": "3a1c0c12",
   "metadata": {},
   "source": [
    "### Validando a Suposição 5 com Teste F\n",
    "\n",
    "- H0 = As médias de dados extraídos de uma população normalmente distribuída tem a mesma variância."
   ]
  },
  {
   "cell_type": "code",
   "execution_count": 58,
   "id": "628e5b8b",
   "metadata": {},
   "outputs": [
    {
     "data": {
      "text/html": [
       "<style>\n",
       ".dl-inline {width: auto; margin:0; padding: 0}\n",
       ".dl-inline>dt, .dl-inline>dd {float: none; width: auto; display: inline-block}\n",
       ".dl-inline>dt::after {content: \":\\0020\"; padding-right: .5ex}\n",
       ".dl-inline>dt:not(:first-of-type) {padding-left: .5ex}\n",
       "</style><dl class=dl-inline><dt>extra</dt><dd>0</dd><dt>group</dt><dd>0</dd><dt>ID</dt><dd>0</dd></dl>\n"
      ],
      "text/latex": [
       "\\begin{description*}\n",
       "\\item[extra] 0\n",
       "\\item[group] 0\n",
       "\\item[ID] 0\n",
       "\\end{description*}\n"
      ],
      "text/markdown": [
       "extra\n",
       ":   0group\n",
       ":   0ID\n",
       ":   0\n",
       "\n"
      ],
      "text/plain": [
       "extra group    ID \n",
       "    0     0     0 "
      ]
     },
     "metadata": {},
     "output_type": "display_data"
    }
   ],
   "source": [
    "# Primeiro checamos se há valores ausentes\n",
    "colSums(is.na(sleep))"
   ]
  },
  {
   "cell_type": "code",
   "execution_count": 59,
   "id": "52e6e1d3",
   "metadata": {},
   "outputs": [
    {
     "data": {
      "text/plain": [
       "   Min. 1st Qu.  Median    Mean 3rd Qu.    Max. \n",
       " -0.100   0.875   1.750   2.330   4.150   5.500 "
      ]
     },
     "metadata": {},
     "output_type": "display_data"
    },
    {
     "data": {
      "text/html": [
       "2.00224873579683"
      ],
      "text/latex": [
       "2.00224873579683"
      ],
      "text/markdown": [
       "2.00224873579683"
      ],
      "text/plain": [
       "[1] 2.002249"
      ]
     },
     "metadata": {},
     "output_type": "display_data"
    }
   ],
   "source": [
    "# Vejamos um resumo estatístico do dataset para grupo 2\n",
    "summary(sleep$extra[grupo_dois])\n",
    "sd(sleep$extra[grupo_dois])"
   ]
  },
  {
   "cell_type": "code",
   "execution_count": 60,
   "id": "84c58363",
   "metadata": {},
   "outputs": [
    {
     "data": {
      "text/plain": [
       "   Min. 1st Qu.  Median    Mean 3rd Qu.    Max. \n",
       " -1.600  -0.175   0.350   0.750   1.700   3.700 "
      ]
     },
     "metadata": {},
     "output_type": "display_data"
    },
    {
     "data": {
      "text/html": [
       "1.78900965775916"
      ],
      "text/latex": [
       "1.78900965775916"
      ],
      "text/markdown": [
       "1.78900965775916"
      ],
      "text/plain": [
       "[1] 1.78901"
      ]
     },
     "metadata": {},
     "output_type": "display_data"
    }
   ],
   "source": [
    "# Vejamos um resumo estatístico do dataset para grupo 1\n",
    "summary(sleep$extra[!grupo_dois])\n",
    "sd(sleep$extra[!grupo_dois])"
   ]
  },
  {
   "cell_type": "code",
   "execution_count": 61,
   "id": "5008f11e",
   "metadata": {},
   "outputs": [
    {
     "data": {
      "text/plain": [
       "\n",
       "\tF test to compare two variances\n",
       "\n",
       "data:  extra by group\n",
       "F = 0.79834, num df = 9, denom df = 9, p-value = 0.7427\n",
       "alternative hypothesis: true ratio of variances is not equal to 1\n",
       "95 percent confidence interval:\n",
       " 0.198297 3.214123\n",
       "sample estimates:\n",
       "ratio of variances \n",
       "         0.7983426 \n"
      ]
     },
     "metadata": {},
     "output_type": "display_data"
    }
   ],
   "source": [
    "#Aplicando teste F, variável extra como dependente, variável group = independente;\n",
    "var.test(extra ~ group, data = sleep)"
   ]
  },
  {
   "cell_type": "markdown",
   "id": "8e03bc76",
   "metadata": {},
   "source": [
    "O valor-p é de 0.7427, logo, maior que 0.05. Falhamos em rejeitar a H0. **Não há diferença significativa enre as variâncias dos 2 grupos.**"
   ]
  },
  {
   "cell_type": "markdown",
   "id": "fb14c354",
   "metadata": {},
   "source": [
    "### Suposições validadas. Agora sim podemos aplicar o Teste t.\n",
    "\n",
    "**Aplicamos o Teste t para responder a questão:**\n",
    "- H0 (Hipótese Nula) – Não há diferença significativa entre as médias dos 2 grupos"
   ]
  },
  {
   "cell_type": "code",
   "execution_count": 62,
   "id": "4f432321",
   "metadata": {},
   "outputs": [
    {
     "data": {
      "text/plain": [
       "\n",
       "\tTwo Sample t-test\n",
       "\n",
       "data:  extra by group\n",
       "t = -1.8608, df = 18, p-value = 0.07919\n",
       "alternative hypothesis: true difference in means between group 1 and group 2 is not equal to 0\n",
       "95 percent confidence interval:\n",
       " -3.363874  0.203874\n",
       "sample estimates:\n",
       "mean in group 1 mean in group 2 \n",
       "           0.75            2.33 \n"
      ]
     },
     "metadata": {},
     "output_type": "display_data"
    }
   ],
   "source": [
    "# Aplicamos o Teste t para responder a questão:\n",
    "t.test(extra ~ group, data = sleep, var.equal = TRUE)"
   ]
  },
  {
   "cell_type": "markdown",
   "id": "cf8ae693",
   "metadata": {},
   "source": [
    "## Análise Final:\n",
    "\n",
    "**O valor-p do teste é 0.07919, logo, maior que 0.05. Falhamos em rejeitar a H0.** Podemos concluir que os 2 grupos não tem diferença significativa. Não há diferença significativa entre os medicamentos aplicados para tratar distúrbios do sono.\n"
   ]
  },
  {
   "cell_type": "markdown",
   "id": "68553b10",
   "metadata": {},
   "source": [
    "## Modelo de Regressão Linear\n",
    "\n",
    "A Regressão Linear é uma técnica estatística utilizada para modelar a relação entre uma variável dependente (também chamada de variável resposta ou variável alvo) e uma ou mais variáveis independentes (também chamadas de variáveis explicativas ou preditoras).\n",
    "\n",
    "A Regressão Linear tem como objetivo estimar os coeficientes da equação que melhor descreve essa relação, minimizando a soma dos erros quadráticos entre os valores observados e os valores previstos pelo modelo.\n",
    "\n",
    "O modelo de regressão linear simples é representado pela equação:\n",
    "\n",
    " **Y = β0 + β1*X + ε**\n",
    "\n",
    "-  **Y** - é a variável dependente.\n",
    "-  **X** - é a variável independente.\n",
    "-  **β0** - é o coeficiente linear, ponto que corta o eixo y (intercepto).\n",
    "-  **β1** - é o coeficiente associado a X (a inclinação)\n",
    "-  **ε** - é o erro.\n",
    "\n",
    "β1 também pode ser entendido como a taxa de variação de Y dependente de X, ou seja, o quanto a variável dependente (Y) muda em resposta a uma unidade de mudança na variável independente (X). Estes termos se relacionam de forma indireta com a trigonometria, assim B1 também pode ser definida como a tangente do ângulo α (alfa), uma vez que, a tangente do ângulo alfa é a razão entre o comprimento do cateto oposto e o comprimento do cateto adjacente."
   ]
  },
  {
   "cell_type": "markdown",
   "id": "f020b7dd",
   "metadata": {},
   "source": [
    "![regresao](regressao_linear.jpg)"
   ]
  },
  {
   "cell_type": "markdown",
   "id": "875f4887",
   "metadata": {},
   "source": [
    "**O erro previsto (ε)** na equação da reta em um modelo de regressão linear é a diferença entre o valor observado da variável dependente (Y) e o valor previsto pelo modelo (Ŷ). Em outras palavras, o erro (ε) é a diferença entre os valores reais e os valores estimados pela equação da reta. **Ele também é chamado de valor residual ou muitas vezes chamado de resíduo**\n",
    "\n",
    "**A fórmula para o erro é:**\n",
    "\n",
    "**ε = Y - Ŷ**\n",
    "Onde:\n",
    "\n",
    "- **ε** é o erro\n",
    "- **Y** é o valor observado da variável dependente\n",
    "- **Ŷ** é o valor previsto pela equação da reta (Ŷ = β0 + β1*X)\n",
    "\n",
    "Os valores residuais podem ser positivos (indicando que o modelo subestimou o valor observado) ou negativos (indicando que o modelo superestimou o valor observado), ou até mesmo zero se o modelo previr com precisão o valor observado.**O valor residual não deve exibir um padrão através da variável depedente.**\n",
    "\n",
    "**Quando você representa os dados em um gráfico de dispersão em relação à reta de regressão, o valor residual é a distância vertical entre o ponto de dados real e a reta de regressão.A imagem abaixo representa o erro residual no gráfico de dispersão do data frame mtcars:**"
   ]
  },
  {
   "cell_type": "markdown",
   "id": "7ad15be8",
   "metadata": {},
   "source": [
    "![erro_residual](erro_residual.jpg)"
   ]
  },
  {
   "cell_type": "markdown",
   "id": "1b384bf5",
   "metadata": {},
   "source": [
    "### Erro Padrão\n",
    "\n",
    "O erro padrão amostral (Standard Error em inglês) é uma medida estatística que quantifica a variação ou a dispersão de uma estatística de amostra, como a média, em relação a várias amostras retiradas da mesma população. **Sendo assim, é uma medida que ajuda a verificar a confiabilidade da média amostral calculada.**  \n",
    "\n",
    "Desta forma, o erro padrão amostral é uma medida importante na estatística que fornece informações sobre a precisão das estimativas amostrais e ajuda avaliar o quão representativa uma amostra é em relação à população da qual foi retirada. **Quanto menor o erro padrão, maior a precisão das estimativas.**\n",
    "\n",
    "**Para calcular o erro padrão, geralmente usa-se a seguinte fórmula:**\n",
    "\n",
    "SE =  s/√n\n",
    "     \n",
    "Onde:\n",
    "- SE é o erro padrão;\n",
    "- s é o desvio padrão das observações na amostra;\n",
    "- n é o tamanho da amostra.\n",
    "\n",
    "\n",
    "Suponha que desejassemos estimar a média de uma determinada característica em uma população, como a altura média de todas as pessoas em um país. **Em vez de medir todas as pessoas do país, coletamos diversas amostras do mesmo tamanho, que são um grupo menor de pessoas representativo da população. Cada vez que você calcula a média a partir dessas amostras, você obtém um valor ligeiramente diferente. Essa variação é o que o erro padrão amostral nos ajuda a medir. Quanto maior o erro padrão, maior a variação nas estimativas da média.**\n",
    "\n",
    "**Obs.:**  Ao calcularmos o erro padrão da média (ou erro padrão das médias), não calculamos vários desvios padrão para cada amostra, mas sim um único desvio padrão que representa a variabilidade das médias amostrais.\n",
    "\n",
    "### Como podemos utilizar o erro padrão?\n",
    "\n",
    "Por meio do erro padrão, pode-se estimar um **intervalo de confiança** para a média populacional a partir da média amostral calculada. \n",
    "\n",
    "Em que **intervalo de confiança** representa uma estimativa estatística que fornece um intervalo onde um parâmetro populacional estará contido. \n",
    "\n",
    "Já o **nível de confiança** representa a probabilidade que a nossa estimativa esteja dentro daquele intervalo. \n",
    "\n",
    "#### Vamos gerar valores aleatórios para demonstrar  o uso destas estatísticas:"
   ]
  },
  {
   "cell_type": "code",
   "execution_count": 63,
   "id": "80a9183b",
   "metadata": {},
   "outputs": [
    {
     "data": {
      "text/html": [
       "<style>\n",
       ".list-inline {list-style: none; margin:0; padding: 0}\n",
       ".list-inline>li {display: inline-block}\n",
       ".list-inline>li:not(:last-child)::after {content: \"\\00b7\"; padding: 0 .5ex}\n",
       "</style>\n",
       "<ol class=list-inline><li>528</li><li>440</li><li>454</li><li>452</li><li>572</li><li>436</li><li>418</li><li>588</li><li>585</li><li>587</li><li>461</li><li>512</li><li>413</li><li>477</li><li>491</li><li>599</li><li>592</li><li>460</li><li>405</li><li>427</li><li>429</li><li>414</li><li>519</li><li>443</li><li>504</li><li>425</li><li>427</li><li>569</li><li>423</li><li>445</li><li>516</li><li>539</li><li>546</li><li>514</li><li>494</li><li>415</li><li>578</li><li>549</li><li>457</li><li>456</li><li>473</li><li>443</li><li>494</li><li>569</li><li>461</li><li>465</li><li>454</li><li>510</li><li>538</li><li>410</li></ol>\n"
      ],
      "text/latex": [
       "\\begin{enumerate*}\n",
       "\\item 528\n",
       "\\item 440\n",
       "\\item 454\n",
       "\\item 452\n",
       "\\item 572\n",
       "\\item 436\n",
       "\\item 418\n",
       "\\item 588\n",
       "\\item 585\n",
       "\\item 587\n",
       "\\item 461\n",
       "\\item 512\n",
       "\\item 413\n",
       "\\item 477\n",
       "\\item 491\n",
       "\\item 599\n",
       "\\item 592\n",
       "\\item 460\n",
       "\\item 405\n",
       "\\item 427\n",
       "\\item 429\n",
       "\\item 414\n",
       "\\item 519\n",
       "\\item 443\n",
       "\\item 504\n",
       "\\item 425\n",
       "\\item 427\n",
       "\\item 569\n",
       "\\item 423\n",
       "\\item 445\n",
       "\\item 516\n",
       "\\item 539\n",
       "\\item 546\n",
       "\\item 514\n",
       "\\item 494\n",
       "\\item 415\n",
       "\\item 578\n",
       "\\item 549\n",
       "\\item 457\n",
       "\\item 456\n",
       "\\item 473\n",
       "\\item 443\n",
       "\\item 494\n",
       "\\item 569\n",
       "\\item 461\n",
       "\\item 465\n",
       "\\item 454\n",
       "\\item 510\n",
       "\\item 538\n",
       "\\item 410\n",
       "\\end{enumerate*}\n"
      ],
      "text/markdown": [
       "1. 528\n",
       "2. 440\n",
       "3. 454\n",
       "4. 452\n",
       "5. 572\n",
       "6. 436\n",
       "7. 418\n",
       "8. 588\n",
       "9. 585\n",
       "10. 587\n",
       "11. 461\n",
       "12. 512\n",
       "13. 413\n",
       "14. 477\n",
       "15. 491\n",
       "16. 599\n",
       "17. 592\n",
       "18. 460\n",
       "19. 405\n",
       "20. 427\n",
       "21. 429\n",
       "22. 414\n",
       "23. 519\n",
       "24. 443\n",
       "25. 504\n",
       "26. 425\n",
       "27. 427\n",
       "28. 569\n",
       "29. 423\n",
       "30. 445\n",
       "31. 516\n",
       "32. 539\n",
       "33. 546\n",
       "34. 514\n",
       "35. 494\n",
       "36. 415\n",
       "37. 578\n",
       "38. 549\n",
       "39. 457\n",
       "40. 456\n",
       "41. 473\n",
       "42. 443\n",
       "43. 494\n",
       "44. 569\n",
       "45. 461\n",
       "46. 465\n",
       "47. 454\n",
       "48. 510\n",
       "49. 538\n",
       "50. 410\n",
       "\n",
       "\n"
      ],
      "text/plain": [
       " [1] 528 440 454 452 572 436 418 588 585 587 461 512 413 477 491 599 592 460 405\n",
       "[20] 427 429 414 519 443 504 425 427 569 423 445 516 539 546 514 494 415 578 549\n",
       "[39] 457 456 473 443 494 569 461 465 454 510 538 410"
      ]
     },
     "metadata": {},
     "output_type": "display_data"
    }
   ],
   "source": [
    "dados1 <- sample(400:600, 50, replace = TRUE)\n",
    "dados1"
   ]
  },
  {
   "cell_type": "code",
   "execution_count": 64,
   "id": "9f38bc22",
   "metadata": {},
   "outputs": [
    {
     "data": {
      "text/html": [
       "59.1184352613895"
      ],
      "text/latex": [
       "59.1184352613895"
      ],
      "text/markdown": [
       "59.1184352613895"
      ],
      "text/plain": [
       "[1] 59.11844"
      ]
     },
     "metadata": {},
     "output_type": "display_data"
    },
    {
     "data": {
      "text/html": [
       "487.52"
      ],
      "text/latex": [
       "487.52"
      ],
      "text/markdown": [
       "487.52"
      ],
      "text/plain": [
       "[1] 487.52"
      ]
     },
     "metadata": {},
     "output_type": "display_data"
    }
   ],
   "source": [
    "#Desvio padrão e média\n",
    "sd(dados1)\n",
    "mean(dados1)"
   ]
  },
  {
   "cell_type": "code",
   "execution_count": 65,
   "id": "183815f3",
   "metadata": {},
   "outputs": [
    {
     "data": {
      "text/html": [
       "8.36060929329328"
      ],
      "text/latex": [
       "8.36060929329328"
      ],
      "text/markdown": [
       "8.36060929329328"
      ],
      "text/plain": [
       "[1] 8.360609"
      ]
     },
     "metadata": {},
     "output_type": "display_data"
    }
   ],
   "source": [
    "# Erro padrão\n",
    "erro_padrao_dados1 <- sd(dados1) / sqrt(length(dados1))\n",
    "erro_padrao_dados1"
   ]
  },
  {
   "cell_type": "markdown",
   "id": "a421fef8",
   "metadata": {},
   "source": [
    "Erro padrão = 8,295"
   ]
  },
  {
   "cell_type": "markdown",
   "id": "c7455c50",
   "metadata": {},
   "source": [
    "## Escore Z\n",
    "\n",
    "**Basicamente pode ser definido como o quanto uma medidade se afasta da média em termos de desvios-padrão**\n",
    " - Quando o escore Z é positivo isto indica que o dado está acima da média e quando o mesmo é negativo significa que o dado está abaixo da média.\n",
    " - Aproximadamente 99,72% da área sob a curva da Distribuição Normal padrão (com média 0 e desvio padrão 1) está contida no intervalo de -3 a +3 desvios padrão da média. \n",
    " \n",
    "![escore_z](dis_normal.jpg)"
   ]
  },
  {
   "cell_type": "markdown",
   "id": "d8e45394",
   "metadata": {},
   "source": [
    "### Escore Z e intervalo de confiança\n",
    "\n",
    "**Quando estabelecemos um nível de confiança de 95%, por exemplo, estamos indicando que aproximadamente 95% dos valores estarão contidos em um intervalo de cerca de 1,96 desvios padrão da média em uma distribuição normal padrão.** O valor de 1,96 é usado como um valor de referência para um nível de confiança de 95% em uma distribuição normal padrão. Isso significa que você está 95% confiante de que a média populacional (ou o parâmetro de interesse) está dentro desse intervalo.\n",
    "\n",
    "**Para um nível de confiança de 95%, aproximadamente 95% da área sob a curva da distribuição normal padrão está contida entre -1,96 e +1,96 desvios padrão da média. Portanto, ao construir um intervalo de confiança de 95%, você usa o valor de 1,96 como um fator de escala para determinar o intervalo em torno da média.**\n",
    "\n",
    "![nivel_confianca](nivel_confia.jpg)"
   ]
  },
  {
   "cell_type": "markdown",
   "id": "93c0b458",
   "metadata": {},
   "source": [
    "### O escore Z é conhecido e a tabela abaixo indica o valor em cada situação desejada."
   ]
  },
  {
   "cell_type": "code",
   "execution_count": 66,
   "id": "0a92272b",
   "metadata": {},
   "outputs": [
    {
     "data": {
      "text/html": [
       "<table class=\"dataframe\">\n",
       "<caption>A data.frame: 10 × 2</caption>\n",
       "<thead>\n",
       "\t<tr><th scope=col>Nivel_de_Confianca</th><th scope=col>Valor_Z</th></tr>\n",
       "\t<tr><th scope=col>&lt;dbl&gt;</th><th scope=col>&lt;dbl&gt;</th></tr>\n",
       "</thead>\n",
       "<tbody>\n",
       "\t<tr><td>0.90</td><td>1.645</td></tr>\n",
       "\t<tr><td>0.91</td><td>1.695</td></tr>\n",
       "\t<tr><td>0.92</td><td>1.751</td></tr>\n",
       "\t<tr><td>0.93</td><td>1.812</td></tr>\n",
       "\t<tr><td>0.94</td><td>1.881</td></tr>\n",
       "\t<tr><td>0.95</td><td>1.960</td></tr>\n",
       "\t<tr><td>0.96</td><td>2.054</td></tr>\n",
       "\t<tr><td>0.97</td><td>2.170</td></tr>\n",
       "\t<tr><td>0.98</td><td>2.326</td></tr>\n",
       "\t<tr><td>0.99</td><td>2.576</td></tr>\n",
       "</tbody>\n",
       "</table>\n"
      ],
      "text/latex": [
       "A data.frame: 10 × 2\n",
       "\\begin{tabular}{ll}\n",
       " Nivel\\_de\\_Confianca & Valor\\_Z\\\\\n",
       " <dbl> & <dbl>\\\\\n",
       "\\hline\n",
       "\t 0.90 & 1.645\\\\\n",
       "\t 0.91 & 1.695\\\\\n",
       "\t 0.92 & 1.751\\\\\n",
       "\t 0.93 & 1.812\\\\\n",
       "\t 0.94 & 1.881\\\\\n",
       "\t 0.95 & 1.960\\\\\n",
       "\t 0.96 & 2.054\\\\\n",
       "\t 0.97 & 2.170\\\\\n",
       "\t 0.98 & 2.326\\\\\n",
       "\t 0.99 & 2.576\\\\\n",
       "\\end{tabular}\n"
      ],
      "text/markdown": [
       "\n",
       "A data.frame: 10 × 2\n",
       "\n",
       "| Nivel_de_Confianca &lt;dbl&gt; | Valor_Z &lt;dbl&gt; |\n",
       "|---|---|\n",
       "| 0.90 | 1.645 |\n",
       "| 0.91 | 1.695 |\n",
       "| 0.92 | 1.751 |\n",
       "| 0.93 | 1.812 |\n",
       "| 0.94 | 1.881 |\n",
       "| 0.95 | 1.960 |\n",
       "| 0.96 | 2.054 |\n",
       "| 0.97 | 2.170 |\n",
       "| 0.98 | 2.326 |\n",
       "| 0.99 | 2.576 |\n",
       "\n"
      ],
      "text/plain": [
       "   Nivel_de_Confianca Valor_Z\n",
       "1  0.90               1.645  \n",
       "2  0.91               1.695  \n",
       "3  0.92               1.751  \n",
       "4  0.93               1.812  \n",
       "5  0.94               1.881  \n",
       "6  0.95               1.960  \n",
       "7  0.96               2.054  \n",
       "8  0.97               2.170  \n",
       "9  0.98               2.326  \n",
       "10 0.99               2.576  "
      ]
     },
     "metadata": {},
     "output_type": "display_data"
    }
   ],
   "source": [
    "#Criando tabela com z score e nivel de confianca\n",
    "tabela_confianca <- data.frame(\n",
    "        Nivel_de_Confianca = c(0.90, 0.91, 0.92, 0.93, 0.94, 0.95, 0.96, 0.97, 0.98, 0.99),\n",
    "        Valor_Z = c(1.645, 1.695, 1.751, 1.812, 1.881, 1.960, 2.054, 2.170, 2.326, 2.576)\n",
    "    )\n",
    "tabela_confianca"
   ]
  },
  {
   "cell_type": "markdown",
   "id": "c70f8d6e",
   "metadata": {},
   "source": [
    "### Agora vamos calcular um intervalo de confiança para a média com um nível de 95% confiança."
   ]
  },
  {
   "cell_type": "code",
   "execution_count": 67,
   "id": "f13ff06b",
   "metadata": {},
   "outputs": [],
   "source": [
    "# Função para calcular o intervalo de confiança\n",
    "intervalo_confian <- function(x, y) {\n",
    "    \n",
    "    # Verifica se y é um valor válido. Para cada valor de y, verifica se é igual a cada valor da coluna Nível de Confiança.\n",
    "    # Se a condição for atendida, o valor associado à coluna Valor_Z será armazenado na variável valor_z.\n",
    "    \n",
    "    if (y %in% tabela_confianca$Nivel_de_Confianca) {\n",
    "        valor_z <- tabela_confianca$Valor_Z[tabela_confianca$Nivel_de_Confianca == y]\n",
    "        cat('Valor Z:', valor_z, '\\n') # É responsável por imprimir uma mensagem no console\n",
    "        \n",
    "        # Cálculo\n",
    "        erro_padrao_dados <- sd(x) / sqrt(length(x))\n",
    "        lower <- mean(x) - valor_z * erro_padrao_dados\n",
    "        upper <- mean(x) + valor_z * erro_padrao_dados\n",
    "        cat('Limite Inferior:', lower, '\\n')\n",
    "        cat('Limite Superior', upper, '\\n')\n",
    "        \n",
    "        # Atribuir os valores de lower e upper a variáveis globais\n",
    "        #envir = .GlobalEnv especifica que queremos que essa variável seja global.\n",
    "        assign('lower', lower, envir = .GlobalEnv)\n",
    "        assign('upper', upper, envir = .GlobalEnv)\n",
    "        \n",
    "    } else {\n",
    "        cat('Valor Z não encontrado na tabela\\n')\n",
    "    }\n",
    "}"
   ]
  },
  {
   "cell_type": "code",
   "execution_count": 68,
   "id": "1d726f63",
   "metadata": {},
   "outputs": [
    {
     "name": "stdout",
     "output_type": "stream",
     "text": [
      "Valor Z: 1.96 \n",
      "Limite Inferior: 471.1332 \n",
      "Limite Superior 503.9068 \n"
     ]
    }
   ],
   "source": [
    "intervalo_confian(dados1,0.95)"
   ]
  },
  {
   "cell_type": "code",
   "execution_count": 69,
   "id": "3e3761d4",
   "metadata": {},
   "outputs": [
    {
     "name": "stdout",
     "output_type": "stream",
     "text": [
      "Portanto, podemos considerar que existe a probabilidade de 95% do intervalo de 471.1332 a 503.9068 conter a \n",
      "média dos dados."
     ]
    }
   ],
   "source": [
    "cat('Portanto, podemos considerar que existe a probabilidade de 95% do intervalo de', lower, 'a', upper,'conter a \n",
    "média dos dados.')"
   ]
  },
  {
   "cell_type": "code",
   "execution_count": 70,
   "id": "0c27f3fb",
   "metadata": {},
   "outputs": [
    {
     "data": {
      "text/html": [
       "<table class=\"dataframe\">\n",
       "<caption>A data.frame: 1 × 3</caption>\n",
       "<thead>\n",
       "\t<tr><th scope=col>Media</th><th scope=col>Lower</th><th scope=col>Upper</th></tr>\n",
       "\t<tr><th scope=col>&lt;dbl&gt;</th><th scope=col>&lt;dbl&gt;</th><th scope=col>&lt;dbl&gt;</th></tr>\n",
       "</thead>\n",
       "<tbody>\n",
       "\t<tr><td>487.52</td><td>471.1332</td><td>503.9068</td></tr>\n",
       "</tbody>\n",
       "</table>\n"
      ],
      "text/latex": [
       "A data.frame: 1 × 3\n",
       "\\begin{tabular}{lll}\n",
       " Media & Lower & Upper\\\\\n",
       " <dbl> & <dbl> & <dbl>\\\\\n",
       "\\hline\n",
       "\t 487.52 & 471.1332 & 503.9068\\\\\n",
       "\\end{tabular}\n"
      ],
      "text/markdown": [
       "\n",
       "A data.frame: 1 × 3\n",
       "\n",
       "| Media &lt;dbl&gt; | Lower &lt;dbl&gt; | Upper &lt;dbl&gt; |\n",
       "|---|---|---|\n",
       "| 487.52 | 471.1332 | 503.9068 |\n",
       "\n"
      ],
      "text/plain": [
       "  Media  Lower    Upper   \n",
       "1 487.52 471.1332 503.9068"
      ]
     },
     "metadata": {},
     "output_type": "display_data"
    }
   ],
   "source": [
    "# Para criar um gráfico pelo ggplot precisamos criar alguns objetos que definem os dados;\n",
    "\n",
    "# Armazenando a media em um objeto\n",
    "media <-mean(dados1)\n",
    "\n",
    "# Criando um data frame com os valores necessários para criação do gráfico \n",
    "data <- data.frame(Media = media, Lower = lower, Upper = upper)\n",
    "data"
   ]
  },
  {
   "cell_type": "code",
   "execution_count": 71,
   "id": "18d18de1",
   "metadata": {},
   "outputs": [
    {
     "data": {
      "image/png": "[encoded data removed]",
      "text/plain": [
       "plot without title"
      ]
     },
     "metadata": {
      "image/png": {
       "height": 420,
       "width": 420
      }
     },
     "output_type": "display_data"
    }
   ],
   "source": [
    "#Indicando que a média é representada pela posição da linha no eixo y\n",
    "ggplot(data, aes(x =' ', y = Media)) +\n",
    "# Adiciona uma camada gráfica de linhas verticais (ou barras verticais) que representam o intervalo de confiança\n",
    "  geom_linerange(aes(ymin = Lower, ymax = Upper), linewidth = 1.5, color = \"lightblue\") +\n",
    "#Adicionando barras horizontais\n",
    "  geom_errorbar(aes(ymin = Lower, ymax = Lower), width = 0.2, linewidth = 1.5, color = \"lightblue\") +\n",
    "  geom_errorbar(aes(ymin = Upper, ymax = Upper), width = 0.2, linewidth = 1.5, color = \"lightblue\") +\n",
    "#Adiciona uma camada gráfica de pontos\n",
    "  geom_point(size = 3.5, color = \"blue\") +\n",
    "  labs(title = \"Gráfico de Dispersão da Média com Limite Inferior e Superior\", y = \"Média\") +\n",
    "  theme_minimal() + \n",
    "theme(\n",
    "    text = element_text(size = 14)  # Ajuste o tamanho da fonte (14 neste exemplo)\n",
    "  )"
   ]
  }
 ],
 "metadata": {
  "kernelspec": {
   "display_name": "R",
   "language": "R",
   "name": "ir"
  },
  "language_info": {
   "codemirror_mode": "r",
   "file_extension": ".r",
   "mimetype": "text/x-r-source",
   "name": "R",
   "pygments_lexer": "r",
   "version": "4.2.2"
  }
 },
 "nbformat": 4,
 "nbformat_minor": 5
}
