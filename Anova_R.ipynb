{
 "cells": [
  {
   "cell_type": "markdown",
   "id": "c44722e1",
   "metadata": {},
   "source": [
    "### O que fazer quando a suposição do teste estatístico não é satisfeita?\n",
    "\n",
    "Neste estudo de caso usaremos o dataset Tooth Growth disponível no pacote datasets em R Esse dataset contém um conjunto de registros com informações sobre o comprimento dos  dentes  de  Porcos  da  Guiné.  Pesquisadores  ministraram  diferentes  doses  de 2  tipos  de suplementos vitamínicos em 60 porquinhos e avaliaram o resultado no crescimento dos dentes dos animais.  Com base nesses dados iremos responder à seguinte pergunta:\n",
    "**Há diferença significativa no crescimento dos dentes de acordo com o tipo de suplemento usado nos Porcos da Guiné?**\n"
   ]
  },
  {
   "cell_type": "code",
   "execution_count": 1,
   "id": "2bf5300c",
   "metadata": {},
   "outputs": [
    {
     "name": "stderr",
     "output_type": "stream",
     "text": [
      "Warning message:\n",
      "\"package 'ggplot2' was built under R version 4.2.3\"\n",
      "Warning message:\n",
      "\"package 'GGally' was built under R version 4.2.3\"\n",
      "Registered S3 method overwritten by 'GGally':\n",
      "  method from   \n",
      "  +.gg   ggplot2\n",
      "\n"
     ]
    }
   ],
   "source": [
    "#Carregando pacotes\n",
    "library(ggplot2)\n",
    "library(GGally) # oferece funções adicionais para criar gráficos de matriz e visualizações de dados"
   ]
  },
  {
   "cell_type": "code",
   "execution_count": 2,
   "id": "f5baa69d",
   "metadata": {
    "scrolled": true
   },
   "outputs": [
    {
     "data": {
      "text/html": [
       "<style>\n",
       ".list-inline {list-style: none; margin:0; padding: 0}\n",
       ".list-inline>li {display: inline-block}\n",
       ".list-inline>li:not(:last-child)::after {content: \"\\00b7\"; padding: 0 .5ex}\n",
       "</style>\n",
       "<ol class=list-inline><li>60</li><li>3</li></ol>\n"
      ],
      "text/latex": [
       "\\begin{enumerate*}\n",
       "\\item 60\n",
       "\\item 3\n",
       "\\end{enumerate*}\n"
      ],
      "text/markdown": [
       "1. 60\n",
       "2. 3\n",
       "\n",
       "\n"
      ],
      "text/plain": [
       "[1] 60  3"
      ]
     },
     "metadata": {},
     "output_type": "display_data"
    },
    {
     "data": {
      "text/html": [
       "<table class=\"dataframe\">\n",
       "<caption>A data.frame: 6 × 3</caption>\n",
       "<thead>\n",
       "\t<tr><th></th><th scope=col>len</th><th scope=col>supp</th><th scope=col>dose</th></tr>\n",
       "\t<tr><th></th><th scope=col>&lt;dbl&gt;</th><th scope=col>&lt;fct&gt;</th><th scope=col>&lt;dbl&gt;</th></tr>\n",
       "</thead>\n",
       "<tbody>\n",
       "\t<tr><th scope=row>1</th><td> 4.2</td><td>VC</td><td>0.5</td></tr>\n",
       "\t<tr><th scope=row>2</th><td>11.5</td><td>VC</td><td>0.5</td></tr>\n",
       "\t<tr><th scope=row>3</th><td> 7.3</td><td>VC</td><td>0.5</td></tr>\n",
       "\t<tr><th scope=row>4</th><td> 5.8</td><td>VC</td><td>0.5</td></tr>\n",
       "\t<tr><th scope=row>5</th><td> 6.4</td><td>VC</td><td>0.5</td></tr>\n",
       "\t<tr><th scope=row>6</th><td>10.0</td><td>VC</td><td>0.5</td></tr>\n",
       "</tbody>\n",
       "</table>\n"
      ],
      "text/latex": [
       "A data.frame: 6 × 3\n",
       "\\begin{tabular}{r|lll}\n",
       "  & len & supp & dose\\\\\n",
       "  & <dbl> & <fct> & <dbl>\\\\\n",
       "\\hline\n",
       "\t1 &  4.2 & VC & 0.5\\\\\n",
       "\t2 & 11.5 & VC & 0.5\\\\\n",
       "\t3 &  7.3 & VC & 0.5\\\\\n",
       "\t4 &  5.8 & VC & 0.5\\\\\n",
       "\t5 &  6.4 & VC & 0.5\\\\\n",
       "\t6 & 10.0 & VC & 0.5\\\\\n",
       "\\end{tabular}\n"
      ],
      "text/markdown": [
       "\n",
       "A data.frame: 6 × 3\n",
       "\n",
       "| <!--/--> | len &lt;dbl&gt; | supp &lt;fct&gt; | dose &lt;dbl&gt; |\n",
       "|---|---|---|---|\n",
       "| 1 |  4.2 | VC | 0.5 |\n",
       "| 2 | 11.5 | VC | 0.5 |\n",
       "| 3 |  7.3 | VC | 0.5 |\n",
       "| 4 |  5.8 | VC | 0.5 |\n",
       "| 5 |  6.4 | VC | 0.5 |\n",
       "| 6 | 10.0 | VC | 0.5 |\n",
       "\n"
      ],
      "text/plain": [
       "  len  supp dose\n",
       "1  4.2 VC   0.5 \n",
       "2 11.5 VC   0.5 \n",
       "3  7.3 VC   0.5 \n",
       "4  5.8 VC   0.5 \n",
       "5  6.4 VC   0.5 \n",
       "6 10.0 VC   0.5 "
      ]
     },
     "metadata": {},
     "output_type": "display_data"
    }
   ],
   "source": [
    "dados <- ToothGrowth\n",
    "dim(dados)\n",
    "head(dados)"
   ]
  },
  {
   "cell_type": "markdown",
   "id": "482468da",
   "metadata": {},
   "source": [
    "### Variáveis:\n",
    "- len: Comprimento do crescimento dentário.\n",
    "- supp: Tipo de suplemento (VC ou OJ): \n",
    "    VC: Vitamina C;\n",
    "    OJ: Suco de laranja\n",
    "- dose: Dose de vitamina C (0.5 ou 1.0)."
   ]
  },
  {
   "cell_type": "code",
   "execution_count": 3,
   "id": "57da8945",
   "metadata": {},
   "outputs": [
    {
     "data": {
      "text/html": [
       "<style>\n",
       ".dl-inline {width: auto; margin:0; padding: 0}\n",
       ".dl-inline>dt, .dl-inline>dd {float: none; width: auto; display: inline-block}\n",
       ".dl-inline>dt::after {content: \":\\0020\"; padding-right: .5ex}\n",
       ".dl-inline>dt:not(:first-of-type) {padding-left: .5ex}\n",
       "</style><dl class=dl-inline><dt>len</dt><dd>0</dd><dt>supp</dt><dd>0</dd><dt>dose</dt><dd>0</dd></dl>\n"
      ],
      "text/latex": [
       "\\begin{description*}\n",
       "\\item[len] 0\n",
       "\\item[supp] 0\n",
       "\\item[dose] 0\n",
       "\\end{description*}\n"
      ],
      "text/markdown": [
       "len\n",
       ":   0supp\n",
       ":   0dose\n",
       ":   0\n",
       "\n"
      ],
      "text/plain": [
       " len supp dose \n",
       "   0    0    0 "
      ]
     },
     "metadata": {},
     "output_type": "display_data"
    }
   ],
   "source": [
    "colSums(is.na(dados))"
   ]
  },
  {
   "cell_type": "code",
   "execution_count": 4,
   "id": "6fde0fa8",
   "metadata": {},
   "outputs": [
    {
     "name": "stdout",
     "output_type": "stream",
     "text": [
      "'data.frame':\t60 obs. of  3 variables:\n",
      " $ len : num  4.2 11.5 7.3 5.8 6.4 10 11.2 11.2 5.2 7 ...\n",
      " $ supp: Factor w/ 2 levels \"OJ\",\"VC\": 2 2 2 2 2 2 2 2 2 2 ...\n",
      " $ dose: num  0.5 0.5 0.5 0.5 0.5 0.5 0.5 0.5 0.5 0.5 ...\n"
     ]
    }
   ],
   "source": [
    "str(dados)"
   ]
  },
  {
   "cell_type": "code",
   "execution_count": 5,
   "id": "1fbf1b2b",
   "metadata": {},
   "outputs": [
    {
     "data": {
      "text/plain": [
       "      len        supp         dose      \n",
       " Min.   : 4.20   OJ:30   Min.   :0.500  \n",
       " 1st Qu.:13.07   VC:30   1st Qu.:0.500  \n",
       " Median :19.25           Median :1.000  \n",
       " Mean   :18.81           Mean   :1.167  \n",
       " 3rd Qu.:25.27           3rd Qu.:2.000  \n",
       " Max.   :33.90           Max.   :2.000  "
      ]
     },
     "metadata": {},
     "output_type": "display_data"
    }
   ],
   "source": [
    "summary(dados)"
   ]
  },
  {
   "cell_type": "code",
   "execution_count": 6,
   "id": "b215ee21",
   "metadata": {},
   "outputs": [
    {
     "data": {
      "image/png": "[encoded data removed]",
      "text/plain": [
       "Plot with title \"Histogram of dados$len\""
      ]
     },
     "metadata": {
      "image/png": {
       "height": 420,
       "width": 420
      }
     },
     "output_type": "display_data"
    }
   ],
   "source": [
    "hist(dados$len)"
   ]
  },
  {
   "cell_type": "code",
   "execution_count": 7,
   "id": "34787ce5",
   "metadata": {},
   "outputs": [
    {
     "name": "stderr",
     "output_type": "stream",
     "text": [
      "Warning message:\n",
      "\"\u001b[1m\u001b[22m`qplot()` was deprecated in ggplot2 3.4.0.\"\n"
     ]
    },
    {
     "data": {
      "image/png": "[encoded data removed]",
      "text/plain": [
       "plot without title"
      ]
     },
     "metadata": {
      "image/png": {
       "height": 420,
       "width": 420
      }
     },
     "output_type": "display_data"
    }
   ],
   "source": [
    "# Boxplots por tipo de suplemento\n",
    "qplot(supp,\n",
    "      len,\n",
    "      data = dados, \n",
    "      main = \"Crescimento dos Dentes dos Porcos da Guiné Por Tipo de Suplemento\",\n",
    "      xlab = \"Tipo de Suplemento\", \n",
    "      ylab = \"Comprimento do Dente\") + \n",
    "  geom_boxplot(aes(fill = supp))"
   ]
  },
  {
   "cell_type": "markdown",
   "id": "d398ba5e",
   "metadata": {},
   "source": [
    "### Analisando os boxplots parece haver uma diferença no crescimento dos dentes, associada ao tipo de suplemento. Precisamos validar.\n",
    "\n",
    "- Há diferença significativa no crescimento dos dentes de acordo com o tipo de suplemento usado nos Porcos da Guiné?\n",
    "    Solução 1: Aplicar um Teste t de amostras independentes a fim de verificar se os tipos de suplementos tem impacto no crescimento dos dentes dos animais. Hipóteses para o Teste t:  \n",
    "\n",
    "- H0 (Hipótese Nula) – Não há diferença significativa entre as médias dos 2 grupos (logo o tipo de suplemento não tem impacto no crescimento dos dentes)\n",
    "- H1 (Hipótese Alternativa) – Há diferença significativa entre as médias dos 2 grupos (logo o tipo de suplemento tem impacto no crescimento dos dentes)\n",
    "\n",
    "**Antes de aplicar o Teste t primeiro precisamos validar as 5 suposições do Teste.**  \n",
    "\n",
    "1: Os dados são aleatórios e representativos da população.  \n",
    "2: A variável dependente é contínua.  \n",
    "3: Ambos os grupos são independentes (ou seja, grupos exaustivos e excludentes).  \n",
    "4: Os resíduos do modelo são normalmente distribuídos.  \n",
    "5: A variância residual é homogênea (princípio da homocedasticidade).  \n",
    "\n",
    "**Para o nosso exemplo neste estudo de caso, iremos considerar como verdadeiras as suposições de 1 a 3 e validaremos as suposições 4 e 5. Para a suposição 4 usaremos o Teste de Shapiro-Wilk e para a suposição 5 usaremos o Teste F.**\n",
    "\n",
    "**O teste de Shapiro-Wilk** é usado antes do Teste t em alguns casos para verificar se os dados seguem uma distribuição normal. A razão para isso é que o Teste t assume que os dados seguem uma distribuição normal. Quando os dados não seguem uma distribuição normal, a aplicação do Teste t pode ser inadequada e fornecer resultados imprecisos.\n",
    "\n",
    "A homocedasticidade se refere à suposição de que as variâncias das diferentes amostras (ou grupos) são iguais, ou seja, as variações em torno das médias são consistentes em todos os grupos. Isso é uma parte importante das suposições para a aplicação adequada do Teste t. **O Teste F** é frequentemente usado para verificar a homocedasticidade, testando se as variâncias entre as amostras são estatisticamente iguais antes de aplicar o Teste t."
   ]
  },
  {
   "cell_type": "markdown",
   "id": "91930fda",
   "metadata": {},
   "source": [
    "### Hipóteses do Teste F:\n",
    "\n",
    "- H0(Hipótese Nula)= As médias de dados extraídos de uma população normalmente distribuída têm a mesma variância.\n",
    "- HA (Hipótese Alternativa)= As médias de dados extraídos de uma população normalmente distribuída não têm a mesma variância."
   ]
  },
  {
   "cell_type": "code",
   "execution_count": 8,
   "id": "0c22a0ae",
   "metadata": {},
   "outputs": [
    {
     "data": {
      "text/plain": [
       "\n",
       "\tF test to compare two variances\n",
       "\n",
       "data:  len by supp\n",
       "F = 0.6386, num df = 29, denom df = 29, p-value = 0.2331\n",
       "alternative hypothesis: true ratio of variances is not equal to 1\n",
       "95 percent confidence interval:\n",
       " 0.3039488 1.3416857\n",
       "sample estimates:\n",
       "ratio of variances \n",
       "         0.6385951 \n"
      ]
     },
     "metadata": {},
     "output_type": "display_data"
    }
   ],
   "source": [
    "#Aplicando teste F, variável len como dependente, variável supp = independente;\n",
    "var.test(len ~ supp, data = dados)"
   ]
  },
  {
   "cell_type": "markdown",
   "id": "163edecf",
   "metadata": {},
   "source": [
    "O valor-p é maior que 0.05. Falhamos em rejeitar a H0. **Não há diferença significativa entre as variâncias dos 2 grupos**"
   ]
  },
  {
   "cell_type": "markdown",
   "id": "9b1c8a48",
   "metadata": {},
   "source": [
    "### Shapiro-Wilk\n",
    "Assim como a maioria dos testes estatísticos, o Teste de Shapiro-Wilk formula duas hipóteses:\n",
    "\n",
    "- H0(Hipótese Nula)= Os dados seguem uma distribuição normal.\n",
    "- HA (Hipótese Alternativa)= Os dados não seguem uma distribuição normal."
   ]
  },
  {
   "cell_type": "code",
   "execution_count": 9,
   "id": "ac9f6d28",
   "metadata": {},
   "outputs": [
    {
     "data": {
      "text/plain": [
       "\n",
       "\tShapiro-Wilk normality test\n",
       "\n",
       "data:  dados$len[dados$supp == \"VC\"]\n",
       "W = 0.96567, p-value = 0.4284\n"
      ]
     },
     "metadata": {},
     "output_type": "display_data"
    }
   ],
   "source": [
    "# Aplicando o teste de Shapiro-Wilk à variável len apenas para as observações onde o suplemento é  vitamina C.\n",
    "shapiro.test(dados$len[dados$supp =='VC']) "
   ]
  },
  {
   "cell_type": "code",
   "execution_count": 10,
   "id": "a221214b",
   "metadata": {},
   "outputs": [
    {
     "data": {
      "text/plain": [
       "\n",
       "\tShapiro-Wilk normality test\n",
       "\n",
       "data:  dados$len[dados$supp == \"OJ\"]\n",
       "W = 0.91784, p-value = 0.02359\n"
      ]
     },
     "metadata": {},
     "output_type": "display_data"
    }
   ],
   "source": [
    "# Aplicando o teste de Shapiro-Wilk à variável len apenas para as observações onde o suplemento é suco de laranja\n",
    "shapiro.test(dados$len[dados$supp =='OJ'])"
   ]
  },
  {
   "cell_type": "markdown",
   "id": "be59f564",
   "metadata": {},
   "source": [
    "- O valor-p do primeiro grupo é maior que 0.05. Falhamos em rejeitar a H0.\n",
    "- O valor-p do primeiro grupo é menor que 0.05. Rejeitamos a H0.**Os dados não seguem uma distribuição normal**"
   ]
  },
  {
   "cell_type": "markdown",
   "id": "017330bf",
   "metadata": {},
   "source": [
    "### Uma das suposições do Teste t não foi satisfeita e o teste não pode ser usado."
   ]
  },
  {
   "cell_type": "code",
   "execution_count": 11,
   "id": "18ee5724",
   "metadata": {},
   "outputs": [
    {
     "data": {
      "text/plain": [
       "\n",
       "\tTwo Sample t-test\n",
       "\n",
       "data:  len by supp\n",
       "t = 1.9153, df = 58, p-value = 0.06039\n",
       "alternative hypothesis: true difference in means between group OJ and group VC is not equal to 0\n",
       "95 percent confidence interval:\n",
       " -0.1670064  7.5670064\n",
       "sample estimates:\n",
       "mean in group OJ mean in group VC \n",
       "        20.66333         16.96333 \n"
      ]
     },
     "metadata": {},
     "output_type": "display_data"
    }
   ],
   "source": [
    "# Aplicamos o Teste t para suposições:\n",
    "#Variavel len: dependente; variável supp: indepedente.\n",
    "t.test(len ~ supp, data = dados, var.equal = TRUE)"
   ]
  },
  {
   "cell_type": "code",
   "execution_count": 12,
   "id": "60a93a44",
   "metadata": {},
   "outputs": [],
   "source": [
    "#Divindo a coluna len com base no suplemento, comprimentos respectivos do suplemento OJ e VC\n",
    "OJ <- dados$len[dados$supp =='OJ']\n",
    "VC <- dados$len[dados$supp =='VC']"
   ]
  },
  {
   "cell_type": "markdown",
   "id": "fc710909",
   "metadata": {},
   "source": [
    "### Teste t Bilateral(diferença):\n",
    "Também conhecido como teste de duas caudas.\n",
    "\n",
    "**Este é um teste t bilateral (dois lados), onde a hipótese nula é que não há diferença significativa entre as médias das duas amostras (OJ e VC)**\n",
    "- Hipótese nula: μOJ=μVC\n",
    "- Hipótese alternativa: μOJ≠μVC"
   ]
  },
  {
   "cell_type": "code",
   "execution_count": 13,
   "id": "a8ea15f3",
   "metadata": {},
   "outputs": [
    {
     "data": {
      "text/plain": [
       "\n",
       "\tWelch Two Sample t-test\n",
       "\n",
       "data:  OJ and VC\n",
       "t = 1.9153, df = 55.309, p-value = 0.06063\n",
       "alternative hypothesis: true difference in means is not equal to 0\n",
       "95 percent confidence interval:\n",
       " -0.1710156  7.5710156\n",
       "sample estimates:\n",
       "mean of x mean of y \n",
       " 20.66333  16.96333 \n"
      ]
     },
     "metadata": {},
     "output_type": "display_data"
    }
   ],
   "source": [
    "t.test(OJ,VC, paired=FALSE, var.equal = FALSE, conf.level = 0.95)"
   ]
  },
  {
   "cell_type": "markdown",
   "id": "db2a13b8",
   "metadata": {},
   "source": [
    "### Teste t Unilateral (Maior):\n",
    "Também conhecido como teste de uma cauda direita.  \n",
    "\n",
    "**O argumento alternative = 'greater' especifica que estamos interessados em testar se a média da amostra OJ é significativamente maior que a média da amostra VC**\n",
    "- Hipótese nula: μOJ ≤ μVC\n",
    "- Hipótese alternativa: μOJ > μVC"
   ]
  },
  {
   "cell_type": "code",
   "execution_count": 14,
   "id": "26d667ad",
   "metadata": {},
   "outputs": [
    {
     "data": {
      "text/plain": [
       "\n",
       "\tWelch Two Sample t-test\n",
       "\n",
       "data:  OJ and VC\n",
       "t = 1.9153, df = 55.309, p-value = 0.03032\n",
       "alternative hypothesis: true difference in means is greater than 0\n",
       "95 percent confidence interval:\n",
       " 0.4682687       Inf\n",
       "sample estimates:\n",
       "mean of x mean of y \n",
       " 20.66333  16.96333 \n"
      ]
     },
     "metadata": {},
     "output_type": "display_data"
    }
   ],
   "source": [
    "t.test(OJ, VC, alternative = 'greater')"
   ]
  },
  {
   "cell_type": "markdown",
   "id": "c295be26",
   "metadata": {},
   "source": [
    "### Como estamos interessados interessado apenas em saber se há uma diferença significativa em qualquer direção, o teste bilateral seria o mais adequado.\n",
    "Agora se esperassemos que a média da amostra OJ seja significativamente maior do que a média da amostra VC, o teste unilateral (maior) pode ser mais apropriado. ado."
   ]
  },
  {
   "cell_type": "markdown",
   "id": "d0ceb265",
   "metadata": {},
   "source": [
    "**O valor-p do teste é 0.06063, logo, maior que 0.05. Falhamos em rejeitar a H0.** Podemos concluir que os 2 grupos não tem diferença significativa.Ou seja, não há diferença significativa entre os tipos de suplementos aplicados para o crescimento dos Porcos da Guiné."
   ]
  },
  {
   "cell_type": "markdown",
   "id": "a0cbca6f",
   "metadata": {},
   "source": [
    "**A Solução 1 não é válida para esse tipo de problema pois os dados não satisfazem uma das suposições.** Será que a dosagem do suplemento é que realmente faz diferença e não o tipo de suplemento? Vamos verificar!"
   ]
  },
  {
   "cell_type": "markdown",
   "id": "f8df9c3d",
   "metadata": {},
   "source": [
    "### Para usar o teste ANOVA, temos as seguintes suposições principais:\n",
    "\n",
    "- 1:Dentro de cada amostra, as observações são amostradas aleatoriamente e independentemente umas das outras.\n",
    "- 2:Cada amostra de grupo é extraída de uma população normalmente distribuída.  \n",
    "**Consideramos a suposição 1 como verdadeira e testaremos a suposição 2.**"
   ]
  },
  {
   "cell_type": "code",
   "execution_count": 15,
   "id": "d12eae02",
   "metadata": {},
   "outputs": [],
   "source": [
    "#Filtramos os dados em 3 grupos de acordo com a dosagem do suplemento\n",
    "dose_0_5 <- dados$len[dados$dose == 0.5]\n",
    "dose_1_0 <- dados$len[dados$dose == 1.0]\n",
    "dose_2_0 <- dados$len[dados$dose == 2.0]"
   ]
  },
  {
   "cell_type": "code",
   "execution_count": 16,
   "id": "963933cc",
   "metadata": {},
   "outputs": [
    {
     "data": {
      "text/plain": [
       "\n",
       "\tShapiro-Wilk normality test\n",
       "\n",
       "data:  dose_0_5\n",
       "W = 0.94065, p-value = 0.2466\n"
      ]
     },
     "metadata": {},
     "output_type": "display_data"
    },
    {
     "data": {
      "text/plain": [
       "\n",
       "\tShapiro-Wilk normality test\n",
       "\n",
       "data:  dose_1_0\n",
       "W = 0.93134, p-value = 0.1639\n"
      ]
     },
     "metadata": {},
     "output_type": "display_data"
    },
    {
     "data": {
      "text/plain": [
       "\n",
       "\tShapiro-Wilk normality test\n",
       "\n",
       "data:  dose_2_0\n",
       "W = 0.97775, p-value = 0.9019\n"
      ]
     },
     "metadata": {},
     "output_type": "display_data"
    }
   ],
   "source": [
    "# Teste de Normalidade Shapiro-Wilk para cada grupo\n",
    "# H0: Os dados são normalmente distribuídos\n",
    "# H1: Os dados não são normalmente distribuídos\n",
    "shapiro.test(dose_0_5) \n",
    "shapiro.test(dose_1_0) \n",
    "shapiro.test(dose_2_0) "
   ]
  },
  {
   "cell_type": "markdown",
   "id": "ec9cf98f",
   "metadata": {},
   "source": [
    "### O valor-p de todos os grupos é maior que 0.05. Falhamos em rejeitar a H0. As 3 amostras são normalmente distribuídas."
   ]
  },
  {
   "cell_type": "code",
   "execution_count": 17,
   "id": "f144bbce",
   "metadata": {},
   "outputs": [
    {
     "data": {
      "text/plain": [
       "            Df Sum Sq Mean Sq F value   Pr(>F)    \n",
       "dose         1   2224  2224.3   105.1 1.23e-14 ***\n",
       "Residuals   58   1228    21.2                     \n",
       "---\n",
       "Signif. codes:  0 '***' 0.001 '**' 0.01 '*' 0.05 '.' 0.1 ' ' 1"
      ]
     },
     "metadata": {},
     "output_type": "display_data"
    }
   ],
   "source": [
    "# ANOVA\n",
    "teste_anova = aov(len ~ dose, dados)\n",
    "summary(teste_anova)"
   ]
  },
  {
   "cell_type": "markdown",
   "id": "0c434e4e",
   "metadata": {},
   "source": [
    "### Valor p é 1.23e-14 menor que 0,05, rejeitamos a hipótese nula. Com base nesta análise unidirecional, a dosagem tem um efeito muito significativo no comprimento do dente."
   ]
  },
  {
   "cell_type": "code",
   "execution_count": 18,
   "id": "0c85a0db",
   "metadata": {},
   "outputs": [
    {
     "data": {
      "text/plain": [
       "\n",
       "Call:\n",
       "lm(formula = len ~ supp + dose, data = dados)\n",
       "\n",
       "Residuals:\n",
       "   Min     1Q Median     3Q    Max \n",
       "-6.600 -3.700  0.373  2.116  8.800 \n",
       "\n",
       "Coefficients:\n",
       "            Estimate Std. Error t value Pr(>|t|)    \n",
       "(Intercept)   9.2725     1.2824   7.231 1.31e-09 ***\n",
       "suppVC       -3.7000     1.0936  -3.383   0.0013 ** \n",
       "dose          9.7636     0.8768  11.135 6.31e-16 ***\n",
       "---\n",
       "Signif. codes:  0 '***' 0.001 '**' 0.01 '*' 0.05 '.' 0.1 ' ' 1\n",
       "\n",
       "Residual standard error: 4.236 on 57 degrees of freedom\n",
       "Multiple R-squared:  0.7038,\tAdjusted R-squared:  0.6934 \n",
       "F-statistic: 67.72 on 2 and 57 DF,  p-value: 8.716e-16\n"
      ]
     },
     "metadata": {},
     "output_type": "display_data"
    }
   ],
   "source": [
    "## O tipo de suplemento pode fazer diferença dependendo da dosagem\n",
    "modelo_lr = lm(len ~ supp + dose, dados)\n",
    "summary(modelo_lr)"
   ]
  },
  {
   "cell_type": "markdown",
   "id": "20d844c5",
   "metadata": {},
   "source": [
    "## Dosagem X Suplemento"
   ]
  },
  {
   "cell_type": "code",
   "execution_count": 19,
   "id": "bfb929f2",
   "metadata": {},
   "outputs": [],
   "source": [
    "#Filtrando com base na dose e no suplemento\n",
    "dose_0_5_VC <- dados$len[dados$dose == 0.5 & dados$supp == 'VC']\n",
    "dose_1_0_VC <- dados$len[dados$dose == 1.0 & dados$supp == 'VC']\n",
    "dose_2_0_VC <- dados$len[dados$dose == 2.0 & dados$supp == 'VC']"
   ]
  },
  {
   "cell_type": "code",
   "execution_count": 20,
   "id": "c3e8ce79",
   "metadata": {},
   "outputs": [
    {
     "data": {
      "text/plain": [
       "\n",
       "\tShapiro-Wilk normality test\n",
       "\n",
       "data:  dose_0_5_VC\n",
       "W = 0.89, p-value = 0.1696\n"
      ]
     },
     "metadata": {},
     "output_type": "display_data"
    },
    {
     "data": {
      "text/plain": [
       "\n",
       "\tShapiro-Wilk normality test\n",
       "\n",
       "data:  dose_1_0_VC\n",
       "W = 0.90834, p-value = 0.2698\n"
      ]
     },
     "metadata": {},
     "output_type": "display_data"
    },
    {
     "data": {
      "text/plain": [
       "\n",
       "\tShapiro-Wilk normality test\n",
       "\n",
       "data:  dose_2_0_VC\n",
       "W = 0.97328, p-value = 0.9194\n"
      ]
     },
     "metadata": {},
     "output_type": "display_data"
    }
   ],
   "source": [
    "# Teste de Normalidade Shapiro-Wilk para cada grupo\n",
    "shapiro.test(dose_0_5_VC) \n",
    "shapiro.test(dose_1_0_VC) \n",
    "shapiro.test(dose_2_0_VC) "
   ]
  },
  {
   "cell_type": "code",
   "execution_count": 21,
   "id": "0f300f02",
   "metadata": {},
   "outputs": [],
   "source": [
    "#Filtrando com base na dose e no suplemento\n",
    "dose_0_5_OJ <- dados$len[dados$dose == 0.5 & dados$supp == 'OJ']\n",
    "dose_1_0_OJ <- dados$len[dados$dose == 1.0 & dados$supp == 'OJ']\n",
    "dose_2_0_OJ <- dados$len[dados$dose == 2.0 & dados$supp == 'OJ']"
   ]
  },
  {
   "cell_type": "code",
   "execution_count": 22,
   "id": "69887138",
   "metadata": {},
   "outputs": [
    {
     "data": {
      "text/plain": [
       "\n",
       "\tShapiro-Wilk normality test\n",
       "\n",
       "data:  dose_0_5_OJ\n",
       "W = 0.89274, p-value = 0.182\n"
      ]
     },
     "metadata": {},
     "output_type": "display_data"
    },
    {
     "data": {
      "text/plain": [
       "\n",
       "\tShapiro-Wilk normality test\n",
       "\n",
       "data:  dose_1_0_OJ\n",
       "W = 0.9266, p-value = 0.4153\n"
      ]
     },
     "metadata": {},
     "output_type": "display_data"
    },
    {
     "data": {
      "text/plain": [
       "\n",
       "\tShapiro-Wilk normality test\n",
       "\n",
       "data:  dose_2_0_OJ\n",
       "W = 0.96258, p-value = 0.8148\n"
      ]
     },
     "metadata": {},
     "output_type": "display_data"
    }
   ],
   "source": [
    "# Teste de Normalidade Shapiro-Wilk para cada grupo\n",
    "shapiro.test(dose_0_5_OJ) \n",
    "shapiro.test(dose_1_0_OJ) \n",
    "shapiro.test(dose_2_0_OJ) "
   ]
  },
  {
   "cell_type": "markdown",
   "id": "dd845ace",
   "metadata": {},
   "source": [
    "### O valor-p de todos os grupos é maior que 0.05. Falhamos em rejeitar a H0. As 6 amostras são normalmente distribuídas."
   ]
  },
  {
   "cell_type": "code",
   "execution_count": 23,
   "id": "659e9104",
   "metadata": {},
   "outputs": [
    {
     "data": {
      "text/plain": [
       "\n",
       "\tWelch Two Sample t-test\n",
       "\n",
       "data:  dose_0_5_OJ and dose_0_5_VC\n",
       "t = 3.1697, df = 14.969, p-value = 0.003179\n",
       "alternative hypothesis: true difference in means is greater than 0\n",
       "95 percent confidence interval:\n",
       " 2.34604     Inf\n",
       "sample estimates:\n",
       "mean of x mean of y \n",
       "    13.23      7.98 \n"
      ]
     },
     "metadata": {},
     "output_type": "display_data"
    }
   ],
   "source": [
    "t.test(dose_0_5_OJ, dose_0_5_VC, alternative = 'greater')"
   ]
  },
  {
   "cell_type": "code",
   "execution_count": 24,
   "id": "3eb0fe3c",
   "metadata": {},
   "outputs": [
    {
     "data": {
      "text/plain": [
       "\n",
       "\tWelch Two Sample t-test\n",
       "\n",
       "data:  dose_1_0_OJ and dose_1_0_VC\n",
       "t = 4.0328, df = 15.358, p-value = 0.0005192\n",
       "alternative hypothesis: true difference in means is greater than 0\n",
       "95 percent confidence interval:\n",
       " 3.356158      Inf\n",
       "sample estimates:\n",
       "mean of x mean of y \n",
       "    22.70     16.77 \n"
      ]
     },
     "metadata": {},
     "output_type": "display_data"
    }
   ],
   "source": [
    "t.test(dose_1_0_OJ, dose_1_0_VC, alternative = 'greater')"
   ]
  },
  {
   "cell_type": "code",
   "execution_count": 25,
   "id": "8f6a1481",
   "metadata": {},
   "outputs": [
    {
     "data": {
      "text/plain": [
       "\n",
       "\tWelch Two Sample t-test\n",
       "\n",
       "data:  dose_2_0_OJ and dose_2_0_VC\n",
       "t = -0.046136, df = 14.04, p-value = 0.5181\n",
       "alternative hypothesis: true difference in means is greater than 0\n",
       "95 percent confidence interval:\n",
       " -3.1335     Inf\n",
       "sample estimates:\n",
       "mean of x mean of y \n",
       "    26.06     26.14 \n"
      ]
     },
     "metadata": {},
     "output_type": "display_data"
    }
   ],
   "source": [
    "t.test(dose_2_0_OJ, dose_2_0_VC, alternative = 'greater')"
   ]
  },
  {
   "cell_type": "markdown",
   "id": "3b7e4166",
   "metadata": {},
   "source": [
    "### Após análise, observou-se que, em dosagens inferiores a 2, o consumo de suco de laranja apresenta uma contribuição mais significativa para o crescimento dentário em comparação com o uso de vitamina C isoladamente. No entanto, ao empregar uma dose de 2.0 para ambos os suplementos, não foram identificadas diferenças estatisticamente significantes entre eles."
   ]
  }
 ],
 "metadata": {
  "kernelspec": {
   "display_name": "R",
   "language": "R",
   "name": "ir"
  },
  "language_info": {
   "codemirror_mode": "r",
   "file_extension": ".r",
   "mimetype": "text/x-r-source",
   "name": "R",
   "pygments_lexer": "r",
   "version": "4.2.2"
  }
 },
 "nbformat": 4,
 "nbformat_minor": 5
}
