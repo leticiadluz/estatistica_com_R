{
 "cells": [
  {
   "cell_type": "markdown",
   "id": "966d9ffc",
   "metadata": {},
   "source": [
    "**Definindo o Problema de Negócio**  \n",
    "Crie um teste de hipótese para verificar se os voos da Delta Airlines (DL) atrasam mais do que os voos da UA (United Airlines)"
   ]
  },
  {
   "cell_type": "markdown",
   "id": "168fa5be",
   "metadata": {},
   "source": [
    "**O pacote \"nycflights13\" é um conjunto de dados frequentemente utilizado para análise de dados e visualização em R, uma linguagem de programação amplamente usada para análise estatística e gráficos. Este pacote contém informações sobre voos na área metropolitana de Nova York, incluindo dados sobre atrasos, companhias aéreas, aeroportos e muito mais.**"
   ]
  },
  {
   "cell_type": "code",
   "execution_count": 1,
   "id": "ba8a3346",
   "metadata": {},
   "outputs": [
    {
     "name": "stderr",
     "output_type": "stream",
     "text": [
      "Warning message:\n",
      "\"package 'nycflights13' was built under R version 4.2.3\"\n"
     ]
    }
   ],
   "source": [
    "library('nycflights13')"
   ]
  },
  {
   "cell_type": "code",
   "execution_count": 2,
   "id": "a2a0c078",
   "metadata": {},
   "outputs": [
    {
     "data": {
      "text/html": [
       "<table class=\"dataframe\">\n",
       "<caption>A tibble: 6 × 19</caption>\n",
       "<thead>\n",
       "\t<tr><th scope=col>year</th><th scope=col>month</th><th scope=col>day</th><th scope=col>dep_time</th><th scope=col>sched_dep_time</th><th scope=col>dep_delay</th><th scope=col>arr_time</th><th scope=col>sched_arr_time</th><th scope=col>arr_delay</th><th scope=col>carrier</th><th scope=col>flight</th><th scope=col>tailnum</th><th scope=col>origin</th><th scope=col>dest</th><th scope=col>air_time</th><th scope=col>distance</th><th scope=col>hour</th><th scope=col>minute</th><th scope=col>time_hour</th></tr>\n",
       "\t<tr><th scope=col>&lt;int&gt;</th><th scope=col>&lt;int&gt;</th><th scope=col>&lt;int&gt;</th><th scope=col>&lt;int&gt;</th><th scope=col>&lt;int&gt;</th><th scope=col>&lt;dbl&gt;</th><th scope=col>&lt;int&gt;</th><th scope=col>&lt;int&gt;</th><th scope=col>&lt;dbl&gt;</th><th scope=col>&lt;chr&gt;</th><th scope=col>&lt;int&gt;</th><th scope=col>&lt;chr&gt;</th><th scope=col>&lt;chr&gt;</th><th scope=col>&lt;chr&gt;</th><th scope=col>&lt;dbl&gt;</th><th scope=col>&lt;dbl&gt;</th><th scope=col>&lt;dbl&gt;</th><th scope=col>&lt;dbl&gt;</th><th scope=col>&lt;dttm&gt;</th></tr>\n",
       "</thead>\n",
       "<tbody>\n",
       "\t<tr><td>2013</td><td>1</td><td>1</td><td>517</td><td>515</td><td> 2</td><td> 830</td><td> 819</td><td> 11</td><td>UA</td><td>1545</td><td>N14228</td><td>EWR</td><td>IAH</td><td>227</td><td>1400</td><td>5</td><td>15</td><td>2013-01-01 05:00:00</td></tr>\n",
       "\t<tr><td>2013</td><td>1</td><td>1</td><td>533</td><td>529</td><td> 4</td><td> 850</td><td> 830</td><td> 20</td><td>UA</td><td>1714</td><td>N24211</td><td>LGA</td><td>IAH</td><td>227</td><td>1416</td><td>5</td><td>29</td><td>2013-01-01 05:00:00</td></tr>\n",
       "\t<tr><td>2013</td><td>1</td><td>1</td><td>542</td><td>540</td><td> 2</td><td> 923</td><td> 850</td><td> 33</td><td>AA</td><td>1141</td><td>N619AA</td><td>JFK</td><td>MIA</td><td>160</td><td>1089</td><td>5</td><td>40</td><td>2013-01-01 05:00:00</td></tr>\n",
       "\t<tr><td>2013</td><td>1</td><td>1</td><td>544</td><td>545</td><td>-1</td><td>1004</td><td>1022</td><td>-18</td><td>B6</td><td> 725</td><td>N804JB</td><td>JFK</td><td>BQN</td><td>183</td><td>1576</td><td>5</td><td>45</td><td>2013-01-01 05:00:00</td></tr>\n",
       "\t<tr><td>2013</td><td>1</td><td>1</td><td>554</td><td>600</td><td>-6</td><td> 812</td><td> 837</td><td>-25</td><td>DL</td><td> 461</td><td>N668DN</td><td>LGA</td><td>ATL</td><td>116</td><td> 762</td><td>6</td><td> 0</td><td>2013-01-01 06:00:00</td></tr>\n",
       "\t<tr><td>2013</td><td>1</td><td>1</td><td>554</td><td>558</td><td>-4</td><td> 740</td><td> 728</td><td> 12</td><td>UA</td><td>1696</td><td>N39463</td><td>EWR</td><td>ORD</td><td>150</td><td> 719</td><td>5</td><td>58</td><td>2013-01-01 05:00:00</td></tr>\n",
       "</tbody>\n",
       "</table>\n"
      ],
      "text/latex": [
       "A tibble: 6 × 19\n",
       "\\begin{tabular}{lllllllllllllllllll}\n",
       " year & month & day & dep\\_time & sched\\_dep\\_time & dep\\_delay & arr\\_time & sched\\_arr\\_time & arr\\_delay & carrier & flight & tailnum & origin & dest & air\\_time & distance & hour & minute & time\\_hour\\\\\n",
       " <int> & <int> & <int> & <int> & <int> & <dbl> & <int> & <int> & <dbl> & <chr> & <int> & <chr> & <chr> & <chr> & <dbl> & <dbl> & <dbl> & <dbl> & <dttm>\\\\\n",
       "\\hline\n",
       "\t 2013 & 1 & 1 & 517 & 515 &  2 &  830 &  819 &  11 & UA & 1545 & N14228 & EWR & IAH & 227 & 1400 & 5 & 15 & 2013-01-01 05:00:00\\\\\n",
       "\t 2013 & 1 & 1 & 533 & 529 &  4 &  850 &  830 &  20 & UA & 1714 & N24211 & LGA & IAH & 227 & 1416 & 5 & 29 & 2013-01-01 05:00:00\\\\\n",
       "\t 2013 & 1 & 1 & 542 & 540 &  2 &  923 &  850 &  33 & AA & 1141 & N619AA & JFK & MIA & 160 & 1089 & 5 & 40 & 2013-01-01 05:00:00\\\\\n",
       "\t 2013 & 1 & 1 & 544 & 545 & -1 & 1004 & 1022 & -18 & B6 &  725 & N804JB & JFK & BQN & 183 & 1576 & 5 & 45 & 2013-01-01 05:00:00\\\\\n",
       "\t 2013 & 1 & 1 & 554 & 600 & -6 &  812 &  837 & -25 & DL &  461 & N668DN & LGA & ATL & 116 &  762 & 6 &  0 & 2013-01-01 06:00:00\\\\\n",
       "\t 2013 & 1 & 1 & 554 & 558 & -4 &  740 &  728 &  12 & UA & 1696 & N39463 & EWR & ORD & 150 &  719 & 5 & 58 & 2013-01-01 05:00:00\\\\\n",
       "\\end{tabular}\n"
      ],
      "text/markdown": [
       "\n",
       "A tibble: 6 × 19\n",
       "\n",
       "| year &lt;int&gt; | month &lt;int&gt; | day &lt;int&gt; | dep_time &lt;int&gt; | sched_dep_time &lt;int&gt; | dep_delay &lt;dbl&gt; | arr_time &lt;int&gt; | sched_arr_time &lt;int&gt; | arr_delay &lt;dbl&gt; | carrier &lt;chr&gt; | flight &lt;int&gt; | tailnum &lt;chr&gt; | origin &lt;chr&gt; | dest &lt;chr&gt; | air_time &lt;dbl&gt; | distance &lt;dbl&gt; | hour &lt;dbl&gt; | minute &lt;dbl&gt; | time_hour &lt;dttm&gt; |\n",
       "|---|---|---|---|---|---|---|---|---|---|---|---|---|---|---|---|---|---|---|\n",
       "| 2013 | 1 | 1 | 517 | 515 |  2 |  830 |  819 |  11 | UA | 1545 | N14228 | EWR | IAH | 227 | 1400 | 5 | 15 | 2013-01-01 05:00:00 |\n",
       "| 2013 | 1 | 1 | 533 | 529 |  4 |  850 |  830 |  20 | UA | 1714 | N24211 | LGA | IAH | 227 | 1416 | 5 | 29 | 2013-01-01 05:00:00 |\n",
       "| 2013 | 1 | 1 | 542 | 540 |  2 |  923 |  850 |  33 | AA | 1141 | N619AA | JFK | MIA | 160 | 1089 | 5 | 40 | 2013-01-01 05:00:00 |\n",
       "| 2013 | 1 | 1 | 544 | 545 | -1 | 1004 | 1022 | -18 | B6 |  725 | N804JB | JFK | BQN | 183 | 1576 | 5 | 45 | 2013-01-01 05:00:00 |\n",
       "| 2013 | 1 | 1 | 554 | 600 | -6 |  812 |  837 | -25 | DL |  461 | N668DN | LGA | ATL | 116 |  762 | 6 |  0 | 2013-01-01 06:00:00 |\n",
       "| 2013 | 1 | 1 | 554 | 558 | -4 |  740 |  728 |  12 | UA | 1696 | N39463 | EWR | ORD | 150 |  719 | 5 | 58 | 2013-01-01 05:00:00 |\n",
       "\n"
      ],
      "text/plain": [
       "  year month day dep_time sched_dep_time dep_delay arr_time sched_arr_time\n",
       "1 2013 1     1   517      515             2         830      819          \n",
       "2 2013 1     1   533      529             4         850      830          \n",
       "3 2013 1     1   542      540             2         923      850          \n",
       "4 2013 1     1   544      545            -1        1004     1022          \n",
       "5 2013 1     1   554      600            -6         812      837          \n",
       "6 2013 1     1   554      558            -4         740      728          \n",
       "  arr_delay carrier flight tailnum origin dest air_time distance hour minute\n",
       "1  11       UA      1545   N14228  EWR    IAH  227      1400     5    15    \n",
       "2  20       UA      1714   N24211  LGA    IAH  227      1416     5    29    \n",
       "3  33       AA      1141   N619AA  JFK    MIA  160      1089     5    40    \n",
       "4 -18       B6       725   N804JB  JFK    BQN  183      1576     5    45    \n",
       "5 -25       DL       461   N668DN  LGA    ATL  116       762     6     0    \n",
       "6  12       UA      1696   N39463  EWR    ORD  150       719     5    58    \n",
       "  time_hour          \n",
       "1 2013-01-01 05:00:00\n",
       "2 2013-01-01 05:00:00\n",
       "3 2013-01-01 05:00:00\n",
       "4 2013-01-01 05:00:00\n",
       "5 2013-01-01 06:00:00\n",
       "6 2013-01-01 05:00:00"
      ]
     },
     "metadata": {},
     "output_type": "display_data"
    }
   ],
   "source": [
    "head(flights)"
   ]
  },
  {
   "cell_type": "code",
   "execution_count": 3,
   "id": "440d541b",
   "metadata": {},
   "outputs": [
    {
     "data": {
      "text/html": [
       "<style>\n",
       ".list-inline {list-style: none; margin:0; padding: 0}\n",
       ".list-inline>li {display: inline-block}\n",
       ".list-inline>li:not(:last-child)::after {content: \"\\00b7\"; padding: 0 .5ex}\n",
       "</style>\n",
       "<ol class=list-inline><li>336776</li><li>19</li></ol>\n"
      ],
      "text/latex": [
       "\\begin{enumerate*}\n",
       "\\item 336776\n",
       "\\item 19\n",
       "\\end{enumerate*}\n"
      ],
      "text/markdown": [
       "1. 336776\n",
       "2. 19\n",
       "\n",
       "\n"
      ],
      "text/plain": [
       "[1] 336776     19"
      ]
     },
     "metadata": {},
     "output_type": "display_data"
    }
   ],
   "source": [
    "dim(flights)"
   ]
  },
  {
   "cell_type": "code",
   "execution_count": 4,
   "id": "6638a8af",
   "metadata": {},
   "outputs": [],
   "source": [
    "#Filtrando o DF com base na coluna 'carrier' e armazenando em novo objeto que somente conterá as operadoras DL e UA\n",
    "#filtrando pela coluna arr_delay para conter valores maior que 0, que são efetivamente atrasos\n",
    "df_voos <- subset(flights, (carrier == 'UA' | carrier == 'DL') & (arr_delay >= 0))"
   ]
  },
  {
   "cell_type": "code",
   "execution_count": 5,
   "id": "61934450",
   "metadata": {},
   "outputs": [
    {
     "data": {
      "text/html": [
       "<table class=\"dataframe\">\n",
       "<caption>A tibble: 6 × 19</caption>\n",
       "<thead>\n",
       "\t<tr><th scope=col>year</th><th scope=col>month</th><th scope=col>day</th><th scope=col>dep_time</th><th scope=col>sched_dep_time</th><th scope=col>dep_delay</th><th scope=col>arr_time</th><th scope=col>sched_arr_time</th><th scope=col>arr_delay</th><th scope=col>carrier</th><th scope=col>flight</th><th scope=col>tailnum</th><th scope=col>origin</th><th scope=col>dest</th><th scope=col>air_time</th><th scope=col>distance</th><th scope=col>hour</th><th scope=col>minute</th><th scope=col>time_hour</th></tr>\n",
       "\t<tr><th scope=col>&lt;int&gt;</th><th scope=col>&lt;int&gt;</th><th scope=col>&lt;int&gt;</th><th scope=col>&lt;int&gt;</th><th scope=col>&lt;int&gt;</th><th scope=col>&lt;dbl&gt;</th><th scope=col>&lt;int&gt;</th><th scope=col>&lt;int&gt;</th><th scope=col>&lt;dbl&gt;</th><th scope=col>&lt;chr&gt;</th><th scope=col>&lt;int&gt;</th><th scope=col>&lt;chr&gt;</th><th scope=col>&lt;chr&gt;</th><th scope=col>&lt;chr&gt;</th><th scope=col>&lt;dbl&gt;</th><th scope=col>&lt;dbl&gt;</th><th scope=col>&lt;dbl&gt;</th><th scope=col>&lt;dbl&gt;</th><th scope=col>&lt;dttm&gt;</th></tr>\n",
       "</thead>\n",
       "<tbody>\n",
       "\t<tr><td>2013</td><td>1</td><td>1</td><td>517</td><td>515</td><td> 2</td><td>830</td><td>819</td><td>11</td><td>UA</td><td>1545</td><td>N14228</td><td>EWR</td><td>IAH</td><td>227</td><td>1400</td><td>5</td><td>15</td><td>2013-01-01 05:00:00</td></tr>\n",
       "\t<tr><td>2013</td><td>1</td><td>1</td><td>533</td><td>529</td><td> 4</td><td>850</td><td>830</td><td>20</td><td>UA</td><td>1714</td><td>N24211</td><td>LGA</td><td>IAH</td><td>227</td><td>1416</td><td>5</td><td>29</td><td>2013-01-01 05:00:00</td></tr>\n",
       "\t<tr><td>2013</td><td>1</td><td>1</td><td>554</td><td>558</td><td>-4</td><td>740</td><td>728</td><td>12</td><td>UA</td><td>1696</td><td>N39463</td><td>EWR</td><td>ORD</td><td>150</td><td> 719</td><td>5</td><td>58</td><td>2013-01-01 05:00:00</td></tr>\n",
       "\t<tr><td>2013</td><td>1</td><td>1</td><td>558</td><td>600</td><td>-2</td><td>924</td><td>917</td><td> 7</td><td>UA</td><td> 194</td><td>N29129</td><td>JFK</td><td>LAX</td><td>345</td><td>2475</td><td>6</td><td> 0</td><td>2013-01-01 06:00:00</td></tr>\n",
       "\t<tr><td>2013</td><td>1</td><td>1</td><td>611</td><td>600</td><td>11</td><td>945</td><td>931</td><td>14</td><td>UA</td><td> 303</td><td>N532UA</td><td>JFK</td><td>SFO</td><td>366</td><td>2586</td><td>6</td><td> 0</td><td>2013-01-01 06:00:00</td></tr>\n",
       "\t<tr><td>2013</td><td>1</td><td>1</td><td>623</td><td>627</td><td>-4</td><td>933</td><td>932</td><td> 1</td><td>UA</td><td> 496</td><td>N459UA</td><td>LGA</td><td>IAH</td><td>229</td><td>1416</td><td>6</td><td>27</td><td>2013-01-01 06:00:00</td></tr>\n",
       "</tbody>\n",
       "</table>\n"
      ],
      "text/latex": [
       "A tibble: 6 × 19\n",
       "\\begin{tabular}{lllllllllllllllllll}\n",
       " year & month & day & dep\\_time & sched\\_dep\\_time & dep\\_delay & arr\\_time & sched\\_arr\\_time & arr\\_delay & carrier & flight & tailnum & origin & dest & air\\_time & distance & hour & minute & time\\_hour\\\\\n",
       " <int> & <int> & <int> & <int> & <int> & <dbl> & <int> & <int> & <dbl> & <chr> & <int> & <chr> & <chr> & <chr> & <dbl> & <dbl> & <dbl> & <dbl> & <dttm>\\\\\n",
       "\\hline\n",
       "\t 2013 & 1 & 1 & 517 & 515 &  2 & 830 & 819 & 11 & UA & 1545 & N14228 & EWR & IAH & 227 & 1400 & 5 & 15 & 2013-01-01 05:00:00\\\\\n",
       "\t 2013 & 1 & 1 & 533 & 529 &  4 & 850 & 830 & 20 & UA & 1714 & N24211 & LGA & IAH & 227 & 1416 & 5 & 29 & 2013-01-01 05:00:00\\\\\n",
       "\t 2013 & 1 & 1 & 554 & 558 & -4 & 740 & 728 & 12 & UA & 1696 & N39463 & EWR & ORD & 150 &  719 & 5 & 58 & 2013-01-01 05:00:00\\\\\n",
       "\t 2013 & 1 & 1 & 558 & 600 & -2 & 924 & 917 &  7 & UA &  194 & N29129 & JFK & LAX & 345 & 2475 & 6 &  0 & 2013-01-01 06:00:00\\\\\n",
       "\t 2013 & 1 & 1 & 611 & 600 & 11 & 945 & 931 & 14 & UA &  303 & N532UA & JFK & SFO & 366 & 2586 & 6 &  0 & 2013-01-01 06:00:00\\\\\n",
       "\t 2013 & 1 & 1 & 623 & 627 & -4 & 933 & 932 &  1 & UA &  496 & N459UA & LGA & IAH & 229 & 1416 & 6 & 27 & 2013-01-01 06:00:00\\\\\n",
       "\\end{tabular}\n"
      ],
      "text/markdown": [
       "\n",
       "A tibble: 6 × 19\n",
       "\n",
       "| year &lt;int&gt; | month &lt;int&gt; | day &lt;int&gt; | dep_time &lt;int&gt; | sched_dep_time &lt;int&gt; | dep_delay &lt;dbl&gt; | arr_time &lt;int&gt; | sched_arr_time &lt;int&gt; | arr_delay &lt;dbl&gt; | carrier &lt;chr&gt; | flight &lt;int&gt; | tailnum &lt;chr&gt; | origin &lt;chr&gt; | dest &lt;chr&gt; | air_time &lt;dbl&gt; | distance &lt;dbl&gt; | hour &lt;dbl&gt; | minute &lt;dbl&gt; | time_hour &lt;dttm&gt; |\n",
       "|---|---|---|---|---|---|---|---|---|---|---|---|---|---|---|---|---|---|---|\n",
       "| 2013 | 1 | 1 | 517 | 515 |  2 | 830 | 819 | 11 | UA | 1545 | N14228 | EWR | IAH | 227 | 1400 | 5 | 15 | 2013-01-01 05:00:00 |\n",
       "| 2013 | 1 | 1 | 533 | 529 |  4 | 850 | 830 | 20 | UA | 1714 | N24211 | LGA | IAH | 227 | 1416 | 5 | 29 | 2013-01-01 05:00:00 |\n",
       "| 2013 | 1 | 1 | 554 | 558 | -4 | 740 | 728 | 12 | UA | 1696 | N39463 | EWR | ORD | 150 |  719 | 5 | 58 | 2013-01-01 05:00:00 |\n",
       "| 2013 | 1 | 1 | 558 | 600 | -2 | 924 | 917 |  7 | UA |  194 | N29129 | JFK | LAX | 345 | 2475 | 6 |  0 | 2013-01-01 06:00:00 |\n",
       "| 2013 | 1 | 1 | 611 | 600 | 11 | 945 | 931 | 14 | UA |  303 | N532UA | JFK | SFO | 366 | 2586 | 6 |  0 | 2013-01-01 06:00:00 |\n",
       "| 2013 | 1 | 1 | 623 | 627 | -4 | 933 | 932 |  1 | UA |  496 | N459UA | LGA | IAH | 229 | 1416 | 6 | 27 | 2013-01-01 06:00:00 |\n",
       "\n"
      ],
      "text/plain": [
       "  year month day dep_time sched_dep_time dep_delay arr_time sched_arr_time\n",
       "1 2013 1     1   517      515             2        830      819           \n",
       "2 2013 1     1   533      529             4        850      830           \n",
       "3 2013 1     1   554      558            -4        740      728           \n",
       "4 2013 1     1   558      600            -2        924      917           \n",
       "5 2013 1     1   611      600            11        945      931           \n",
       "6 2013 1     1   623      627            -4        933      932           \n",
       "  arr_delay carrier flight tailnum origin dest air_time distance hour minute\n",
       "1 11        UA      1545   N14228  EWR    IAH  227      1400     5    15    \n",
       "2 20        UA      1714   N24211  LGA    IAH  227      1416     5    29    \n",
       "3 12        UA      1696   N39463  EWR    ORD  150       719     5    58    \n",
       "4  7        UA       194   N29129  JFK    LAX  345      2475     6     0    \n",
       "5 14        UA       303   N532UA  JFK    SFO  366      2586     6     0    \n",
       "6  1        UA       496   N459UA  LGA    IAH  229      1416     6    27    \n",
       "  time_hour          \n",
       "1 2013-01-01 05:00:00\n",
       "2 2013-01-01 05:00:00\n",
       "3 2013-01-01 05:00:00\n",
       "4 2013-01-01 06:00:00\n",
       "5 2013-01-01 06:00:00\n",
       "6 2013-01-01 06:00:00"
      ]
     },
     "metadata": {},
     "output_type": "display_data"
    },
    {
     "data": {
      "text/html": [
       "<style>\n",
       ".list-inline {list-style: none; margin:0; padding: 0}\n",
       ".list-inline>li {display: inline-block}\n",
       ".list-inline>li:not(:last-child)::after {content: \"\\00b7\"; padding: 0 .5ex}\n",
       "</style>\n",
       "<ol class=list-inline><li>40335</li><li>19</li></ol>\n"
      ],
      "text/latex": [
       "\\begin{enumerate*}\n",
       "\\item 40335\n",
       "\\item 19\n",
       "\\end{enumerate*}\n"
      ],
      "text/markdown": [
       "1. 40335\n",
       "2. 19\n",
       "\n",
       "\n"
      ],
      "text/plain": [
       "[1] 40335    19"
      ]
     },
     "metadata": {},
     "output_type": "display_data"
    }
   ],
   "source": [
    "head(df_voos)\n",
    "dim(df_voos)"
   ]
  },
  {
   "cell_type": "markdown",
   "id": "9082b725",
   "metadata": {},
   "source": [
    "## Teste de Hipótese:\n",
    "- HA = Os voos da DL atrasam mais do que os voos da UA.\n",
    "- H0 = Não há diferença significativa entre os atrasos da DL e UA\n",
    "\n",
    "**Como não foi especificado se o atrasado se refere a partida ou chegada, consideramos o atraso de chegada por ter mais impacto no dia a dia das pessoas.** \n",
    "- arr_delay: O atraso na chegada em minutos. Se for negativo, o voo chegou antes do horário programado."
   ]
  },
  {
   "cell_type": "code",
   "execution_count": 6,
   "id": "2ed340c0",
   "metadata": {},
   "outputs": [
    {
     "name": "stderr",
     "output_type": "stream",
     "text": [
      "Warning message:\n",
      "\"package 'dplyr' was built under R version 4.2.3\"\n",
      "\n",
      "Attaching package: 'dplyr'\n",
      "\n",
      "\n",
      "The following objects are masked from 'package:stats':\n",
      "\n",
      "    filter, lag\n",
      "\n",
      "\n",
      "The following objects are masked from 'package:base':\n",
      "\n",
      "    intersect, setdiff, setequal, union\n",
      "\n",
      "\n"
     ]
    }
   ],
   "source": [
    "library('dplyr')"
   ]
  },
  {
   "cell_type": "code",
   "execution_count": 7,
   "id": "fa00b8d5",
   "metadata": {},
   "outputs": [],
   "source": [
    "pop_data <-select(df_voos, carrier, arr_delay) #Selecionando colunas especificas"
   ]
  },
  {
   "cell_type": "code",
   "execution_count": 8,
   "id": "2393e18f",
   "metadata": {},
   "outputs": [
    {
     "data": {
      "text/html": [
       "<table class=\"dataframe\">\n",
       "<caption>A tibble: 6 × 2</caption>\n",
       "<thead>\n",
       "\t<tr><th scope=col>carrier</th><th scope=col>arr_delay</th></tr>\n",
       "\t<tr><th scope=col>&lt;chr&gt;</th><th scope=col>&lt;dbl&gt;</th></tr>\n",
       "</thead>\n",
       "<tbody>\n",
       "\t<tr><td>UA</td><td>11</td></tr>\n",
       "\t<tr><td>UA</td><td>20</td></tr>\n",
       "\t<tr><td>UA</td><td>12</td></tr>\n",
       "\t<tr><td>UA</td><td> 7</td></tr>\n",
       "\t<tr><td>UA</td><td>14</td></tr>\n",
       "\t<tr><td>UA</td><td> 1</td></tr>\n",
       "</tbody>\n",
       "</table>\n"
      ],
      "text/latex": [
       "A tibble: 6 × 2\n",
       "\\begin{tabular}{ll}\n",
       " carrier & arr\\_delay\\\\\n",
       " <chr> & <dbl>\\\\\n",
       "\\hline\n",
       "\t UA & 11\\\\\n",
       "\t UA & 20\\\\\n",
       "\t UA & 12\\\\\n",
       "\t UA &  7\\\\\n",
       "\t UA & 14\\\\\n",
       "\t UA &  1\\\\\n",
       "\\end{tabular}\n"
      ],
      "text/markdown": [
       "\n",
       "A tibble: 6 × 2\n",
       "\n",
       "| carrier &lt;chr&gt; | arr_delay &lt;dbl&gt; |\n",
       "|---|---|\n",
       "| UA | 11 |\n",
       "| UA | 20 |\n",
       "| UA | 12 |\n",
       "| UA |  7 |\n",
       "| UA | 14 |\n",
       "| UA |  1 |\n",
       "\n"
      ],
      "text/plain": [
       "  carrier arr_delay\n",
       "1 UA      11       \n",
       "2 UA      20       \n",
       "3 UA      12       \n",
       "4 UA       7       \n",
       "5 UA      14       \n",
       "6 UA       1       "
      ]
     },
     "metadata": {},
     "output_type": "display_data"
    },
    {
     "data": {
      "text/html": [
       "<style>\n",
       ".list-inline {list-style: none; margin:0; padding: 0}\n",
       ".list-inline>li {display: inline-block}\n",
       ".list-inline>li:not(:last-child)::after {content: \"\\00b7\"; padding: 0 .5ex}\n",
       "</style>\n",
       "<ol class=list-inline><li>40335</li><li>2</li></ol>\n"
      ],
      "text/latex": [
       "\\begin{enumerate*}\n",
       "\\item 40335\n",
       "\\item 2\n",
       "\\end{enumerate*}\n"
      ],
      "text/markdown": [
       "1. 40335\n",
       "2. 2\n",
       "\n",
       "\n"
      ],
      "text/plain": [
       "[1] 40335     2"
      ]
     },
     "metadata": {},
     "output_type": "display_data"
    }
   ],
   "source": [
    "head(pop_data) \n",
    "dim(pop_data)"
   ]
  },
  {
   "cell_type": "code",
   "execution_count": 9,
   "id": "fd84bfd2",
   "metadata": {},
   "outputs": [
    {
     "data": {
      "text/html": [
       "<style>\n",
       ".dl-inline {width: auto; margin:0; padding: 0}\n",
       ".dl-inline>dt, .dl-inline>dd {float: none; width: auto; display: inline-block}\n",
       ".dl-inline>dt::after {content: \":\\0020\"; padding-right: .5ex}\n",
       ".dl-inline>dt:not(:first-of-type) {padding-left: .5ex}\n",
       "</style><dl class=dl-inline><dt>carrier</dt><dd>0</dd><dt>arr_delay</dt><dd>0</dd></dl>\n"
      ],
      "text/latex": [
       "\\begin{description*}\n",
       "\\item[carrier] 0\n",
       "\\item[arr\\textbackslash{}\\_delay] 0\n",
       "\\end{description*}\n"
      ],
      "text/markdown": [
       "carrier\n",
       ":   0arr_delay\n",
       ":   0\n",
       "\n"
      ],
      "text/plain": [
       "  carrier arr_delay \n",
       "        0         0 "
      ]
     },
     "metadata": {},
     "output_type": "display_data"
    }
   ],
   "source": [
    "#verificando valores ausentes no novo DataFrame\n",
    "colSums(is.na(pop_data))"
   ]
  },
  {
   "cell_type": "code",
   "execution_count": 10,
   "id": "82c526a1",
   "metadata": {},
   "outputs": [
    {
     "data": {
      "text/html": [
       "<table class=\"dataframe\">\n",
       "<caption>A tibble: 6 × 3</caption>\n",
       "<thead>\n",
       "\t<tr><th scope=col>carrier</th><th scope=col>arr_delay</th><th scope=col>Id</th></tr>\n",
       "\t<tr><th scope=col>&lt;chr&gt;</th><th scope=col>&lt;dbl&gt;</th><th scope=col>&lt;dbl&gt;</th></tr>\n",
       "</thead>\n",
       "<tbody>\n",
       "\t<tr><td>DL</td><td>291</td><td>1</td></tr>\n",
       "\t<tr><td>DL</td><td>  9</td><td>1</td></tr>\n",
       "\t<tr><td>DL</td><td>  0</td><td>1</td></tr>\n",
       "\t<tr><td>DL</td><td>  0</td><td>1</td></tr>\n",
       "\t<tr><td>DL</td><td> 27</td><td>1</td></tr>\n",
       "\t<tr><td>DL</td><td> 22</td><td>1</td></tr>\n",
       "</tbody>\n",
       "</table>\n"
      ],
      "text/latex": [
       "A tibble: 6 × 3\n",
       "\\begin{tabular}{lll}\n",
       " carrier & arr\\_delay & Id\\\\\n",
       " <chr> & <dbl> & <dbl>\\\\\n",
       "\\hline\n",
       "\t DL & 291 & 1\\\\\n",
       "\t DL &   9 & 1\\\\\n",
       "\t DL &   0 & 1\\\\\n",
       "\t DL &   0 & 1\\\\\n",
       "\t DL &  27 & 1\\\\\n",
       "\t DL &  22 & 1\\\\\n",
       "\\end{tabular}\n"
      ],
      "text/markdown": [
       "\n",
       "A tibble: 6 × 3\n",
       "\n",
       "| carrier &lt;chr&gt; | arr_delay &lt;dbl&gt; | Id &lt;dbl&gt; |\n",
       "|---|---|---|\n",
       "| DL | 291 | 1 |\n",
       "| DL |   9 | 1 |\n",
       "| DL |   0 | 1 |\n",
       "| DL |   0 | 1 |\n",
       "| DL |  27 | 1 |\n",
       "| DL |  22 | 1 |\n",
       "\n"
      ],
      "text/plain": [
       "  carrier arr_delay Id\n",
       "1 DL      291       1 \n",
       "2 DL        9       1 \n",
       "3 DL        0       1 \n",
       "4 DL        0       1 \n",
       "5 DL       27       1 \n",
       "6 DL       22       1 "
      ]
     },
     "metadata": {},
     "output_type": "display_data"
    },
    {
     "data": {
      "text/html": [
       "<style>\n",
       ".list-inline {list-style: none; margin:0; padding: 0}\n",
       ".list-inline>li {display: inline-block}\n",
       ".list-inline>li:not(:last-child)::after {content: \"\\00b7\"; padding: 0 .5ex}\n",
       "</style>\n",
       "<ol class=list-inline><li>1000</li><li>3</li></ol>\n"
      ],
      "text/latex": [
       "\\begin{enumerate*}\n",
       "\\item 1000\n",
       "\\item 3\n",
       "\\end{enumerate*}\n"
      ],
      "text/markdown": [
       "1. 1000\n",
       "2. 3\n",
       "\n",
       "\n"
      ],
      "text/plain": [
       "[1] 1000    3"
      ]
     },
     "metadata": {},
     "output_type": "display_data"
    }
   ],
   "source": [
    "#Divindo o dataset em duas amostras de 1000 observações para cada companhia aerea\n",
    "amostra1 <- pop_data %>%\n",
    "filter(carrier =='DL') %>% #Seleciona linhas especificas\n",
    "sample_n(size = 1000,replace = FALSE)%>% #amostragem sem reposição\n",
    "mutate(Id = 1) #Adicionando uma coluna para identificar a companhia para realização dos testes de hipótese\n",
    "\n",
    "#A função sample_n do pacote dplyr é usada para amostrar um número específico de observações de um conjunto de dados.\n",
    "head(amostra1)\n",
    "dim(amostra1)"
   ]
  },
  {
   "cell_type": "code",
   "execution_count": 11,
   "id": "6a169186",
   "metadata": {},
   "outputs": [
    {
     "data": {
      "text/html": [
       "<table class=\"dataframe\">\n",
       "<caption>A tibble: 6 × 3</caption>\n",
       "<thead>\n",
       "\t<tr><th scope=col>carrier</th><th scope=col>arr_delay</th><th scope=col>Id</th></tr>\n",
       "\t<tr><th scope=col>&lt;chr&gt;</th><th scope=col>&lt;dbl&gt;</th><th scope=col>&lt;dbl&gt;</th></tr>\n",
       "</thead>\n",
       "<tbody>\n",
       "\t<tr><td>UA</td><td>84</td><td>2</td></tr>\n",
       "\t<tr><td>UA</td><td>21</td><td>2</td></tr>\n",
       "\t<tr><td>UA</td><td> 8</td><td>2</td></tr>\n",
       "\t<tr><td>UA</td><td>17</td><td>2</td></tr>\n",
       "\t<tr><td>UA</td><td>52</td><td>2</td></tr>\n",
       "\t<tr><td>UA</td><td>85</td><td>2</td></tr>\n",
       "</tbody>\n",
       "</table>\n"
      ],
      "text/latex": [
       "A tibble: 6 × 3\n",
       "\\begin{tabular}{lll}\n",
       " carrier & arr\\_delay & Id\\\\\n",
       " <chr> & <dbl> & <dbl>\\\\\n",
       "\\hline\n",
       "\t UA & 84 & 2\\\\\n",
       "\t UA & 21 & 2\\\\\n",
       "\t UA &  8 & 2\\\\\n",
       "\t UA & 17 & 2\\\\\n",
       "\t UA & 52 & 2\\\\\n",
       "\t UA & 85 & 2\\\\\n",
       "\\end{tabular}\n"
      ],
      "text/markdown": [
       "\n",
       "A tibble: 6 × 3\n",
       "\n",
       "| carrier &lt;chr&gt; | arr_delay &lt;dbl&gt; | Id &lt;dbl&gt; |\n",
       "|---|---|---|\n",
       "| UA | 84 | 2 |\n",
       "| UA | 21 | 2 |\n",
       "| UA |  8 | 2 |\n",
       "| UA | 17 | 2 |\n",
       "| UA | 52 | 2 |\n",
       "| UA | 85 | 2 |\n",
       "\n"
      ],
      "text/plain": [
       "  carrier arr_delay Id\n",
       "1 UA      84        2 \n",
       "2 UA      21        2 \n",
       "3 UA       8        2 \n",
       "4 UA      17        2 \n",
       "5 UA      52        2 \n",
       "6 UA      85        2 "
      ]
     },
     "metadata": {},
     "output_type": "display_data"
    },
    {
     "data": {
      "text/html": [
       "<style>\n",
       ".list-inline {list-style: none; margin:0; padding: 0}\n",
       ".list-inline>li {display: inline-block}\n",
       ".list-inline>li:not(:last-child)::after {content: \"\\00b7\"; padding: 0 .5ex}\n",
       "</style>\n",
       "<ol class=list-inline><li>1000</li><li>3</li></ol>\n"
      ],
      "text/latex": [
       "\\begin{enumerate*}\n",
       "\\item 1000\n",
       "\\item 3\n",
       "\\end{enumerate*}\n"
      ],
      "text/markdown": [
       "1. 1000\n",
       "2. 3\n",
       "\n",
       "\n"
      ],
      "text/plain": [
       "[1] 1000    3"
      ]
     },
     "metadata": {},
     "output_type": "display_data"
    }
   ],
   "source": [
    "#Divindo o dataset em duas amostras de 1000 observações para cada companhia\n",
    "amostra2 <- pop_data %>%\n",
    "filter(carrier == 'UA') %>%\n",
    "sample_n(size = 1000, replace = FALSE) %>%\n",
    "mutate(Id = 2) \n",
    "\n",
    "head(amostra2)\n",
    "dim(amostra2)"
   ]
  },
  {
   "cell_type": "code",
   "execution_count": 12,
   "id": "1fe22214",
   "metadata": {},
   "outputs": [
    {
     "data": {
      "text/plain": [
       "   carrier            arr_delay            Id   \n",
       " Length:1000        Min.   :  0.00   Min.   :1  \n",
       " Class :character   1st Qu.:  6.00   1st Qu.:1  \n",
       " Mode  :character   Median : 15.00   Median :1  \n",
       "                    Mean   : 35.20   Mean   :1  \n",
       "                    3rd Qu.: 41.25   3rd Qu.:1  \n",
       "                    Max.   :561.00   Max.   :1  "
      ]
     },
     "metadata": {},
     "output_type": "display_data"
    }
   ],
   "source": [
    "#Resumno estatística  da amostra 1:  DL\n",
    "summary(amostra1)"
   ]
  },
  {
   "cell_type": "code",
   "execution_count": 13,
   "id": "28ad4e0e",
   "metadata": {},
   "outputs": [
    {
     "data": {
      "text/plain": [
       "   carrier            arr_delay            Id   \n",
       " Length:1000        Min.   :  0.00   Min.   :2  \n",
       " Class :character   1st Qu.:  6.00   1st Qu.:2  \n",
       " Mode  :character   Median : 17.50   Median :2  \n",
       "                    Mean   : 35.29   Mean   :2  \n",
       "                    3rd Qu.: 43.00   3rd Qu.:2  \n",
       "                    Max.   :383.00   Max.   :2  "
      ]
     },
     "metadata": {},
     "output_type": "display_data"
    }
   ],
   "source": [
    "#Resumno estatística  da amostra 2:  UA\n",
    "summary(amostra2)"
   ]
  },
  {
   "cell_type": "markdown",
   "id": "33ea56d4",
   "metadata": {},
   "source": [
    "### Agora vamos calcular o intervalo de confiança para um nível de confiança de 95% para amostra1 e amostra2 "
   ]
  },
  {
   "cell_type": "code",
   "execution_count": 14,
   "id": "79485ce1",
   "metadata": {},
   "outputs": [
    {
     "data": {
      "text/html": [
       "<style>\n",
       ".list-inline {list-style: none; margin:0; padding: 0}\n",
       ".list-inline>li {display: inline-block}\n",
       ".list-inline>li:not(:last-child)::after {content: \"\\00b7\"; padding: 0 .5ex}\n",
       "</style>\n",
       "<ol class=list-inline><li>291</li><li>9</li><li>0</li><li>0</li><li>27</li><li>22</li></ol>\n"
      ],
      "text/latex": [
       "\\begin{enumerate*}\n",
       "\\item 291\n",
       "\\item 9\n",
       "\\item 0\n",
       "\\item 0\n",
       "\\item 27\n",
       "\\item 22\n",
       "\\end{enumerate*}\n"
      ],
      "text/markdown": [
       "1. 291\n",
       "2. 9\n",
       "3. 0\n",
       "4. 0\n",
       "5. 27\n",
       "6. 22\n",
       "\n",
       "\n"
      ],
      "text/plain": [
       "[1] 291   9   0   0  27  22"
      ]
     },
     "metadata": {},
     "output_type": "display_data"
    }
   ],
   "source": [
    "#Primeiro precisamos extrair a coluna da interesse: 'arr_delay'\n",
    "arr_amostra1<- amostra1$arr_delay\n",
    "head(arr_amostra1)"
   ]
  },
  {
   "cell_type": "code",
   "execution_count": 15,
   "id": "81376e49",
   "metadata": {},
   "outputs": [
    {
     "data": {
      "text/html": [
       "<style>\n",
       ".list-inline {list-style: none; margin:0; padding: 0}\n",
       ".list-inline>li {display: inline-block}\n",
       ".list-inline>li:not(:last-child)::after {content: \"\\00b7\"; padding: 0 .5ex}\n",
       "</style>\n",
       "<ol class=list-inline><li>84</li><li>21</li><li>8</li><li>17</li><li>52</li><li>85</li></ol>\n"
      ],
      "text/latex": [
       "\\begin{enumerate*}\n",
       "\\item 84\n",
       "\\item 21\n",
       "\\item 8\n",
       "\\item 17\n",
       "\\item 52\n",
       "\\item 85\n",
       "\\end{enumerate*}\n"
      ],
      "text/markdown": [
       "1. 84\n",
       "2. 21\n",
       "3. 8\n",
       "4. 17\n",
       "5. 52\n",
       "6. 85\n",
       "\n",
       "\n"
      ],
      "text/plain": [
       "[1] 84 21  8 17 52 85"
      ]
     },
     "metadata": {},
     "output_type": "display_data"
    }
   ],
   "source": [
    "arr_amostra2<- amostra2$arr_delay\n",
    "head(arr_amostra2)"
   ]
  },
  {
   "cell_type": "code",
   "execution_count": 16,
   "id": "093cfc8d",
   "metadata": {},
   "outputs": [
    {
     "data": {
      "text/html": [
       "<table class=\"dataframe\">\n",
       "<caption>A data.frame: 10 × 2</caption>\n",
       "<thead>\n",
       "\t<tr><th scope=col>Nivel_de_Confianca</th><th scope=col>Valor_Z</th></tr>\n",
       "\t<tr><th scope=col>&lt;dbl&gt;</th><th scope=col>&lt;dbl&gt;</th></tr>\n",
       "</thead>\n",
       "<tbody>\n",
       "\t<tr><td>0.90</td><td>1.645</td></tr>\n",
       "\t<tr><td>0.91</td><td>1.695</td></tr>\n",
       "\t<tr><td>0.92</td><td>1.751</td></tr>\n",
       "\t<tr><td>0.93</td><td>1.812</td></tr>\n",
       "\t<tr><td>0.94</td><td>1.881</td></tr>\n",
       "\t<tr><td>0.95</td><td>1.960</td></tr>\n",
       "\t<tr><td>0.96</td><td>2.054</td></tr>\n",
       "\t<tr><td>0.97</td><td>2.170</td></tr>\n",
       "\t<tr><td>0.98</td><td>2.326</td></tr>\n",
       "\t<tr><td>0.99</td><td>2.576</td></tr>\n",
       "</tbody>\n",
       "</table>\n"
      ],
      "text/latex": [
       "A data.frame: 10 × 2\n",
       "\\begin{tabular}{ll}\n",
       " Nivel\\_de\\_Confianca & Valor\\_Z\\\\\n",
       " <dbl> & <dbl>\\\\\n",
       "\\hline\n",
       "\t 0.90 & 1.645\\\\\n",
       "\t 0.91 & 1.695\\\\\n",
       "\t 0.92 & 1.751\\\\\n",
       "\t 0.93 & 1.812\\\\\n",
       "\t 0.94 & 1.881\\\\\n",
       "\t 0.95 & 1.960\\\\\n",
       "\t 0.96 & 2.054\\\\\n",
       "\t 0.97 & 2.170\\\\\n",
       "\t 0.98 & 2.326\\\\\n",
       "\t 0.99 & 2.576\\\\\n",
       "\\end{tabular}\n"
      ],
      "text/markdown": [
       "\n",
       "A data.frame: 10 × 2\n",
       "\n",
       "| Nivel_de_Confianca &lt;dbl&gt; | Valor_Z &lt;dbl&gt; |\n",
       "|---|---|\n",
       "| 0.90 | 1.645 |\n",
       "| 0.91 | 1.695 |\n",
       "| 0.92 | 1.751 |\n",
       "| 0.93 | 1.812 |\n",
       "| 0.94 | 1.881 |\n",
       "| 0.95 | 1.960 |\n",
       "| 0.96 | 2.054 |\n",
       "| 0.97 | 2.170 |\n",
       "| 0.98 | 2.326 |\n",
       "| 0.99 | 2.576 |\n",
       "\n"
      ],
      "text/plain": [
       "   Nivel_de_Confianca Valor_Z\n",
       "1  0.90               1.645  \n",
       "2  0.91               1.695  \n",
       "3  0.92               1.751  \n",
       "4  0.93               1.812  \n",
       "5  0.94               1.881  \n",
       "6  0.95               1.960  \n",
       "7  0.96               2.054  \n",
       "8  0.97               2.170  \n",
       "9  0.98               2.326  \n",
       "10 0.99               2.576  "
      ]
     },
     "metadata": {},
     "output_type": "display_data"
    }
   ],
   "source": [
    "#Criando tabela com z score e nivel de confianca\n",
    "tabela_confianca <- data.frame(\n",
    "        Nivel_de_Confianca = c(0.90, 0.91, 0.92, 0.93, 0.94, 0.95, 0.96, 0.97, 0.98, 0.99),\n",
    "        Valor_Z = c(1.645, 1.695, 1.751, 1.812, 1.881, 1.960, 2.054, 2.170, 2.326, 2.576)\n",
    "    )\n",
    "tabela_confianca"
   ]
  },
  {
   "cell_type": "code",
   "execution_count": 17,
   "id": "9334ad61",
   "metadata": {},
   "outputs": [],
   "source": [
    "# Função para calcular o intervalo de confiança\n",
    "intervalo_confian <- function(x, y) {\n",
    "    \n",
    "    if (y %in% tabela_confianca$Nivel_de_Confianca) {\n",
    "        valor_z <- tabela_confianca$Valor_Z[tabela_confianca$Nivel_de_Confianca == y]\n",
    "        cat('Valor Z:', valor_z, '\\n') # É responsável por imprimir uma mensagem no console\n",
    "        \n",
    "        # Cálculo\n",
    "        erro_padrao_dados <- sd(x) / sqrt(length(x))\n",
    "        lower <- mean(x) - valor_z * erro_padrao_dados\n",
    "        upper <- mean(x) + valor_z * erro_padrao_dados\n",
    "        cat('Limite Inferior:', lower, '\\n')\n",
    "        cat('Limite Superior', upper, '\\n')\n",
    "        \n",
    "        # Atribuir os valores de lower e upper a variáveis globais\n",
    "        #envir = .GlobalEnv especifica que queremos que essa variável seja global.\n",
    "        assign('lower', lower, envir = .GlobalEnv)\n",
    "        assign('upper', upper, envir = .GlobalEnv)\n",
    "        \n",
    "    } else {\n",
    "        cat('Valor Z não encontrado na tabela\\n')\n",
    "    }\n",
    "}"
   ]
  },
  {
   "cell_type": "code",
   "execution_count": 18,
   "id": "7a0d1e48",
   "metadata": {},
   "outputs": [
    {
     "name": "stdout",
     "output_type": "stream",
     "text": [
      "Valor Z: 1.96 \n",
      "Limite Inferior: 31.78903 \n",
      "Limite Superior 38.61297 \n"
     ]
    }
   ],
   "source": [
    "intervalo_confian(arr_amostra1, 0.95)"
   ]
  },
  {
   "cell_type": "code",
   "execution_count": 19,
   "id": "2f00516b",
   "metadata": {},
   "outputs": [],
   "source": [
    "Limite_infe1 <-lower\n",
    "Limite_supe1 <-upper"
   ]
  },
  {
   "cell_type": "code",
   "execution_count": 20,
   "id": "9ed313cf",
   "metadata": {},
   "outputs": [
    {
     "name": "stdout",
     "output_type": "stream",
     "text": [
      "Valor Z: 1.96 \n",
      "Limite Inferior: 32.21849 \n",
      "Limite Superior 38.36151 \n"
     ]
    }
   ],
   "source": [
    "intervalo_confian(arr_amostra2,0.95)"
   ]
  },
  {
   "cell_type": "code",
   "execution_count": 21,
   "id": "10bc8275",
   "metadata": {},
   "outputs": [],
   "source": [
    "Limite_infe2 <-lower\n",
    "Limite_supe2 <-upper"
   ]
  },
  {
   "cell_type": "code",
   "execution_count": 22,
   "id": "ee2b33cc",
   "metadata": {},
   "outputs": [
    {
     "data": {
      "text/html": [
       "<table class=\"dataframe\">\n",
       "<caption>A data.frame: 1 × 4</caption>\n",
       "<thead>\n",
       "\t<tr><th scope=col>Media</th><th scope=col>Lower</th><th scope=col>Upper</th><th scope=col>Grupo</th></tr>\n",
       "\t<tr><th scope=col>&lt;dbl&gt;</th><th scope=col>&lt;dbl&gt;</th><th scope=col>&lt;dbl&gt;</th><th scope=col>&lt;chr&gt;</th></tr>\n",
       "</thead>\n",
       "<tbody>\n",
       "\t<tr><td>35.201</td><td>31.78903</td><td>38.61297</td><td>Grupo 1</td></tr>\n",
       "</tbody>\n",
       "</table>\n"
      ],
      "text/latex": [
       "A data.frame: 1 × 4\n",
       "\\begin{tabular}{llll}\n",
       " Media & Lower & Upper & Grupo\\\\\n",
       " <dbl> & <dbl> & <dbl> & <chr>\\\\\n",
       "\\hline\n",
       "\t 35.201 & 31.78903 & 38.61297 & Grupo 1\\\\\n",
       "\\end{tabular}\n"
      ],
      "text/markdown": [
       "\n",
       "A data.frame: 1 × 4\n",
       "\n",
       "| Media &lt;dbl&gt; | Lower &lt;dbl&gt; | Upper &lt;dbl&gt; | Grupo &lt;chr&gt; |\n",
       "|---|---|---|---|\n",
       "| 35.201 | 31.78903 | 38.61297 | Grupo 1 |\n",
       "\n"
      ],
      "text/plain": [
       "  Media  Lower    Upper    Grupo  \n",
       "1 35.201 31.78903 38.61297 Grupo 1"
      ]
     },
     "metadata": {},
     "output_type": "display_data"
    },
    {
     "data": {
      "text/html": [
       "<table class=\"dataframe\">\n",
       "<caption>A data.frame: 1 × 4</caption>\n",
       "<thead>\n",
       "\t<tr><th scope=col>Media</th><th scope=col>Lower</th><th scope=col>Upper</th><th scope=col>Grupo</th></tr>\n",
       "\t<tr><th scope=col>&lt;dbl&gt;</th><th scope=col>&lt;dbl&gt;</th><th scope=col>&lt;dbl&gt;</th><th scope=col>&lt;chr&gt;</th></tr>\n",
       "</thead>\n",
       "<tbody>\n",
       "\t<tr><td>35.29</td><td>32.21849</td><td>38.36151</td><td>Grupo 2</td></tr>\n",
       "</tbody>\n",
       "</table>\n"
      ],
      "text/latex": [
       "A data.frame: 1 × 4\n",
       "\\begin{tabular}{llll}\n",
       " Media & Lower & Upper & Grupo\\\\\n",
       " <dbl> & <dbl> & <dbl> & <chr>\\\\\n",
       "\\hline\n",
       "\t 35.29 & 32.21849 & 38.36151 & Grupo 2\\\\\n",
       "\\end{tabular}\n"
      ],
      "text/markdown": [
       "\n",
       "A data.frame: 1 × 4\n",
       "\n",
       "| Media &lt;dbl&gt; | Lower &lt;dbl&gt; | Upper &lt;dbl&gt; | Grupo &lt;chr&gt; |\n",
       "|---|---|---|---|\n",
       "| 35.29 | 32.21849 | 38.36151 | Grupo 2 |\n",
       "\n"
      ],
      "text/plain": [
       "  Media Lower    Upper    Grupo  \n",
       "1 35.29 32.21849 38.36151 Grupo 2"
      ]
     },
     "metadata": {},
     "output_type": "display_data"
    }
   ],
   "source": [
    "# Para criar um gráfico pelo ggplot precisamos criar alguns objetos que definem os dados;\n",
    "# Armazenando a media em um objeto\n",
    "media1 <-mean(arr_amostra1)\n",
    "media2 <-mean(arr_amostra2)\n",
    "\n",
    "# Criando um data frame com os valores necessários para criação do gráfico e criando a coluna grupo para percorrer os\n",
    "#dados posteriormente. \n",
    "data1 <- data.frame(Media = media1, Lower = Limite_infe1, Upper = Limite_supe1, Grupo = 'Grupo 1')\n",
    "data2 <- data.frame(Media = media2, Lower = Limite_infe2, Upper = Limite_supe2, Grupo = 'Grupo 2')\n",
    "data1\n",
    "data2"
   ]
  },
  {
   "cell_type": "code",
   "execution_count": 23,
   "id": "912654d9",
   "metadata": {},
   "outputs": [
    {
     "name": "stderr",
     "output_type": "stream",
     "text": [
      "Warning message:\n",
      "\"package 'ggplot2' was built under R version 4.2.3\"\n"
     ]
    }
   ],
   "source": [
    "library('ggplot2')"
   ]
  },
  {
   "cell_type": "code",
   "execution_count": 24,
   "id": "16e0b742",
   "metadata": {},
   "outputs": [
    {
     "data": {
      "text/html": [
       "<table class=\"dataframe\">\n",
       "<caption>A data.frame: 2 × 4</caption>\n",
       "<thead>\n",
       "\t<tr><th scope=col>Media</th><th scope=col>Lower</th><th scope=col>Upper</th><th scope=col>Grupo</th></tr>\n",
       "\t<tr><th scope=col>&lt;dbl&gt;</th><th scope=col>&lt;dbl&gt;</th><th scope=col>&lt;dbl&gt;</th><th scope=col>&lt;chr&gt;</th></tr>\n",
       "</thead>\n",
       "<tbody>\n",
       "\t<tr><td>35.201</td><td>31.78903</td><td>38.61297</td><td>Grupo 1</td></tr>\n",
       "\t<tr><td>35.290</td><td>32.21849</td><td>38.36151</td><td>Grupo 2</td></tr>\n",
       "</tbody>\n",
       "</table>\n"
      ],
      "text/latex": [
       "A data.frame: 2 × 4\n",
       "\\begin{tabular}{llll}\n",
       " Media & Lower & Upper & Grupo\\\\\n",
       " <dbl> & <dbl> & <dbl> & <chr>\\\\\n",
       "\\hline\n",
       "\t 35.201 & 31.78903 & 38.61297 & Grupo 1\\\\\n",
       "\t 35.290 & 32.21849 & 38.36151 & Grupo 2\\\\\n",
       "\\end{tabular}\n"
      ],
      "text/markdown": [
       "\n",
       "A data.frame: 2 × 4\n",
       "\n",
       "| Media &lt;dbl&gt; | Lower &lt;dbl&gt; | Upper &lt;dbl&gt; | Grupo &lt;chr&gt; |\n",
       "|---|---|---|---|\n",
       "| 35.201 | 31.78903 | 38.61297 | Grupo 1 |\n",
       "| 35.290 | 32.21849 | 38.36151 | Grupo 2 |\n",
       "\n"
      ],
      "text/plain": [
       "  Media  Lower    Upper    Grupo  \n",
       "1 35.201 31.78903 38.61297 Grupo 1\n",
       "2 35.290 32.21849 38.36151 Grupo 2"
      ]
     },
     "metadata": {},
     "output_type": "display_data"
    }
   ],
   "source": [
    "# Criar um data frame combinado com os valores de data1 e data2 para gerar dois gráficos lado a lado,\n",
    "combined_data <- rbind(data1,data2)\n",
    "combined_data"
   ]
  },
  {
   "cell_type": "code",
   "execution_count": 25,
   "id": "2a61a575",
   "metadata": {},
   "outputs": [
    {
     "data": {
      "image/png": "[encoded data removed]",
      "text/plain": [
       "plot without title"
      ]
     },
     "metadata": {
      "image/png": {
       "height": 420,
       "width": 420
      }
     },
     "output_type": "display_data"
    }
   ],
   "source": [
    "ggplot(combined_data, aes(x = '', y = Media)) +\n",
    "  geom_linerange(aes(ymin = Lower, ymax = Upper), linewidth = 1.5, color = \"lightblue\") +\n",
    "  geom_errorbar(aes(ymin = Lower, ymax = Lower), width = 0.2, linewidth = 1.5, color = \"lightblue\") +\n",
    "  geom_errorbar(aes(ymin = Upper, ymax = Upper), width = 0.2, linewidth = 1.5, color = \"lightblue\") +\n",
    "  geom_point(size = 3.5, color = \"blue\") +\n",
    "  labs(title = \"Limite Inferior e Superior\", y = \"Média\") +\n",
    "  theme_minimal() +\n",
    "  theme(\n",
    "    text = element_text(size = 15)\n",
    "  ) +\n",
    "\n",
    "#facet_wrap(~ Grupo, ncol = 2) é usado para dividir os gráficos em painéis com base na variável 'grupo'\n",
    "facet_wrap(~ Grupo, ncol = 2) "
   ]
  },
  {
   "cell_type": "markdown",
   "id": "1e6288ee",
   "metadata": {},
   "source": [
    "### Testes de Hipóteses"
   ]
  },
  {
   "cell_type": "code",
   "execution_count": 26,
   "id": "d2942f8c",
   "metadata": {
    "scrolled": true
   },
   "outputs": [
    {
     "data": {
      "text/html": [
       "<table class=\"dataframe\">\n",
       "<caption>A tibble: 6 × 3</caption>\n",
       "<thead>\n",
       "\t<tr><th scope=col>carrier</th><th scope=col>arr_delay</th><th scope=col>Id</th></tr>\n",
       "\t<tr><th scope=col>&lt;chr&gt;</th><th scope=col>&lt;dbl&gt;</th><th scope=col>&lt;dbl&gt;</th></tr>\n",
       "</thead>\n",
       "<tbody>\n",
       "\t<tr><td>DL</td><td>291</td><td>1</td></tr>\n",
       "\t<tr><td>DL</td><td>  9</td><td>1</td></tr>\n",
       "\t<tr><td>DL</td><td>  0</td><td>1</td></tr>\n",
       "\t<tr><td>DL</td><td>  0</td><td>1</td></tr>\n",
       "\t<tr><td>DL</td><td> 27</td><td>1</td></tr>\n",
       "\t<tr><td>DL</td><td> 22</td><td>1</td></tr>\n",
       "</tbody>\n",
       "</table>\n"
      ],
      "text/latex": [
       "A tibble: 6 × 3\n",
       "\\begin{tabular}{lll}\n",
       " carrier & arr\\_delay & Id\\\\\n",
       " <chr> & <dbl> & <dbl>\\\\\n",
       "\\hline\n",
       "\t DL & 291 & 1\\\\\n",
       "\t DL &   9 & 1\\\\\n",
       "\t DL &   0 & 1\\\\\n",
       "\t DL &   0 & 1\\\\\n",
       "\t DL &  27 & 1\\\\\n",
       "\t DL &  22 & 1\\\\\n",
       "\\end{tabular}\n"
      ],
      "text/markdown": [
       "\n",
       "A tibble: 6 × 3\n",
       "\n",
       "| carrier &lt;chr&gt; | arr_delay &lt;dbl&gt; | Id &lt;dbl&gt; |\n",
       "|---|---|---|\n",
       "| DL | 291 | 1 |\n",
       "| DL |   9 | 1 |\n",
       "| DL |   0 | 1 |\n",
       "| DL |   0 | 1 |\n",
       "| DL |  27 | 1 |\n",
       "| DL |  22 | 1 |\n",
       "\n"
      ],
      "text/plain": [
       "  carrier arr_delay Id\n",
       "1 DL      291       1 \n",
       "2 DL        9       1 \n",
       "3 DL        0       1 \n",
       "4 DL        0       1 \n",
       "5 DL       27       1 \n",
       "6 DL       22       1 "
      ]
     },
     "metadata": {},
     "output_type": "display_data"
    },
    {
     "data": {
      "text/html": [
       "<style>\n",
       ".list-inline {list-style: none; margin:0; padding: 0}\n",
       ".list-inline>li {display: inline-block}\n",
       ".list-inline>li:not(:last-child)::after {content: \"\\00b7\"; padding: 0 .5ex}\n",
       "</style>\n",
       "<ol class=list-inline><li>2000</li><li>3</li></ol>\n"
      ],
      "text/latex": [
       "\\begin{enumerate*}\n",
       "\\item 2000\n",
       "\\item 3\n",
       "\\end{enumerate*}\n"
      ],
      "text/markdown": [
       "1. 2000\n",
       "2. 3\n",
       "\n",
       "\n"
      ],
      "text/plain": [
       "[1] 2000    3"
      ]
     },
     "metadata": {},
     "output_type": "display_data"
    }
   ],
   "source": [
    "#Combinando os DF para realizar os testes de hipóteses:\n",
    "amostra_combin <- rbind(amostra1,amostra2)\n",
    "head(amostra_combin)\n",
    "dim(amostra_combin)"
   ]
  },
  {
   "cell_type": "markdown",
   "id": "e0e3d35d",
   "metadata": {},
   "source": [
    "### HIPÓTESES TESTADAS\n",
    "- HA = Os voos da DL atrasam mais do que os voos da UA.\n",
    "- H0 = Não há diferença significativa entre os atrasos da DL e UA\n",
    "\n",
    "\n",
    "### Podemos usar o Teste t de duas amostras (teste t de Student):\n",
    "É usado quando desejamos realizar um teste t pareado para comparar as médias de duas amostras.  \n",
    "\n",
    "**A hipótese nula (H0) para este teste é que não há diferença significativa entre as médias das duas amostras emparelhadas, e a hipótese alternativa (Ha) é que há uma diferença significativa.**\n",
    "\n",
    "   ### Precisamos validar duas suposições se a amostra segue uma distribuição normal para isto, utilizaremos o teste de Shapiro-Wilk em que:  \n",
    "    - H0(Hipótese Nula) = Os dados seguem uma distribuição normal.\n",
    "    - HA (Hipótese Alternativa) = Os dados não seguem uma distribuição normal.\n",
    "    \n",
    "   ### E também é necessário verificar  se as médias das amostras têm a mesma variância (ou que não há diferença significativa na variância das médias) para isto utilizaremos o teste F:  \n",
    "    - H0(Hipótese Nula)= As médias de dados extraídos de uma população normalmente distribuída têm a mesma variância.\n",
    "    - HA (Hipótese Alternativa)= As médias de dados extraídos de uma população normalmente distribuída não têm a mesma variância."
   ]
  },
  {
   "cell_type": "code",
   "execution_count": 27,
   "id": "f1dc8f2d",
   "metadata": {},
   "outputs": [],
   "source": [
    "#Divindo a coluna Id pelas observações 1 e 2:\n",
    "id_dl <- amostra_combin$Id ==1"
   ]
  },
  {
   "cell_type": "code",
   "execution_count": 28,
   "id": "6e3892e2",
   "metadata": {},
   "outputs": [
    {
     "data": {
      "text/plain": [
       "\n",
       "\tShapiro-Wilk normality test\n",
       "\n",
       "data:  amostra_combin$arr_delay[id_dl]\n",
       "W = 0.60639, p-value < 2.2e-16\n"
      ]
     },
     "metadata": {},
     "output_type": "display_data"
    }
   ],
   "source": [
    "# Teste de Shapiro para Id : DL\n",
    "shapiro.test(amostra_combin$arr_delay[id_dl])"
   ]
  },
  {
   "cell_type": "code",
   "execution_count": 29,
   "id": "f66b1ba4",
   "metadata": {},
   "outputs": [
    {
     "data": {
      "text/plain": [
       "\n",
       "\tShapiro-Wilk normality test\n",
       "\n",
       "data:  amostra_combin$arr_delay[!id_dl]\n",
       "W = 0.66508, p-value < 2.2e-16\n"
      ]
     },
     "metadata": {},
     "output_type": "display_data"
    }
   ],
   "source": [
    "# Teste de Shapiro para Id :UA\n",
    "shapiro.test(amostra_combin$arr_delay[!id_dl])"
   ]
  },
  {
   "cell_type": "code",
   "execution_count": 30,
   "id": "007f7ae8",
   "metadata": {},
   "outputs": [
    {
     "data": {
      "text/plain": [
       "\n",
       "\tF test to compare two variances\n",
       "\n",
       "data:  arr_delay by Id\n",
       "F = 1.234, num df = 999, denom df = 999, p-value = 0.0009047\n",
       "alternative hypothesis: true ratio of variances is not equal to 1\n",
       "95 percent confidence interval:\n",
       " 1.089964 1.397002\n",
       "sample estimates:\n",
       "ratio of variances \n",
       "           1.23397 \n"
      ]
     },
     "metadata": {},
     "output_type": "display_data"
    }
   ],
   "source": [
    "#Aplicando teste F, variável dependente como arr_delay, variável id = independente;\n",
    "var.test(arr_delay ~ Id, data = amostra_combin)"
   ]
  },
  {
   "cell_type": "markdown",
   "id": "2811129d",
   "metadata": {},
   "source": [
    "### Como ambos os testes apresentaram um valor de p menor que 0,05, isto sugere temos evidência estatística para rejeitar a hipótese nula, neste caso podemos assumir que:\n",
    "- Teste de Shapiro-Wilk: HA (Hipótese Alternativa) = Os dados não seguem uma distribuição normal.\n",
    "- Teste F: HA (Hipótese Alternativa)= As médias de dados extraídos de uma população normalmente distribuída não têm a mesma variância.\n",
    "\n",
    "### Neste caso usaremos o Teste t de duas amostras de Welch:\n",
    "- Também conhecido como teste t não pareado com variâncias desiguais:\n",
    "\n",
    "Usamos o teste t de duas amostras de Welch quando temos duas amostras independentes, mas não podemos assumir igualdade das variâncias entre as amostras **(heterocedasticidade)**. Isso significa que as variâncias nas duas amostras são significativamente diferentes.O teste t de duas amostras de Welch é apropriado quando você deseja comparar as médias de duas amostras independentes e as variâncias nas duas amostras são diferentes.\n",
    "\n",
    "**A hipótese nula (H0) para esse teste é que as duas médias são iguais, e a hipótese alternativa (Ha) é que a média da primeira amostra é maior do que a média da segunda amostra.**"
   ]
  },
  {
   "cell_type": "code",
   "execution_count": 31,
   "id": "596c3d41",
   "metadata": {},
   "outputs": [
    {
     "data": {
      "text/plain": [
       "\n",
       "\tWelch Two Sample t-test\n",
       "\n",
       "data:  amostra1$arr_delay and amostra2$arr_delay\n",
       "t = -0.037997, df = 1976.3, p-value = 0.5152\n",
       "alternative hypothesis: true difference in means is greater than 0\n",
       "95 percent confidence interval:\n",
       " -3.943482       Inf\n",
       "sample estimates:\n",
       "mean of x mean of y \n",
       "   35.201    35.290 \n"
      ]
     },
     "metadata": {},
     "output_type": "display_data"
    }
   ],
   "source": [
    "t.test(amostra1$arr_delay,amostra2$arr_delay, alternative = 'greater')"
   ]
  },
  {
   "cell_type": "markdown",
   "id": "54047c1d",
   "metadata": {},
   "source": [
    "### Neste caso, falhamos em rejeitar a hipótese nula, pois p-valor é maior que o nível de significância (α =0,05) estabelecido a priori. Isto significa que há uma probabilidade alta de não haver diferença significativa entre os atrasos das duas companhias.  Desta forma, para os nosso dados, não há evidência estatística que a DL atrase mais que a UA."
   ]
  }
 ],
 "metadata": {
  "kernelspec": {
   "display_name": "R",
   "language": "R",
   "name": "ir"
  },
  "language_info": {
   "codemirror_mode": "r",
   "file_extension": ".r",
   "mimetype": "text/x-r-source",
   "name": "R",
   "pygments_lexer": "r",
   "version": "4.2.2"
  }
 },
 "nbformat": 4,
 "nbformat_minor": 5
}
